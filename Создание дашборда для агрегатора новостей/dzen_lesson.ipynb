{
 "cells": [
  {
   "cell_type": "markdown",
   "id": "677154a4",
   "metadata": {},
   "source": [
    "# Создание дашборда по пользовательским событиям для агрегатора новостей"
   ]
  },
  {
   "cell_type": "markdown",
   "id": "31614473",
   "metadata": {},
   "source": [
    "Для создания дашборда необходимо выгрузить данные из базы"
   ]
  },
  {
   "cell_type": "code",
   "execution_count": 1,
   "id": "11bd0af0",
   "metadata": {},
   "outputs": [
    {
     "name": "stdout",
     "output_type": "stream",
     "text": [
      "Requirement already satisfied: psycopg2-binary in c:\\users\\bellocal\\appdata\\roaming\\python\\python39\\site-packages (2.9.6)\n"
     ]
    },
    {
     "name": "stderr",
     "output_type": "stream",
     "text": [
      "ЌҐ г¤ Ґвбп ­ ©вЁ гЄ § ­­л© д ©«.\n"
     ]
    }
   ],
   "source": [
    "!pip install psycopg2-binary\n",
    "!python -m pip install --upgrade 'sqlalchemy<2.0'"
   ]
  },
  {
   "cell_type": "code",
   "execution_count": 2,
   "id": "e3cf954d",
   "metadata": {},
   "outputs": [
    {
     "data": {
      "text/html": [
       "<div>\n",
       "<style scoped>\n",
       "    .dataframe tbody tr th:only-of-type {\n",
       "        vertical-align: middle;\n",
       "    }\n",
       "\n",
       "    .dataframe tbody tr th {\n",
       "        vertical-align: top;\n",
       "    }\n",
       "\n",
       "    .dataframe thead th {\n",
       "        text-align: right;\n",
       "    }\n",
       "</style>\n",
       "<table border=\"1\" class=\"dataframe\">\n",
       "  <thead>\n",
       "    <tr style=\"text-align: right;\">\n",
       "      <th></th>\n",
       "      <th>item_topic</th>\n",
       "      <th>source_topic</th>\n",
       "      <th>age_segment</th>\n",
       "      <th>dt</th>\n",
       "      <th>visits</th>\n",
       "    </tr>\n",
       "    <tr>\n",
       "      <th>record_id</th>\n",
       "      <th></th>\n",
       "      <th></th>\n",
       "      <th></th>\n",
       "      <th></th>\n",
       "      <th></th>\n",
       "    </tr>\n",
       "  </thead>\n",
       "  <tbody>\n",
       "    <tr>\n",
       "      <th>1040597</th>\n",
       "      <td>Деньги</td>\n",
       "      <td>Авто</td>\n",
       "      <td>18-25</td>\n",
       "      <td>2019-09-24 18:32:00</td>\n",
       "      <td>3</td>\n",
       "    </tr>\n",
       "    <tr>\n",
       "      <th>1040598</th>\n",
       "      <td>Деньги</td>\n",
       "      <td>Авто</td>\n",
       "      <td>18-25</td>\n",
       "      <td>2019-09-24 18:35:00</td>\n",
       "      <td>1</td>\n",
       "    </tr>\n",
       "    <tr>\n",
       "      <th>1040599</th>\n",
       "      <td>Деньги</td>\n",
       "      <td>Авто</td>\n",
       "      <td>18-25</td>\n",
       "      <td>2019-09-24 18:54:00</td>\n",
       "      <td>4</td>\n",
       "    </tr>\n",
       "    <tr>\n",
       "      <th>1040600</th>\n",
       "      <td>Деньги</td>\n",
       "      <td>Авто</td>\n",
       "      <td>18-25</td>\n",
       "      <td>2019-09-24 18:55:00</td>\n",
       "      <td>17</td>\n",
       "    </tr>\n",
       "    <tr>\n",
       "      <th>1040601</th>\n",
       "      <td>Деньги</td>\n",
       "      <td>Авто</td>\n",
       "      <td>18-25</td>\n",
       "      <td>2019-09-24 18:56:00</td>\n",
       "      <td>27</td>\n",
       "    </tr>\n",
       "    <tr>\n",
       "      <th>1040602</th>\n",
       "      <td>Деньги</td>\n",
       "      <td>Авто</td>\n",
       "      <td>18-25</td>\n",
       "      <td>2019-09-24 18:57:00</td>\n",
       "      <td>22</td>\n",
       "    </tr>\n",
       "    <tr>\n",
       "      <th>1040603</th>\n",
       "      <td>Деньги</td>\n",
       "      <td>Авто</td>\n",
       "      <td>18-25</td>\n",
       "      <td>2019-09-24 18:58:00</td>\n",
       "      <td>24</td>\n",
       "    </tr>\n",
       "    <tr>\n",
       "      <th>1040604</th>\n",
       "      <td>Деньги</td>\n",
       "      <td>Авто</td>\n",
       "      <td>18-25</td>\n",
       "      <td>2019-09-24 18:59:00</td>\n",
       "      <td>20</td>\n",
       "    </tr>\n",
       "    <tr>\n",
       "      <th>1040605</th>\n",
       "      <td>Деньги</td>\n",
       "      <td>Авто</td>\n",
       "      <td>18-25</td>\n",
       "      <td>2019-09-24 19:00:00</td>\n",
       "      <td>5</td>\n",
       "    </tr>\n",
       "    <tr>\n",
       "      <th>1040606</th>\n",
       "      <td>Деньги</td>\n",
       "      <td>Авто</td>\n",
       "      <td>26-30</td>\n",
       "      <td>2019-09-24 18:29:00</td>\n",
       "      <td>1</td>\n",
       "    </tr>\n",
       "  </tbody>\n",
       "</table>\n",
       "</div>"
      ],
      "text/plain": [
       "          item_topic source_topic age_segment                  dt  visits\n",
       "record_id                                                                \n",
       "1040597       Деньги         Авто       18-25 2019-09-24 18:32:00       3\n",
       "1040598       Деньги         Авто       18-25 2019-09-24 18:35:00       1\n",
       "1040599       Деньги         Авто       18-25 2019-09-24 18:54:00       4\n",
       "1040600       Деньги         Авто       18-25 2019-09-24 18:55:00      17\n",
       "1040601       Деньги         Авто       18-25 2019-09-24 18:56:00      27\n",
       "1040602       Деньги         Авто       18-25 2019-09-24 18:57:00      22\n",
       "1040603       Деньги         Авто       18-25 2019-09-24 18:58:00      24\n",
       "1040604       Деньги         Авто       18-25 2019-09-24 18:59:00      20\n",
       "1040605       Деньги         Авто       18-25 2019-09-24 19:00:00       5\n",
       "1040606       Деньги         Авто       26-30 2019-09-24 18:29:00       1"
      ]
     },
     "execution_count": 2,
     "metadata": {},
     "output_type": "execute_result"
    }
   ],
   "source": [
    "# импортируем библиотеки\n",
    "import pandas as pd\n",
    "from sqlalchemy import create_engine\n",
    "\n",
    "db_config = {'user': 'praktikum_student', # имя пользователя\n",
    "            'pwd': 'Sdf4$2;d-d30pp', # пароль\n",
    "            'host': 'rc1b-wcoijxj3yxfsf3fs.mdb.yandexcloud.net',\n",
    "            'port': 6432, # порт подключения\n",
    "            'db': 'data-analyst-zen-project-db'} # название базы данных\n",
    "\n",
    "connection_string = 'postgresql://{}:{}@{}:{}/{}'.format(db_config['user'],\n",
    "                                                db_config['pwd'],\n",
    "                                                db_config['host'],\n",
    "                                                db_config['port'],\n",
    "                                                db_config['db'])\n",
    "\n",
    "\n",
    "engine = create_engine(connection_string)\n",
    "query = ''' SELECT* FROM dash_visits'''\n",
    "\n",
    "\n",
    "dash_visits = pd.io.sql.read_sql(query, con=engine, index_col='record_id')\n",
    "dash_visits.to_csv('dash_visits.csv', index=False)\n",
    "dash_visits.head(10)"
   ]
  },
  {
   "cell_type": "markdown",
   "id": "dc3f337b",
   "metadata": {},
   "source": [
    "Источники данных для дашборда: агрегирующая таблица dash_visits. \n",
    "\n",
    "Её структура:\n",
    "- record_id — первичный ключ,\n",
    "- item_topic — тема карточки,\n",
    "- source_topic — тема источника,\n",
    "- age_segment — возрастной сегмент,\n",
    "- dt — дата и время,\n",
    "- visits — количество событий."
   ]
  },
  {
   "cell_type": "code",
   "execution_count": null,
   "id": "93efb61e",
   "metadata": {},
   "outputs": [],
   "source": []
  }
 ],
 "metadata": {
  "kernelspec": {
   "display_name": "Python 3 (ipykernel)",
   "language": "python",
   "name": "python3"
  },
  "language_info": {
   "codemirror_mode": {
    "name": "ipython",
    "version": 3
   },
   "file_extension": ".py",
   "mimetype": "text/x-python",
   "name": "python",
   "nbconvert_exporter": "python",
   "pygments_lexer": "ipython3",
   "version": "3.9.13"
  }
 },
 "nbformat": 4,
 "nbformat_minor": 5
}
