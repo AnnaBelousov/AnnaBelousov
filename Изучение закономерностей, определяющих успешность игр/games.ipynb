{
 "cells": [
  {
   "cell_type": "markdown",
   "metadata": {},
   "source": [
    "# Сборный проект о продажах компьютерных игр\n",
    "\n",
    "Интернет-магазине «Стримчик» продаёт по всему миру компьютерные игры. Из открытых источников доступны исторические данные о продажах игр, оценки пользователей и экспертов, жанры и платформы (например, Xbox или PlayStation). Нужно выявить определяющие успешность игры закономерности. Это позволит сделать ставку на потенциально популярный продукт и спланировать рекламные кампании.\n",
    "Есть данные до 2016 года. Представим, что сейчас декабрь 2016 г., и нужно спланировать кампанию на 2017-й. Нужно отработать принцип работы с данными. \n",
    "\n",
    "Шаг 1. Открыть файл с данными и изучить общую информацию\n",
    "\n",
    "Шаг 2. Подготовка данных\n",
    "- Заменить названия столбцов;\n",
    "- Преобразовать данные в нужные типы. Опишисать, в каких столбцах заменили тип данных и почему;\n",
    "- Обработать пропуски при необходимости:\n",
    "- Объяснить, заполнение пропусков определённым образом;\n",
    "- Описать причины, которые могли привести к пропускам;\n",
    "- Посчитать суммарные продажи во всех регионах и записать их в отдельный столбец.\n",
    "\n",
    "Шаг 3. Исследовательский анализ данных\n",
    "- Сколько игр выпускалось в разные годы. Важны ли данные за все периоды?\n",
    "- Как менялись продажи по платформам. Выберать платформы с наибольшими суммарными продажами и построить распределение по годам. - За какой характерный срок появляются новые и исчезают старые платформы?\n",
    "- Какие платформы лидируют по продажам, растут или падают? Выберать несколько потенциально прибыльных платформ.\n",
    "- Посмотреть, как влияют на продажи внутри одной популярной платформы отзывы пользователей и критиков. Постройте диаграмму рассеяния и посчитайте корреляцию между отзывами и продажами. Сформулируйте выводы.\n",
    "- Посмотреть на общее распределение игр по жанрам. \n",
    "\n",
    "Шаг 4. Портрет пользователя каждого региона\n",
    "- Определите для пользователя каждого региона (NA, EU, JP): Самые популярные платформы (топ-5). Самые популярные жанры (топ-5). \n",
    "- Влияет ли рейтинг ESRB на продажи в отдельном регионе?\n",
    "\n",
    "Шаг 5. Проверка гипотез\n",
    "- Средние пользовательские рейтинги платформ Xbox One и PC одинаковые;\n",
    "- Средние пользовательские рейтинги жанров Action (англ. «действие», экшен-игры) и Sports (англ. «спортивные соревнования») разные.\n",
    "\n",
    "Шаг 6. Общий вывод\n",
    "\n",
    "Описание данных\n",
    "- Name — название игры\n",
    "-  Platform — платформа\n",
    "- Year_of_Release — год выпуска\n",
    "- Genre — жанр игры\n",
    "- NA_sales — продажи в Северной Америке (миллионы проданных копий)\n",
    "- EU_sales — продажи в Европе (миллионы проданных копий)\n",
    "- JP_sales — продажи в Японии (миллионы проданных копий)\n",
    "- Other_sales — продажи в других странах (миллионы проданных копий)\n",
    "- Critic_Score — оценка критиков (максимум 100)\n",
    "- User_Score — оценка пользователей (максимум 10)\n",
    "- Rating — рейтинг от организации ESRB (англ. Entertainment Software Rating Board). Эта ассоциация определяет рейтинг компьютерных игр и присваивает им подходящую возрастную категорию.\n",
    "\n",
    "Данные за 2016 год могут быть неполными."
   ]
  },
  {
   "cell_type": "markdown",
   "metadata": {},
   "source": [
    "### Открываю файл с данными и изучаю общую информацию"
   ]
  },
  {
   "cell_type": "code",
   "execution_count": 1,
   "metadata": {},
   "outputs": [],
   "source": [
    "import pandas as pd\n",
    "import numpy as np\n",
    "import seaborn as sns\n",
    "from scipy import stats as st\n",
    "import math\n",
    "import matplotlib.pyplot as plt"
   ]
  },
  {
   "cell_type": "markdown",
   "metadata": {},
   "source": [
    "**1.** Открываю файл `/datasets/games.csv`, сохраняю датафрейм в переменную `data`."
   ]
  },
  {
   "cell_type": "code",
   "execution_count": 2,
   "metadata": {},
   "outputs": [],
   "source": [
    "data=pd.read_csv('/datasets/games.csv') "
   ]
  },
  {
   "cell_type": "markdown",
   "metadata": {},
   "source": [
    "### Подготовка данных"
   ]
  },
  {
   "cell_type": "markdown",
   "metadata": {},
   "source": [
    "**2.** Вывожу первые 5 строк датафрейма `data`."
   ]
  },
  {
   "cell_type": "code",
   "execution_count": 3,
   "metadata": {},
   "outputs": [
    {
     "data": {
      "text/html": [
       "<div>\n",
       "<style scoped>\n",
       "    .dataframe tbody tr th:only-of-type {\n",
       "        vertical-align: middle;\n",
       "    }\n",
       "\n",
       "    .dataframe tbody tr th {\n",
       "        vertical-align: top;\n",
       "    }\n",
       "\n",
       "    .dataframe thead th {\n",
       "        text-align: right;\n",
       "    }\n",
       "</style>\n",
       "<table border=\"1\" class=\"dataframe\">\n",
       "  <thead>\n",
       "    <tr style=\"text-align: right;\">\n",
       "      <th></th>\n",
       "      <th>Name</th>\n",
       "      <th>Platform</th>\n",
       "      <th>Year_of_Release</th>\n",
       "      <th>Genre</th>\n",
       "      <th>NA_sales</th>\n",
       "      <th>EU_sales</th>\n",
       "      <th>JP_sales</th>\n",
       "      <th>Other_sales</th>\n",
       "      <th>Critic_Score</th>\n",
       "      <th>User_Score</th>\n",
       "      <th>Rating</th>\n",
       "    </tr>\n",
       "  </thead>\n",
       "  <tbody>\n",
       "    <tr>\n",
       "      <th>0</th>\n",
       "      <td>Wii Sports</td>\n",
       "      <td>Wii</td>\n",
       "      <td>2006.0</td>\n",
       "      <td>Sports</td>\n",
       "      <td>41.36</td>\n",
       "      <td>28.96</td>\n",
       "      <td>3.77</td>\n",
       "      <td>8.45</td>\n",
       "      <td>76.0</td>\n",
       "      <td>8</td>\n",
       "      <td>E</td>\n",
       "    </tr>\n",
       "    <tr>\n",
       "      <th>1</th>\n",
       "      <td>Super Mario Bros.</td>\n",
       "      <td>NES</td>\n",
       "      <td>1985.0</td>\n",
       "      <td>Platform</td>\n",
       "      <td>29.08</td>\n",
       "      <td>3.58</td>\n",
       "      <td>6.81</td>\n",
       "      <td>0.77</td>\n",
       "      <td>NaN</td>\n",
       "      <td>NaN</td>\n",
       "      <td>NaN</td>\n",
       "    </tr>\n",
       "    <tr>\n",
       "      <th>2</th>\n",
       "      <td>Mario Kart Wii</td>\n",
       "      <td>Wii</td>\n",
       "      <td>2008.0</td>\n",
       "      <td>Racing</td>\n",
       "      <td>15.68</td>\n",
       "      <td>12.76</td>\n",
       "      <td>3.79</td>\n",
       "      <td>3.29</td>\n",
       "      <td>82.0</td>\n",
       "      <td>8.3</td>\n",
       "      <td>E</td>\n",
       "    </tr>\n",
       "    <tr>\n",
       "      <th>3</th>\n",
       "      <td>Wii Sports Resort</td>\n",
       "      <td>Wii</td>\n",
       "      <td>2009.0</td>\n",
       "      <td>Sports</td>\n",
       "      <td>15.61</td>\n",
       "      <td>10.93</td>\n",
       "      <td>3.28</td>\n",
       "      <td>2.95</td>\n",
       "      <td>80.0</td>\n",
       "      <td>8</td>\n",
       "      <td>E</td>\n",
       "    </tr>\n",
       "    <tr>\n",
       "      <th>4</th>\n",
       "      <td>Pokemon Red/Pokemon Blue</td>\n",
       "      <td>GB</td>\n",
       "      <td>1996.0</td>\n",
       "      <td>Role-Playing</td>\n",
       "      <td>11.27</td>\n",
       "      <td>8.89</td>\n",
       "      <td>10.22</td>\n",
       "      <td>1.00</td>\n",
       "      <td>NaN</td>\n",
       "      <td>NaN</td>\n",
       "      <td>NaN</td>\n",
       "    </tr>\n",
       "  </tbody>\n",
       "</table>\n",
       "</div>"
      ],
      "text/plain": [
       "                       Name Platform  Year_of_Release         Genre  NA_sales  \\\n",
       "0                Wii Sports      Wii           2006.0        Sports     41.36   \n",
       "1         Super Mario Bros.      NES           1985.0      Platform     29.08   \n",
       "2            Mario Kart Wii      Wii           2008.0        Racing     15.68   \n",
       "3         Wii Sports Resort      Wii           2009.0        Sports     15.61   \n",
       "4  Pokemon Red/Pokemon Blue       GB           1996.0  Role-Playing     11.27   \n",
       "\n",
       "   EU_sales  JP_sales  Other_sales  Critic_Score User_Score Rating  \n",
       "0     28.96      3.77         8.45          76.0          8      E  \n",
       "1      3.58      6.81         0.77           NaN        NaN    NaN  \n",
       "2     12.76      3.79         3.29          82.0        8.3      E  \n",
       "3     10.93      3.28         2.95          80.0          8      E  \n",
       "4      8.89     10.22         1.00           NaN        NaN    NaN  "
      ]
     },
     "execution_count": 3,
     "metadata": {},
     "output_type": "execute_result"
    }
   ],
   "source": [
    "data.head()"
   ]
  },
  {
   "cell_type": "markdown",
   "metadata": {},
   "source": [
    "**3.** Вывожу основную информацию для датафрейма `data` с помощью метода `info()`."
   ]
  },
  {
   "cell_type": "code",
   "execution_count": 4,
   "metadata": {},
   "outputs": [
    {
     "name": "stdout",
     "output_type": "stream",
     "text": [
      "<class 'pandas.core.frame.DataFrame'>\n",
      "RangeIndex: 16715 entries, 0 to 16714\n",
      "Data columns (total 11 columns):\n",
      " #   Column           Non-Null Count  Dtype  \n",
      "---  ------           --------------  -----  \n",
      " 0   Name             16713 non-null  object \n",
      " 1   Platform         16715 non-null  object \n",
      " 2   Year_of_Release  16446 non-null  float64\n",
      " 3   Genre            16713 non-null  object \n",
      " 4   NA_sales         16715 non-null  float64\n",
      " 5   EU_sales         16715 non-null  float64\n",
      " 6   JP_sales         16715 non-null  float64\n",
      " 7   Other_sales      16715 non-null  float64\n",
      " 8   Critic_Score     8137 non-null   float64\n",
      " 9   User_Score       10014 non-null  object \n",
      " 10  Rating           9949 non-null   object \n",
      "dtypes: float64(6), object(5)\n",
      "memory usage: 1.4+ MB\n"
     ]
    }
   ],
   "source": [
    "data.info()"
   ]
  },
  {
   "cell_type": "markdown",
   "metadata": {},
   "source": [
    "**4.** Заменяю названия столбцов (привожу к нижнему регистру)"
   ]
  },
  {
   "cell_type": "code",
   "execution_count": 5,
   "metadata": {},
   "outputs": [],
   "source": [
    "data.columns = map(str.lower, data.columns)"
   ]
  },
  {
   "cell_type": "markdown",
   "metadata": {},
   "source": [
    "**5.** Преобразовываю данные в нужные типы и работаю с пропусками"
   ]
  },
  {
   "cell_type": "markdown",
   "metadata": {},
   "source": [
    "year_of_release, critic_score - стоит преобразовать в int так как это целые значения\n",
    "<br> user_score - преобразую в float64, так как столбец содержит цифровые обозначения с плавающей точкой"
   ]
  },
  {
   "cell_type": "code",
   "execution_count": 6,
   "metadata": {},
   "outputs": [
    {
     "data": {
      "text/plain": [
       "array(['8', nan, '8.3', '8.5', '6.6', '8.4', '8.6', '7.7', '6.3', '7.4',\n",
       "       '8.2', '9', '7.9', '8.1', '8.7', '7.1', '3.4', '5.3', '4.8', '3.2',\n",
       "       '8.9', '6.4', '7.8', '7.5', '2.6', '7.2', '9.2', '7', '7.3', '4.3',\n",
       "       '7.6', '5.7', '5', '9.1', '6.5', 'tbd', '8.8', '6.9', '9.4', '6.8',\n",
       "       '6.1', '6.7', '5.4', '4', '4.9', '4.5', '9.3', '6.2', '4.2', '6',\n",
       "       '3.7', '4.1', '5.8', '5.6', '5.5', '4.4', '4.6', '5.9', '3.9',\n",
       "       '3.1', '2.9', '5.2', '3.3', '4.7', '5.1', '3.5', '2.5', '1.9', '3',\n",
       "       '2.7', '2.2', '2', '9.5', '2.1', '3.6', '2.8', '1.8', '3.8', '0',\n",
       "       '1.6', '9.6', '2.4', '1.7', '1.1', '0.3', '1.5', '0.7', '1.2',\n",
       "       '2.3', '0.5', '1.3', '0.2', '0.6', '1.4', '0.9', '1', '9.7'],\n",
       "      dtype=object)"
      ]
     },
     "execution_count": 6,
     "metadata": {},
     "output_type": "execute_result"
    }
   ],
   "source": [
    "data['user_score'].unique() # посмотрим какие значения встречаются в столбце"
   ]
  },
  {
   "cell_type": "code",
   "execution_count": 7,
   "metadata": {},
   "outputs": [
    {
     "data": {
      "text/html": [
       "<div>\n",
       "<style scoped>\n",
       "    .dataframe tbody tr th:only-of-type {\n",
       "        vertical-align: middle;\n",
       "    }\n",
       "\n",
       "    .dataframe tbody tr th {\n",
       "        vertical-align: top;\n",
       "    }\n",
       "\n",
       "    .dataframe thead th {\n",
       "        text-align: right;\n",
       "    }\n",
       "</style>\n",
       "<table border=\"1\" class=\"dataframe\">\n",
       "  <thead>\n",
       "    <tr style=\"text-align: right;\">\n",
       "      <th></th>\n",
       "      <th>name</th>\n",
       "      <th>platform</th>\n",
       "      <th>year_of_release</th>\n",
       "      <th>genre</th>\n",
       "      <th>na_sales</th>\n",
       "      <th>eu_sales</th>\n",
       "      <th>jp_sales</th>\n",
       "      <th>other_sales</th>\n",
       "      <th>critic_score</th>\n",
       "      <th>user_score</th>\n",
       "      <th>rating</th>\n",
       "    </tr>\n",
       "  </thead>\n",
       "  <tbody>\n",
       "    <tr>\n",
       "      <th>119</th>\n",
       "      <td>Zumba Fitness</td>\n",
       "      <td>Wii</td>\n",
       "      <td>2010.0</td>\n",
       "      <td>Sports</td>\n",
       "      <td>3.45</td>\n",
       "      <td>2.59</td>\n",
       "      <td>0.0</td>\n",
       "      <td>0.66</td>\n",
       "      <td>NaN</td>\n",
       "      <td>tbd</td>\n",
       "      <td>E</td>\n",
       "    </tr>\n",
       "    <tr>\n",
       "      <th>301</th>\n",
       "      <td>Namco Museum: 50th Anniversary</td>\n",
       "      <td>PS2</td>\n",
       "      <td>2005.0</td>\n",
       "      <td>Misc</td>\n",
       "      <td>2.08</td>\n",
       "      <td>1.35</td>\n",
       "      <td>0.0</td>\n",
       "      <td>0.54</td>\n",
       "      <td>61.0</td>\n",
       "      <td>tbd</td>\n",
       "      <td>E10+</td>\n",
       "    </tr>\n",
       "    <tr>\n",
       "      <th>520</th>\n",
       "      <td>Zumba Fitness 2</td>\n",
       "      <td>Wii</td>\n",
       "      <td>2011.0</td>\n",
       "      <td>Sports</td>\n",
       "      <td>1.51</td>\n",
       "      <td>1.03</td>\n",
       "      <td>0.0</td>\n",
       "      <td>0.27</td>\n",
       "      <td>NaN</td>\n",
       "      <td>tbd</td>\n",
       "      <td>T</td>\n",
       "    </tr>\n",
       "    <tr>\n",
       "      <th>645</th>\n",
       "      <td>uDraw Studio</td>\n",
       "      <td>Wii</td>\n",
       "      <td>2010.0</td>\n",
       "      <td>Misc</td>\n",
       "      <td>1.65</td>\n",
       "      <td>0.57</td>\n",
       "      <td>0.0</td>\n",
       "      <td>0.20</td>\n",
       "      <td>71.0</td>\n",
       "      <td>tbd</td>\n",
       "      <td>E</td>\n",
       "    </tr>\n",
       "    <tr>\n",
       "      <th>657</th>\n",
       "      <td>Frogger's Adventures: Temple of the Frog</td>\n",
       "      <td>GBA</td>\n",
       "      <td>NaN</td>\n",
       "      <td>Adventure</td>\n",
       "      <td>2.15</td>\n",
       "      <td>0.18</td>\n",
       "      <td>0.0</td>\n",
       "      <td>0.07</td>\n",
       "      <td>73.0</td>\n",
       "      <td>tbd</td>\n",
       "      <td>E</td>\n",
       "    </tr>\n",
       "    <tr>\n",
       "      <th>...</th>\n",
       "      <td>...</td>\n",
       "      <td>...</td>\n",
       "      <td>...</td>\n",
       "      <td>...</td>\n",
       "      <td>...</td>\n",
       "      <td>...</td>\n",
       "      <td>...</td>\n",
       "      <td>...</td>\n",
       "      <td>...</td>\n",
       "      <td>...</td>\n",
       "      <td>...</td>\n",
       "    </tr>\n",
       "    <tr>\n",
       "      <th>16695</th>\n",
       "      <td>Planet Monsters</td>\n",
       "      <td>GBA</td>\n",
       "      <td>2001.0</td>\n",
       "      <td>Action</td>\n",
       "      <td>0.01</td>\n",
       "      <td>0.00</td>\n",
       "      <td>0.0</td>\n",
       "      <td>0.00</td>\n",
       "      <td>67.0</td>\n",
       "      <td>tbd</td>\n",
       "      <td>E</td>\n",
       "    </tr>\n",
       "    <tr>\n",
       "      <th>16697</th>\n",
       "      <td>Bust-A-Move 3000</td>\n",
       "      <td>GC</td>\n",
       "      <td>2003.0</td>\n",
       "      <td>Puzzle</td>\n",
       "      <td>0.01</td>\n",
       "      <td>0.00</td>\n",
       "      <td>0.0</td>\n",
       "      <td>0.00</td>\n",
       "      <td>53.0</td>\n",
       "      <td>tbd</td>\n",
       "      <td>E</td>\n",
       "    </tr>\n",
       "    <tr>\n",
       "      <th>16698</th>\n",
       "      <td>Mega Brain Boost</td>\n",
       "      <td>DS</td>\n",
       "      <td>2008.0</td>\n",
       "      <td>Puzzle</td>\n",
       "      <td>0.01</td>\n",
       "      <td>0.00</td>\n",
       "      <td>0.0</td>\n",
       "      <td>0.00</td>\n",
       "      <td>48.0</td>\n",
       "      <td>tbd</td>\n",
       "      <td>E</td>\n",
       "    </tr>\n",
       "    <tr>\n",
       "      <th>16704</th>\n",
       "      <td>Plushees</td>\n",
       "      <td>DS</td>\n",
       "      <td>2008.0</td>\n",
       "      <td>Simulation</td>\n",
       "      <td>0.01</td>\n",
       "      <td>0.00</td>\n",
       "      <td>0.0</td>\n",
       "      <td>0.00</td>\n",
       "      <td>NaN</td>\n",
       "      <td>tbd</td>\n",
       "      <td>E</td>\n",
       "    </tr>\n",
       "    <tr>\n",
       "      <th>16706</th>\n",
       "      <td>Men in Black II: Alien Escape</td>\n",
       "      <td>GC</td>\n",
       "      <td>2003.0</td>\n",
       "      <td>Shooter</td>\n",
       "      <td>0.01</td>\n",
       "      <td>0.00</td>\n",
       "      <td>0.0</td>\n",
       "      <td>0.00</td>\n",
       "      <td>NaN</td>\n",
       "      <td>tbd</td>\n",
       "      <td>T</td>\n",
       "    </tr>\n",
       "  </tbody>\n",
       "</table>\n",
       "<p>2424 rows × 11 columns</p>\n",
       "</div>"
      ],
      "text/plain": [
       "                                           name platform  year_of_release  \\\n",
       "119                               Zumba Fitness      Wii           2010.0   \n",
       "301              Namco Museum: 50th Anniversary      PS2           2005.0   \n",
       "520                             Zumba Fitness 2      Wii           2011.0   \n",
       "645                                uDraw Studio      Wii           2010.0   \n",
       "657    Frogger's Adventures: Temple of the Frog      GBA              NaN   \n",
       "...                                         ...      ...              ...   \n",
       "16695                           Planet Monsters      GBA           2001.0   \n",
       "16697                          Bust-A-Move 3000       GC           2003.0   \n",
       "16698                          Mega Brain Boost       DS           2008.0   \n",
       "16704                                  Plushees       DS           2008.0   \n",
       "16706             Men in Black II: Alien Escape       GC           2003.0   \n",
       "\n",
       "            genre  na_sales  eu_sales  jp_sales  other_sales  critic_score  \\\n",
       "119        Sports      3.45      2.59       0.0         0.66           NaN   \n",
       "301          Misc      2.08      1.35       0.0         0.54          61.0   \n",
       "520        Sports      1.51      1.03       0.0         0.27           NaN   \n",
       "645          Misc      1.65      0.57       0.0         0.20          71.0   \n",
       "657     Adventure      2.15      0.18       0.0         0.07          73.0   \n",
       "...           ...       ...       ...       ...          ...           ...   \n",
       "16695      Action      0.01      0.00       0.0         0.00          67.0   \n",
       "16697      Puzzle      0.01      0.00       0.0         0.00          53.0   \n",
       "16698      Puzzle      0.01      0.00       0.0         0.00          48.0   \n",
       "16704  Simulation      0.01      0.00       0.0         0.00           NaN   \n",
       "16706     Shooter      0.01      0.00       0.0         0.00           NaN   \n",
       "\n",
       "      user_score rating  \n",
       "119          tbd      E  \n",
       "301          tbd   E10+  \n",
       "520          tbd      T  \n",
       "645          tbd      E  \n",
       "657          tbd      E  \n",
       "...          ...    ...  \n",
       "16695        tbd      E  \n",
       "16697        tbd      E  \n",
       "16698        tbd      E  \n",
       "16704        tbd      E  \n",
       "16706        tbd      T  \n",
       "\n",
       "[2424 rows x 11 columns]"
      ]
     },
     "execution_count": 7,
     "metadata": {},
     "output_type": "execute_result"
    }
   ],
   "source": [
    "data.query('user_score == \"tbd\"')"
   ]
  },
  {
   "cell_type": "markdown",
   "metadata": {},
   "source": [
    "Есть 11 значений с \"не определенным рейтингом\", заменю значения на NaN для того что бы поменять формат"
   ]
  },
  {
   "cell_type": "code",
   "execution_count": 8,
   "metadata": {},
   "outputs": [],
   "source": [
    "data.loc[data['user_score'] == 'tbd', 'user_score'] = np.nan\n",
    "data['user_score'] = data['user_score'].astype('float64')"
   ]
  },
  {
   "cell_type": "code",
   "execution_count": 9,
   "metadata": {},
   "outputs": [
    {
     "name": "stdout",
     "output_type": "stream",
     "text": [
      "<class 'pandas.core.frame.DataFrame'>\n",
      "RangeIndex: 16715 entries, 0 to 16714\n",
      "Data columns (total 11 columns):\n",
      " #   Column           Non-Null Count  Dtype  \n",
      "---  ------           --------------  -----  \n",
      " 0   name             16713 non-null  object \n",
      " 1   platform         16715 non-null  object \n",
      " 2   year_of_release  16446 non-null  float64\n",
      " 3   genre            16713 non-null  object \n",
      " 4   na_sales         16715 non-null  float64\n",
      " 5   eu_sales         16715 non-null  float64\n",
      " 6   jp_sales         16715 non-null  float64\n",
      " 7   other_sales      16715 non-null  float64\n",
      " 8   critic_score     8137 non-null   float64\n",
      " 9   user_score       7590 non-null   float64\n",
      " 10  rating           9949 non-null   object \n",
      "dtypes: float64(7), object(4)\n",
      "memory usage: 1.4+ MB\n"
     ]
    }
   ],
   "source": [
    "data.info() # Проверю как все прошло"
   ]
  },
  {
   "cell_type": "markdown",
   "metadata": {},
   "source": [
    "Данные с пропущенными названиями игр нужно удалить, так как они не имеют смысла без этих данных. Данные с пропусками по годам удалю, их менее 2%, если оставить, будут мешать анализу"
   ]
  },
  {
   "cell_type": "code",
   "execution_count": 10,
   "metadata": {},
   "outputs": [],
   "source": [
    "data = data.dropna(subset = ['name'])\n",
    "data = data.dropna(subset = ['year_of_release'])"
   ]
  },
  {
   "cell_type": "code",
   "execution_count": 11,
   "metadata": {},
   "outputs": [],
   "source": [
    "#data['year_of_release'] = data['year_of_release'].fillna(0)\n",
    "data[['year_of_release', 'critic_score']] = data[['year_of_release', 'critic_score']].astype('Int64')\n",
    "#data = data.astype({ \"year_of_release\": \"int64\", \"critic_score\": \"int64\"}, errors='ignore')"
   ]
  },
  {
   "cell_type": "code",
   "execution_count": 12,
   "metadata": {},
   "outputs": [
    {
     "data": {
      "text/plain": [
       "<IntegerArray>\n",
       "[  76, <NA>,   82,   80,   89,   58,   87,   91,   61,   97,   95,   77,   88,\n",
       "   83,   94,   93,   85,   86,   98,   96,   90,   84,   73,   74,   78,   92,\n",
       "   71,   72,   68,   62,   49,   67,   81,   66,   56,   79,   70,   59,   64,\n",
       "   75,   60,   63,   69,   50,   25,   42,   44,   55,   48,   57,   29,   47,\n",
       "   65,   54,   20,   53,   37,   38,   33,   52,   30,   32,   43,   45,   51,\n",
       "   40,   46,   39,   34,   41,   36,   31,   27,   35,   26,   19,   28,   23,\n",
       "   24,   21,   17,   13]\n",
       "Length: 82, dtype: Int64"
      ]
     },
     "execution_count": 12,
     "metadata": {},
     "output_type": "execute_result"
    }
   ],
   "source": [
    "data['critic_score'].unique() "
   ]
  },
  {
   "cell_type": "code",
   "execution_count": 13,
   "metadata": {},
   "outputs": [
    {
     "data": {
      "text/plain": [
       "array(['E', nan, 'M', 'T', 'E10+', 'K-A', 'AO', 'EC', 'RP'], dtype=object)"
      ]
     },
     "execution_count": 13,
     "metadata": {},
     "output_type": "execute_result"
    }
   ],
   "source": [
    "data['rating'].unique() "
   ]
  },
  {
   "cell_type": "markdown",
   "metadata": {},
   "source": [
    "critic_score, user_score - пропуски в столбцах заполнять не буду, так как это будет не корректно, игры могут быть еще не оценены критиками и пользователями или такой возможности впринципе не было на сайте откуда собирались данные.\n",
    "rating - Entertainment Software Rating Board (ESRB) — негосударственная организация, основное направление деятельности — принятие и определение рейтингов для компьютерных видеоигр и другого развлекательного программного обеспечения в США и Канаде. Для того, что бы корректно работать с данными по рейтингу поставлю заглушку \"norating\""
   ]
  },
  {
   "cell_type": "code",
   "execution_count": 14,
   "metadata": {},
   "outputs": [],
   "source": [
    "data['rating'] = data['rating'].fillna('norating') #ставлю заглушку"
   ]
  },
  {
   "cell_type": "code",
   "execution_count": 15,
   "metadata": {},
   "outputs": [
    {
     "data": {
      "text/plain": [
       "array(['E', 'norating', 'M', 'T', 'E10+', 'K-A', 'AO', 'EC', 'RP'],\n",
       "      dtype=object)"
      ]
     },
     "execution_count": 15,
     "metadata": {},
     "output_type": "execute_result"
    }
   ],
   "source": [
    "data['rating'].unique() # проверяю как встала заглушка"
   ]
  },
  {
   "cell_type": "markdown",
   "metadata": {},
   "source": [
    "**6.** Считаю суммарные продажи во всех регионах и помещаю их в отдельный столбец."
   ]
  },
  {
   "cell_type": "code",
   "execution_count": 16,
   "metadata": {},
   "outputs": [],
   "source": [
    "data['total_sales']=data['na_sales']+data['eu_sales']+data['jp_sales']+data['other_sales']"
   ]
  },
  {
   "cell_type": "code",
   "execution_count": 17,
   "metadata": {},
   "outputs": [
    {
     "data": {
      "text/plain": [
       "0"
      ]
     },
     "execution_count": 17,
     "metadata": {},
     "output_type": "execute_result"
    }
   ],
   "source": [
    "data.duplicated().sum() # ищем явные дубликаты"
   ]
  },
  {
   "cell_type": "markdown",
   "metadata": {},
   "source": [
    "Явных дубликатов не найдено"
   ]
  },
  {
   "cell_type": "code",
   "execution_count": 18,
   "metadata": {},
   "outputs": [
    {
     "data": {
      "text/html": [
       "<div>\n",
       "<style scoped>\n",
       "    .dataframe tbody tr th:only-of-type {\n",
       "        vertical-align: middle;\n",
       "    }\n",
       "\n",
       "    .dataframe tbody tr th {\n",
       "        vertical-align: top;\n",
       "    }\n",
       "\n",
       "    .dataframe thead th {\n",
       "        text-align: right;\n",
       "    }\n",
       "</style>\n",
       "<table border=\"1\" class=\"dataframe\">\n",
       "  <thead>\n",
       "    <tr style=\"text-align: right;\">\n",
       "      <th></th>\n",
       "      <th>name</th>\n",
       "      <th>platform</th>\n",
       "      <th>year_of_release</th>\n",
       "      <th>genre</th>\n",
       "      <th>na_sales</th>\n",
       "      <th>eu_sales</th>\n",
       "      <th>jp_sales</th>\n",
       "      <th>other_sales</th>\n",
       "      <th>critic_score</th>\n",
       "      <th>user_score</th>\n",
       "      <th>rating</th>\n",
       "      <th>total_sales</th>\n",
       "    </tr>\n",
       "  </thead>\n",
       "  <tbody>\n",
       "    <tr>\n",
       "      <th>0</th>\n",
       "      <td>Wii Sports</td>\n",
       "      <td>Wii</td>\n",
       "      <td>2006</td>\n",
       "      <td>Sports</td>\n",
       "      <td>41.36</td>\n",
       "      <td>28.96</td>\n",
       "      <td>3.77</td>\n",
       "      <td>8.45</td>\n",
       "      <td>76</td>\n",
       "      <td>8.0</td>\n",
       "      <td>E</td>\n",
       "      <td>82.54</td>\n",
       "    </tr>\n",
       "    <tr>\n",
       "      <th>1</th>\n",
       "      <td>Super Mario Bros.</td>\n",
       "      <td>NES</td>\n",
       "      <td>1985</td>\n",
       "      <td>Platform</td>\n",
       "      <td>29.08</td>\n",
       "      <td>3.58</td>\n",
       "      <td>6.81</td>\n",
       "      <td>0.77</td>\n",
       "      <td>&lt;NA&gt;</td>\n",
       "      <td>NaN</td>\n",
       "      <td>norating</td>\n",
       "      <td>40.24</td>\n",
       "    </tr>\n",
       "    <tr>\n",
       "      <th>2</th>\n",
       "      <td>Mario Kart Wii</td>\n",
       "      <td>Wii</td>\n",
       "      <td>2008</td>\n",
       "      <td>Racing</td>\n",
       "      <td>15.68</td>\n",
       "      <td>12.76</td>\n",
       "      <td>3.79</td>\n",
       "      <td>3.29</td>\n",
       "      <td>82</td>\n",
       "      <td>8.3</td>\n",
       "      <td>E</td>\n",
       "      <td>35.52</td>\n",
       "    </tr>\n",
       "    <tr>\n",
       "      <th>3</th>\n",
       "      <td>Wii Sports Resort</td>\n",
       "      <td>Wii</td>\n",
       "      <td>2009</td>\n",
       "      <td>Sports</td>\n",
       "      <td>15.61</td>\n",
       "      <td>10.93</td>\n",
       "      <td>3.28</td>\n",
       "      <td>2.95</td>\n",
       "      <td>80</td>\n",
       "      <td>8.0</td>\n",
       "      <td>E</td>\n",
       "      <td>32.77</td>\n",
       "    </tr>\n",
       "    <tr>\n",
       "      <th>4</th>\n",
       "      <td>Pokemon Red/Pokemon Blue</td>\n",
       "      <td>GB</td>\n",
       "      <td>1996</td>\n",
       "      <td>Role-Playing</td>\n",
       "      <td>11.27</td>\n",
       "      <td>8.89</td>\n",
       "      <td>10.22</td>\n",
       "      <td>1.00</td>\n",
       "      <td>&lt;NA&gt;</td>\n",
       "      <td>NaN</td>\n",
       "      <td>norating</td>\n",
       "      <td>31.38</td>\n",
       "    </tr>\n",
       "  </tbody>\n",
       "</table>\n",
       "</div>"
      ],
      "text/plain": [
       "                       name platform  year_of_release         genre  na_sales  \\\n",
       "0                Wii Sports      Wii             2006        Sports     41.36   \n",
       "1         Super Mario Bros.      NES             1985      Platform     29.08   \n",
       "2            Mario Kart Wii      Wii             2008        Racing     15.68   \n",
       "3         Wii Sports Resort      Wii             2009        Sports     15.61   \n",
       "4  Pokemon Red/Pokemon Blue       GB             1996  Role-Playing     11.27   \n",
       "\n",
       "   eu_sales  jp_sales  other_sales  critic_score  user_score    rating  \\\n",
       "0     28.96      3.77         8.45            76         8.0         E   \n",
       "1      3.58      6.81         0.77          <NA>         NaN  norating   \n",
       "2     12.76      3.79         3.29            82         8.3         E   \n",
       "3     10.93      3.28         2.95            80         8.0         E   \n",
       "4      8.89     10.22         1.00          <NA>         NaN  norating   \n",
       "\n",
       "   total_sales  \n",
       "0        82.54  \n",
       "1        40.24  \n",
       "2        35.52  \n",
       "3        32.77  \n",
       "4        31.38  "
      ]
     },
     "execution_count": 18,
     "metadata": {},
     "output_type": "execute_result"
    }
   ],
   "source": [
    "data.head() # Проверю как все прошло"
   ]
  },
  {
   "cell_type": "markdown",
   "metadata": {},
   "source": [
    "**Промежуточный вывод:** в целом датасет хорошо заполнен, но имеются существенные пропуски в данных по рейтингам. \n",
    "Пропуски по рейтингам скорее всего возникли в связи с тем что на страницах игры отсутствовал сбор данных значений и возможность оценивания. \n",
    "Организация рейтингования ESRB была основана в 1994 году, в связи с этим у ряда игр вышедших ранее года возникновения \n",
    "или на пару лет после, рейтинг может отсутствовать, так же рейтинг может отсутствовать у игр японского производства. "
   ]
  },
  {
   "cell_type": "markdown",
   "metadata": {},
   "source": [
    "### Исследовательский анализ данных"
   ]
  },
  {
   "cell_type": "markdown",
   "metadata": {},
   "source": [
    "**Посмотрю сколько игр выпускалось в разные годы и все ли периоды важны**"
   ]
  },
  {
   "cell_type": "code",
   "execution_count": 19,
   "metadata": {},
   "outputs": [
    {
     "data": {
      "text/html": [
       "<div>\n",
       "<style scoped>\n",
       "    .dataframe tbody tr th:only-of-type {\n",
       "        vertical-align: middle;\n",
       "    }\n",
       "\n",
       "    .dataframe tbody tr th {\n",
       "        vertical-align: top;\n",
       "    }\n",
       "\n",
       "    .dataframe thead th {\n",
       "        text-align: right;\n",
       "    }\n",
       "</style>\n",
       "<table border=\"1\" class=\"dataframe\">\n",
       "  <thead>\n",
       "    <tr style=\"text-align: right;\">\n",
       "      <th></th>\n",
       "      <th>year_of_release</th>\n",
       "      <th>na_sales</th>\n",
       "      <th>eu_sales</th>\n",
       "      <th>jp_sales</th>\n",
       "      <th>other_sales</th>\n",
       "      <th>critic_score</th>\n",
       "      <th>user_score</th>\n",
       "      <th>total_sales</th>\n",
       "    </tr>\n",
       "  </thead>\n",
       "  <tbody>\n",
       "    <tr>\n",
       "      <th>count</th>\n",
       "      <td>16444.000000</td>\n",
       "      <td>16444.000000</td>\n",
       "      <td>16444.000000</td>\n",
       "      <td>16444.000000</td>\n",
       "      <td>16444.000000</td>\n",
       "      <td>7983.000000</td>\n",
       "      <td>7463.000000</td>\n",
       "      <td>16444.000000</td>\n",
       "    </tr>\n",
       "    <tr>\n",
       "      <th>mean</th>\n",
       "      <td>2006.486256</td>\n",
       "      <td>0.264012</td>\n",
       "      <td>0.145930</td>\n",
       "      <td>0.078487</td>\n",
       "      <td>0.047594</td>\n",
       "      <td>68.994363</td>\n",
       "      <td>7.126330</td>\n",
       "      <td>0.536023</td>\n",
       "    </tr>\n",
       "    <tr>\n",
       "      <th>std</th>\n",
       "      <td>5.875525</td>\n",
       "      <td>0.818378</td>\n",
       "      <td>0.506716</td>\n",
       "      <td>0.311100</td>\n",
       "      <td>0.188005</td>\n",
       "      <td>13.920060</td>\n",
       "      <td>1.499447</td>\n",
       "      <td>1.558786</td>\n",
       "    </tr>\n",
       "    <tr>\n",
       "      <th>min</th>\n",
       "      <td>1980.000000</td>\n",
       "      <td>0.000000</td>\n",
       "      <td>0.000000</td>\n",
       "      <td>0.000000</td>\n",
       "      <td>0.000000</td>\n",
       "      <td>13.000000</td>\n",
       "      <td>0.000000</td>\n",
       "      <td>0.000000</td>\n",
       "    </tr>\n",
       "    <tr>\n",
       "      <th>25%</th>\n",
       "      <td>2003.000000</td>\n",
       "      <td>0.000000</td>\n",
       "      <td>0.000000</td>\n",
       "      <td>0.000000</td>\n",
       "      <td>0.000000</td>\n",
       "      <td>60.000000</td>\n",
       "      <td>6.400000</td>\n",
       "      <td>0.060000</td>\n",
       "    </tr>\n",
       "    <tr>\n",
       "      <th>50%</th>\n",
       "      <td>2007.000000</td>\n",
       "      <td>0.080000</td>\n",
       "      <td>0.020000</td>\n",
       "      <td>0.000000</td>\n",
       "      <td>0.010000</td>\n",
       "      <td>71.000000</td>\n",
       "      <td>7.500000</td>\n",
       "      <td>0.170000</td>\n",
       "    </tr>\n",
       "    <tr>\n",
       "      <th>75%</th>\n",
       "      <td>2010.000000</td>\n",
       "      <td>0.240000</td>\n",
       "      <td>0.110000</td>\n",
       "      <td>0.040000</td>\n",
       "      <td>0.030000</td>\n",
       "      <td>79.000000</td>\n",
       "      <td>8.200000</td>\n",
       "      <td>0.470000</td>\n",
       "    </tr>\n",
       "    <tr>\n",
       "      <th>max</th>\n",
       "      <td>2016.000000</td>\n",
       "      <td>41.360000</td>\n",
       "      <td>28.960000</td>\n",
       "      <td>10.220000</td>\n",
       "      <td>10.570000</td>\n",
       "      <td>98.000000</td>\n",
       "      <td>9.700000</td>\n",
       "      <td>82.540000</td>\n",
       "    </tr>\n",
       "  </tbody>\n",
       "</table>\n",
       "</div>"
      ],
      "text/plain": [
       "       year_of_release      na_sales      eu_sales      jp_sales  \\\n",
       "count     16444.000000  16444.000000  16444.000000  16444.000000   \n",
       "mean       2006.486256      0.264012      0.145930      0.078487   \n",
       "std           5.875525      0.818378      0.506716      0.311100   \n",
       "min        1980.000000      0.000000      0.000000      0.000000   \n",
       "25%        2003.000000      0.000000      0.000000      0.000000   \n",
       "50%        2007.000000      0.080000      0.020000      0.000000   \n",
       "75%        2010.000000      0.240000      0.110000      0.040000   \n",
       "max        2016.000000     41.360000     28.960000     10.220000   \n",
       "\n",
       "        other_sales  critic_score   user_score   total_sales  \n",
       "count  16444.000000   7983.000000  7463.000000  16444.000000  \n",
       "mean       0.047594     68.994363     7.126330      0.536023  \n",
       "std        0.188005     13.920060     1.499447      1.558786  \n",
       "min        0.000000     13.000000     0.000000      0.000000  \n",
       "25%        0.000000     60.000000     6.400000      0.060000  \n",
       "50%        0.010000     71.000000     7.500000      0.170000  \n",
       "75%        0.030000     79.000000     8.200000      0.470000  \n",
       "max       10.570000     98.000000     9.700000     82.540000  "
      ]
     },
     "execution_count": 19,
     "metadata": {},
     "output_type": "execute_result"
    }
   ],
   "source": [
    "data.describe() # посмотрю общую статистическую информацию"
   ]
  },
  {
   "cell_type": "code",
   "execution_count": 20,
   "metadata": {},
   "outputs": [
    {
     "data": {
      "image/png": "[encoded data removed]",
      "text/plain": [
       "<Figure size 432x288 with 1 Axes>"
      ]
     },
     "metadata": {
      "needs_background": "light"
     },
     "output_type": "display_data"
    }
   ],
   "source": [
    "data['year_of_release'].hist(bins=38, range=(1979,2016)); # сколько игр выпускалось в разные годы"
   ]
  },
  {
   "cell_type": "code",
   "execution_count": 21,
   "metadata": {},
   "outputs": [
    {
     "name": "stdout",
     "output_type": "stream",
     "text": [
      "Продаж до 1995 года: 486\n"
     ]
    }
   ],
   "source": [
    "print('Продаж до 1995 года:', data.query('year_of_release < 1995')['year_of_release'].count())"
   ]
  },
  {
   "cell_type": "markdown",
   "metadata": {},
   "source": [
    "Из графика видно, что до 1995 года выпускалось менее 200 игр в год. Всего с 1980 по 1994 было выпущено 486 игр, то есть менее 3% от общего количества, то есть эти данные можно считать не важными. Пик выпуска пришелся на 2005-2011 гг., когда каждый год выпускалось более 1000 игр."
   ]
  },
  {
   "cell_type": "markdown",
   "metadata": {},
   "source": [
    "**Изучу, как менялись продажи по платформам.** "
   ]
  },
  {
   "cell_type": "code",
   "execution_count": 22,
   "metadata": {},
   "outputs": [
    {
     "data": {
      "text/html": [
       "<div>\n",
       "<style scoped>\n",
       "    .dataframe tbody tr th:only-of-type {\n",
       "        vertical-align: middle;\n",
       "    }\n",
       "\n",
       "    .dataframe tbody tr th {\n",
       "        vertical-align: top;\n",
       "    }\n",
       "\n",
       "    .dataframe thead th {\n",
       "        text-align: right;\n",
       "    }\n",
       "</style>\n",
       "<table border=\"1\" class=\"dataframe\">\n",
       "  <thead>\n",
       "    <tr style=\"text-align: right;\">\n",
       "      <th></th>\n",
       "      <th>total_sales</th>\n",
       "    </tr>\n",
       "    <tr>\n",
       "      <th>platform</th>\n",
       "      <th></th>\n",
       "    </tr>\n",
       "  </thead>\n",
       "  <tbody>\n",
       "    <tr>\n",
       "      <th>PS2</th>\n",
       "      <td>1233.56</td>\n",
       "    </tr>\n",
       "    <tr>\n",
       "      <th>X360</th>\n",
       "      <td>961.24</td>\n",
       "    </tr>\n",
       "    <tr>\n",
       "      <th>PS3</th>\n",
       "      <td>931.34</td>\n",
       "    </tr>\n",
       "    <tr>\n",
       "      <th>Wii</th>\n",
       "      <td>891.18</td>\n",
       "    </tr>\n",
       "    <tr>\n",
       "      <th>DS</th>\n",
       "      <td>802.78</td>\n",
       "    </tr>\n",
       "    <tr>\n",
       "      <th>PS</th>\n",
       "      <td>727.58</td>\n",
       "    </tr>\n",
       "    <tr>\n",
       "      <th>PS4</th>\n",
       "      <td>314.14</td>\n",
       "    </tr>\n",
       "    <tr>\n",
       "      <th>GBA</th>\n",
       "      <td>312.88</td>\n",
       "    </tr>\n",
       "    <tr>\n",
       "      <th>PSP</th>\n",
       "      <td>289.53</td>\n",
       "    </tr>\n",
       "    <tr>\n",
       "      <th>3DS</th>\n",
       "      <td>257.81</td>\n",
       "    </tr>\n",
       "    <tr>\n",
       "      <th>PC</th>\n",
       "      <td>255.76</td>\n",
       "    </tr>\n",
       "    <tr>\n",
       "      <th>GB</th>\n",
       "      <td>254.43</td>\n",
       "    </tr>\n",
       "    <tr>\n",
       "      <th>XB</th>\n",
       "      <td>251.57</td>\n",
       "    </tr>\n",
       "    <tr>\n",
       "      <th>NES</th>\n",
       "      <td>251.05</td>\n",
       "    </tr>\n",
       "    <tr>\n",
       "      <th>N64</th>\n",
       "      <td>218.01</td>\n",
       "    </tr>\n",
       "    <tr>\n",
       "      <th>SNES</th>\n",
       "      <td>200.04</td>\n",
       "    </tr>\n",
       "    <tr>\n",
       "      <th>GC</th>\n",
       "      <td>196.73</td>\n",
       "    </tr>\n",
       "    <tr>\n",
       "      <th>XOne</th>\n",
       "      <td>159.32</td>\n",
       "    </tr>\n",
       "    <tr>\n",
       "      <th>2600</th>\n",
       "      <td>86.48</td>\n",
       "    </tr>\n",
       "    <tr>\n",
       "      <th>WiiU</th>\n",
       "      <td>82.19</td>\n",
       "    </tr>\n",
       "    <tr>\n",
       "      <th>PSV</th>\n",
       "      <td>53.81</td>\n",
       "    </tr>\n",
       "    <tr>\n",
       "      <th>SAT</th>\n",
       "      <td>33.59</td>\n",
       "    </tr>\n",
       "    <tr>\n",
       "      <th>GEN</th>\n",
       "      <td>28.35</td>\n",
       "    </tr>\n",
       "    <tr>\n",
       "      <th>DC</th>\n",
       "      <td>15.95</td>\n",
       "    </tr>\n",
       "    <tr>\n",
       "      <th>SCD</th>\n",
       "      <td>1.86</td>\n",
       "    </tr>\n",
       "    <tr>\n",
       "      <th>NG</th>\n",
       "      <td>1.44</td>\n",
       "    </tr>\n",
       "    <tr>\n",
       "      <th>WS</th>\n",
       "      <td>1.42</td>\n",
       "    </tr>\n",
       "    <tr>\n",
       "      <th>TG16</th>\n",
       "      <td>0.16</td>\n",
       "    </tr>\n",
       "    <tr>\n",
       "      <th>3DO</th>\n",
       "      <td>0.10</td>\n",
       "    </tr>\n",
       "    <tr>\n",
       "      <th>GG</th>\n",
       "      <td>0.04</td>\n",
       "    </tr>\n",
       "    <tr>\n",
       "      <th>PCFX</th>\n",
       "      <td>0.03</td>\n",
       "    </tr>\n",
       "  </tbody>\n",
       "</table>\n",
       "</div>"
      ],
      "text/plain": [
       "          total_sales\n",
       "platform             \n",
       "PS2           1233.56\n",
       "X360           961.24\n",
       "PS3            931.34\n",
       "Wii            891.18\n",
       "DS             802.78\n",
       "PS             727.58\n",
       "PS4            314.14\n",
       "GBA            312.88\n",
       "PSP            289.53\n",
       "3DS            257.81\n",
       "PC             255.76\n",
       "GB             254.43\n",
       "XB             251.57\n",
       "NES            251.05\n",
       "N64            218.01\n",
       "SNES           200.04\n",
       "GC             196.73\n",
       "XOne           159.32\n",
       "2600            86.48\n",
       "WiiU            82.19\n",
       "PSV             53.81\n",
       "SAT             33.59\n",
       "GEN             28.35\n",
       "DC              15.95\n",
       "SCD              1.86\n",
       "NG               1.44\n",
       "WS               1.42\n",
       "TG16             0.16\n",
       "3DO              0.10\n",
       "GG               0.04\n",
       "PCFX             0.03"
      ]
     },
     "execution_count": 22,
     "metadata": {},
     "output_type": "execute_result"
    }
   ],
   "source": [
    "top_platform = data.pivot_table(index='platform', values='total_sales', aggfunc='sum').sort_values(by = 'total_sales', ascending = False)\n",
    "top_platform # формирую сводную таблицу по сумме продаж в зависимости от платформы и сортирую по убыванию"
   ]
  },
  {
   "cell_type": "markdown",
   "metadata": {},
   "source": [
    "Выберу платформы с наибольшими суммарными продажами (топ 10) и построю распределение по годам. "
   ]
  },
  {
   "cell_type": "code",
   "execution_count": 23,
   "metadata": {},
   "outputs": [
    {
     "data": {
      "text/plain": [
       "array(['PS2', 'X360', 'PS3', 'Wii', 'DS', 'PS', 'PS4', 'GBA', 'PSP',\n",
       "       '3DS'], dtype=object)"
      ]
     },
     "execution_count": 23,
     "metadata": {},
     "output_type": "execute_result"
    }
   ],
   "source": [
    "top10_platforms = top_platform.reset_index()\n",
    "top10_platforms = top10_platforms.iloc[0:10]\n",
    "top10_platforms = top10_platforms['platform'].unique()\n",
    "top10_platforms"
   ]
  },
  {
   "cell_type": "code",
   "execution_count": 24,
   "metadata": {},
   "outputs": [],
   "source": [
    "actual_data = data.query('year_of_release >= 1992') #возьмем все данные после 1992 года, так как ранее платформы топ 10 не использовались"
   ]
  },
  {
   "cell_type": "code",
   "execution_count": 25,
   "metadata": {},
   "outputs": [
    {
     "data": {
      "image/png": "[encoded data removed]",
      "text/plain": [
       "<Figure size 1080x360 with 1 Axes>"
      ]
     },
     "metadata": {
      "needs_background": "light"
     },
     "output_type": "display_data"
    }
   ],
   "source": [
    "actual_data.query('platform in @top10_platforms').pivot_table(index='year_of_release', columns = 'platform', values='total_sales', aggfunc='sum').plot(figsize=(15, 5));"
   ]
  },
  {
   "cell_type": "markdown",
   "metadata": {},
   "source": [
    "Из графика видно что требуется около 10 лет что бы исчезла старая платформа и появилась новая. "
   ]
  },
  {
   "cell_type": "markdown",
   "metadata": {},
   "source": [
    "Таким образом актуальным периодом для предсказания продаж на 2017 год можно считать период за 3 года, так как продажи платформ появившихся ранее как раз пойдут на спад и мы увидем все новые платформы, которые должны выйти на пик продаж. Отфильтрую датасет, удалю данные до 2014 года и проверю продажи только по отфильтрованным данным"
   ]
  },
  {
   "cell_type": "code",
   "execution_count": 26,
   "metadata": {},
   "outputs": [],
   "source": [
    "data_predict = data.query('year_of_release >= 2014') #возьмем все данные после 2013 года"
   ]
  },
  {
   "cell_type": "code",
   "execution_count": 27,
   "metadata": {},
   "outputs": [
    {
     "data": {
      "text/html": [
       "<div>\n",
       "<style scoped>\n",
       "    .dataframe tbody tr th:only-of-type {\n",
       "        vertical-align: middle;\n",
       "    }\n",
       "\n",
       "    .dataframe tbody tr th {\n",
       "        vertical-align: top;\n",
       "    }\n",
       "\n",
       "    .dataframe thead th {\n",
       "        text-align: right;\n",
       "    }\n",
       "</style>\n",
       "<table border=\"1\" class=\"dataframe\">\n",
       "  <thead>\n",
       "    <tr style=\"text-align: right;\">\n",
       "      <th></th>\n",
       "      <th>total_sales</th>\n",
       "    </tr>\n",
       "    <tr>\n",
       "      <th>platform</th>\n",
       "      <th></th>\n",
       "    </tr>\n",
       "  </thead>\n",
       "  <tbody>\n",
       "    <tr>\n",
       "      <th>PS4</th>\n",
       "      <td>288.15</td>\n",
       "    </tr>\n",
       "    <tr>\n",
       "      <th>XOne</th>\n",
       "      <td>140.36</td>\n",
       "    </tr>\n",
       "    <tr>\n",
       "      <th>3DS</th>\n",
       "      <td>86.68</td>\n",
       "    </tr>\n",
       "    <tr>\n",
       "      <th>PS3</th>\n",
       "      <td>68.18</td>\n",
       "    </tr>\n",
       "    <tr>\n",
       "      <th>X360</th>\n",
       "      <td>48.22</td>\n",
       "    </tr>\n",
       "    <tr>\n",
       "      <th>WiiU</th>\n",
       "      <td>42.98</td>\n",
       "    </tr>\n",
       "    <tr>\n",
       "      <th>PC</th>\n",
       "      <td>27.05</td>\n",
       "    </tr>\n",
       "    <tr>\n",
       "      <th>PSV</th>\n",
       "      <td>22.40</td>\n",
       "    </tr>\n",
       "    <tr>\n",
       "      <th>Wii</th>\n",
       "      <td>5.07</td>\n",
       "    </tr>\n",
       "    <tr>\n",
       "      <th>PSP</th>\n",
       "      <td>0.36</td>\n",
       "    </tr>\n",
       "  </tbody>\n",
       "</table>\n",
       "</div>"
      ],
      "text/plain": [
       "          total_sales\n",
       "platform             \n",
       "PS4            288.15\n",
       "XOne           140.36\n",
       "3DS             86.68\n",
       "PS3             68.18\n",
       "X360            48.22\n",
       "WiiU            42.98\n",
       "PC              27.05\n",
       "PSV             22.40\n",
       "Wii              5.07\n",
       "PSP              0.36"
      ]
     },
     "execution_count": 27,
     "metadata": {},
     "output_type": "execute_result"
    }
   ],
   "source": [
    "data_predict.pivot_table(index='platform', values='total_sales', aggfunc='sum').sort_values(by = 'total_sales', ascending = False)"
   ]
  },
  {
   "cell_type": "markdown",
   "metadata": {},
   "source": [
    "Построю графики продаж по всем платформам с 2014 по 2016"
   ]
  },
  {
   "cell_type": "code",
   "execution_count": 28,
   "metadata": {},
   "outputs": [
    {
     "name": "stderr",
     "output_type": "stream",
     "text": [
      "/tmp/ipykernel_48/2782917695.py:2: MatplotlibDeprecationWarning: Adding an axes using the same arguments as a previous axes currently reuses the earlier instance.  In a future version, a new instance will always be created and returned.  Meanwhile, this warning can be suppressed, and the future behavior ensured, by passing a unique label to each axes instance.\n",
      "  ax = plt.subplot(111)\n"
     ]
    },
    {
     "data": {
      "image/png": "[encoded data removed]",
      "text/plain": [
       "<Figure size 1080x504 with 1 Axes>"
      ]
     },
     "metadata": {
      "needs_background": "light"
     },
     "output_type": "display_data"
    }
   ],
   "source": [
    "data_predict.pivot_table(index='year_of_release', columns = 'platform', values='total_sales', aggfunc='sum').plot(figsize=(15, 7));\n",
    "ax = plt.subplot(111)\n",
    "ax.legend(loc='center left', bbox_to_anchor=(1, 0.5));"
   ]
  },
  {
   "cell_type": "markdown",
   "metadata": {},
   "source": [
    "С 2014 по 2016 год лидируют по продажам PS4, XOne, 3DS с большим отрывом от остальных платформ, но если посмотреть на график, то можно заметить что время жизни всех платформ по сути закончилось и к 2016 году они вышли практически на минимум продаж. С 2014 по 2016 новых платформ вообще не появлялось. В 2013 появились PS4 и XOne, но и по ним уже наметился спад продаж. Так же стоит отметить как стабильную платформу PC в силу своей универсальности."
   ]
  },
  {
   "cell_type": "code",
   "execution_count": 29,
   "metadata": {},
   "outputs": [
    {
     "data": {
      "image/png": "[encoded data removed]",
      "text/plain": [
       "<Figure size 1080x648 with 1 Axes>"
      ]
     },
     "metadata": {
      "needs_background": "light"
     },
     "output_type": "display_data"
    }
   ],
   "source": [
    "plt.figure(figsize=(15, 9))\n",
    "(sns.boxplot(data = data_predict, y = 'total_sales', x='platform')\n",
    "    .set(title = 'Продажи по перспективным платформам за 2014-2016 гг', \n",
    "         xlabel = 'Платформы', \n",
    "         ylabel = 'Общие продажи'))\n",
    "plt.show()"
   ]
  },
  {
   "cell_type": "code",
   "execution_count": 30,
   "metadata": {},
   "outputs": [
    {
     "data": {
      "image/png": "[encoded data removed]",
      "text/plain": [
       "<Figure size 1080x648 with 1 Axes>"
      ]
     },
     "metadata": {
      "needs_background": "light"
     },
     "output_type": "display_data"
    }
   ],
   "source": [
    "plt.figure(figsize=(15, 9))\n",
    "(sns.boxplot(data = data_predict, y = 'total_sales', x='platform')\n",
    "    .set(title = 'Продажи по перспективным платформам за 2014-2016 гг', \n",
    "         xlabel = 'Платформы', \n",
    "         ylabel = 'Общие продажи',\n",
    "        ylim=(0,1.5)))\n",
    "plt.show()"
   ]
  },
  {
   "cell_type": "markdown",
   "metadata": {},
   "source": [
    "Из диаграммы размаха видно что медиана у всех платформ лежит ниже серидины ящика, примерно на уровне 0,2 млн за некоторым исключением (PSP срок жизни закончился, PS3 вытесняется новой версией, PC традиционно ниже, PSV и 3DS-рынок преимущественно японский) то есть большая часть игр продается примерно на одном уровне, но у платформ-лидеров продаж есть существенные выбросы, игры - \"звезды\" которых продали очень много, у PS4 до 15 млн копий приблизительно. У платформ с минимальным уровнем продаж, выбросов фактически нет."
   ]
  },
  {
   "cell_type": "markdown",
   "metadata": {},
   "source": [
    "**Посмотрю, как влияют на продажи внутри одной популярной платформы отзывы пользователей и критиков.**"
   ]
  },
  {
   "cell_type": "markdown",
   "metadata": {},
   "source": [
    "Для того, что бы проверить как влияют на продажи внутри одной платформы отзывы пользователей и критиков, выберу платформы с максимальнм количеством отзывов."
   ]
  },
  {
   "cell_type": "code",
   "execution_count": 31,
   "metadata": {},
   "outputs": [
    {
     "data": {
      "text/html": [
       "<div>\n",
       "<style scoped>\n",
       "    .dataframe tbody tr th:only-of-type {\n",
       "        vertical-align: middle;\n",
       "    }\n",
       "\n",
       "    .dataframe tbody tr th {\n",
       "        vertical-align: top;\n",
       "    }\n",
       "\n",
       "    .dataframe thead th {\n",
       "        text-align: right;\n",
       "    }\n",
       "</style>\n",
       "<table border=\"1\" class=\"dataframe\">\n",
       "  <thead>\n",
       "    <tr style=\"text-align: right;\">\n",
       "      <th></th>\n",
       "      <th>critic_score</th>\n",
       "      <th>user_score</th>\n",
       "    </tr>\n",
       "    <tr>\n",
       "      <th>platform</th>\n",
       "      <th></th>\n",
       "      <th></th>\n",
       "    </tr>\n",
       "  </thead>\n",
       "  <tbody>\n",
       "    <tr>\n",
       "      <th>PS4</th>\n",
       "      <td>237</td>\n",
       "      <td>242</td>\n",
       "    </tr>\n",
       "    <tr>\n",
       "      <th>XOne</th>\n",
       "      <td>155</td>\n",
       "      <td>165</td>\n",
       "    </tr>\n",
       "    <tr>\n",
       "      <th>PC</th>\n",
       "      <td>116</td>\n",
       "      <td>122</td>\n",
       "    </tr>\n",
       "    <tr>\n",
       "      <th>PSV</th>\n",
       "      <td>54</td>\n",
       "      <td>73</td>\n",
       "    </tr>\n",
       "    <tr>\n",
       "      <th>3DS</th>\n",
       "      <td>51</td>\n",
       "      <td>55</td>\n",
       "    </tr>\n",
       "    <tr>\n",
       "      <th>WiiU</th>\n",
       "      <td>43</td>\n",
       "      <td>48</td>\n",
       "    </tr>\n",
       "    <tr>\n",
       "      <th>PS3</th>\n",
       "      <td>36</td>\n",
       "      <td>98</td>\n",
       "    </tr>\n",
       "    <tr>\n",
       "      <th>X360</th>\n",
       "      <td>26</td>\n",
       "      <td>83</td>\n",
       "    </tr>\n",
       "    <tr>\n",
       "      <th>PSP</th>\n",
       "      <td>0</td>\n",
       "      <td>0</td>\n",
       "    </tr>\n",
       "    <tr>\n",
       "      <th>Wii</th>\n",
       "      <td>0</td>\n",
       "      <td>2</td>\n",
       "    </tr>\n",
       "  </tbody>\n",
       "</table>\n",
       "</div>"
      ],
      "text/plain": [
       "          critic_score  user_score\n",
       "platform                          \n",
       "PS4                237         242\n",
       "XOne               155         165\n",
       "PC                 116         122\n",
       "PSV                 54          73\n",
       "3DS                 51          55\n",
       "WiiU                43          48\n",
       "PS3                 36          98\n",
       "X360                26          83\n",
       "PSP                  0           0\n",
       "Wii                  0           2"
      ]
     },
     "execution_count": 31,
     "metadata": {},
     "output_type": "execute_result"
    }
   ],
   "source": [
    "data_predict.pivot_table(index='platform', values=['critic_score','user_score'] , aggfunc='count').sort_values(by = 'critic_score', ascending = False)"
   ]
  },
  {
   "cell_type": "markdown",
   "metadata": {},
   "source": [
    "В лидерах по количеству оценок платформы  PS4, XOne, PC по ним и проведу анализ.  "
   ]
  },
  {
   "cell_type": "code",
   "execution_count": 32,
   "metadata": {},
   "outputs": [
    {
     "data": {
      "image/png": "[encoded data removed]",
      "text/plain": [
       "<Figure size 432x288 with 1 Axes>"
      ]
     },
     "metadata": {
      "needs_background": "light"
     },
     "output_type": "display_data"
    },
    {
     "data": {
      "image/png": "[encoded data removed]",
      "text/plain": [
       "<Figure size 432x288 with 1 Axes>"
      ]
     },
     "metadata": {
      "needs_background": "light"
     },
     "output_type": "display_data"
    },
    {
     "data": {
      "image/png": "[encoded data removed]",
      "text/plain": [
       "<Figure size 432x288 with 1 Axes>"
      ]
     },
     "metadata": {
      "needs_background": "light"
     },
     "output_type": "display_data"
    }
   ],
   "source": [
    "XOne = data_predict.query('platform == \"XOne\"')\n",
    "XOne.plot(x='user_score', y='critic_score', kind='scatter'); # диаграмма рассеяния \n",
    "PC = data_predict.query('platform == \"PC\"')\n",
    "PC.plot(x='user_score', y='critic_score', kind='scatter'); # диаграмма рассеяния \n",
    "PS4 = data_predict.query('platform == \"PS4\"')\n",
    "PS4.plot(x='user_score', y='critic_score', kind='scatter'); # диаграмма рассеяния "
   ]
  },
  {
   "cell_type": "code",
   "execution_count": 33,
   "metadata": {},
   "outputs": [
    {
     "data": {
      "text/html": [
       "<div>\n",
       "<style scoped>\n",
       "    .dataframe tbody tr th:only-of-type {\n",
       "        vertical-align: middle;\n",
       "    }\n",
       "\n",
       "    .dataframe tbody tr th {\n",
       "        vertical-align: top;\n",
       "    }\n",
       "\n",
       "    .dataframe thead th {\n",
       "        text-align: right;\n",
       "    }\n",
       "</style>\n",
       "<table border=\"1\" class=\"dataframe\">\n",
       "  <thead>\n",
       "    <tr style=\"text-align: right;\">\n",
       "      <th></th>\n",
       "      <th>critic_score</th>\n",
       "      <th>user_score</th>\n",
       "      <th>total_sales</th>\n",
       "    </tr>\n",
       "  </thead>\n",
       "  <tbody>\n",
       "    <tr>\n",
       "      <th>critic_score</th>\n",
       "      <td>1.000000</td>\n",
       "      <td>0.440977</td>\n",
       "      <td>0.428677</td>\n",
       "    </tr>\n",
       "    <tr>\n",
       "      <th>user_score</th>\n",
       "      <td>0.440977</td>\n",
       "      <td>1.000000</td>\n",
       "      <td>-0.070384</td>\n",
       "    </tr>\n",
       "    <tr>\n",
       "      <th>total_sales</th>\n",
       "      <td>0.428677</td>\n",
       "      <td>-0.070384</td>\n",
       "      <td>1.000000</td>\n",
       "    </tr>\n",
       "  </tbody>\n",
       "</table>\n",
       "</div>"
      ],
      "text/plain": [
       "              critic_score  user_score  total_sales\n",
       "critic_score      1.000000    0.440977     0.428677\n",
       "user_score        0.440977    1.000000    -0.070384\n",
       "total_sales       0.428677   -0.070384     1.000000"
      ]
     },
     "execution_count": 33,
     "metadata": {},
     "output_type": "execute_result"
    }
   ],
   "source": [
    "XOne_cor = XOne[['critic_score','user_score', 'total_sales']]\n",
    "XOne_cor.corr()      # корреляция между отзывами и продажами"
   ]
  },
  {
   "cell_type": "code",
   "execution_count": 34,
   "metadata": {},
   "outputs": [
    {
     "data": {
      "text/html": [
       "<div>\n",
       "<style scoped>\n",
       "    .dataframe tbody tr th:only-of-type {\n",
       "        vertical-align: middle;\n",
       "    }\n",
       "\n",
       "    .dataframe tbody tr th {\n",
       "        vertical-align: top;\n",
       "    }\n",
       "\n",
       "    .dataframe thead th {\n",
       "        text-align: right;\n",
       "    }\n",
       "</style>\n",
       "<table border=\"1\" class=\"dataframe\">\n",
       "  <thead>\n",
       "    <tr style=\"text-align: right;\">\n",
       "      <th></th>\n",
       "      <th>critic_score</th>\n",
       "      <th>user_score</th>\n",
       "      <th>total_sales</th>\n",
       "    </tr>\n",
       "  </thead>\n",
       "  <tbody>\n",
       "    <tr>\n",
       "      <th>critic_score</th>\n",
       "      <td>1.000000</td>\n",
       "      <td>0.466099</td>\n",
       "      <td>0.174634</td>\n",
       "    </tr>\n",
       "    <tr>\n",
       "      <th>user_score</th>\n",
       "      <td>0.466099</td>\n",
       "      <td>1.000000</td>\n",
       "      <td>-0.071597</td>\n",
       "    </tr>\n",
       "    <tr>\n",
       "      <th>total_sales</th>\n",
       "      <td>0.174634</td>\n",
       "      <td>-0.071597</td>\n",
       "      <td>1.000000</td>\n",
       "    </tr>\n",
       "  </tbody>\n",
       "</table>\n",
       "</div>"
      ],
      "text/plain": [
       "              critic_score  user_score  total_sales\n",
       "critic_score      1.000000    0.466099     0.174634\n",
       "user_score        0.466099    1.000000    -0.071597\n",
       "total_sales       0.174634   -0.071597     1.000000"
      ]
     },
     "execution_count": 34,
     "metadata": {},
     "output_type": "execute_result"
    }
   ],
   "source": [
    "PC_cor = PC[['critic_score','user_score', 'total_sales']]\n",
    "PC_cor.corr()  # корреляция между отзывами и продажами"
   ]
  },
  {
   "cell_type": "code",
   "execution_count": 35,
   "metadata": {},
   "outputs": [
    {
     "data": {
      "text/html": [
       "<div>\n",
       "<style scoped>\n",
       "    .dataframe tbody tr th:only-of-type {\n",
       "        vertical-align: middle;\n",
       "    }\n",
       "\n",
       "    .dataframe tbody tr th {\n",
       "        vertical-align: top;\n",
       "    }\n",
       "\n",
       "    .dataframe thead th {\n",
       "        text-align: right;\n",
       "    }\n",
       "</style>\n",
       "<table border=\"1\" class=\"dataframe\">\n",
       "  <thead>\n",
       "    <tr style=\"text-align: right;\">\n",
       "      <th></th>\n",
       "      <th>critic_score</th>\n",
       "      <th>user_score</th>\n",
       "      <th>total_sales</th>\n",
       "    </tr>\n",
       "  </thead>\n",
       "  <tbody>\n",
       "    <tr>\n",
       "      <th>critic_score</th>\n",
       "      <td>1.000000</td>\n",
       "      <td>0.546434</td>\n",
       "      <td>0.402661</td>\n",
       "    </tr>\n",
       "    <tr>\n",
       "      <th>user_score</th>\n",
       "      <td>0.546434</td>\n",
       "      <td>1.000000</td>\n",
       "      <td>-0.040132</td>\n",
       "    </tr>\n",
       "    <tr>\n",
       "      <th>total_sales</th>\n",
       "      <td>0.402661</td>\n",
       "      <td>-0.040132</td>\n",
       "      <td>1.000000</td>\n",
       "    </tr>\n",
       "  </tbody>\n",
       "</table>\n",
       "</div>"
      ],
      "text/plain": [
       "              critic_score  user_score  total_sales\n",
       "critic_score      1.000000    0.546434     0.402661\n",
       "user_score        0.546434    1.000000    -0.040132\n",
       "total_sales       0.402661   -0.040132     1.000000"
      ]
     },
     "execution_count": 35,
     "metadata": {},
     "output_type": "execute_result"
    }
   ],
   "source": [
    "PS4_cor = PS4[['critic_score','user_score', 'total_sales']]\n",
    "PS4_cor.corr()     # корреляция между отзывами и продажами"
   ]
  },
  {
   "cell_type": "markdown",
   "metadata": {},
   "source": [
    "**Вывод:** Оценки пользовавтелей и критиков имеют умеренную корреляцию между собой по всем платформам, самая \"сильная\" корреляция из имеющихся видна у PS4. По ней оценка пользователей и критиков максимально совпадала. Оценки критиков в целом слабо влияют на продажи особенно для компьютерных игр, мнение пользователей при покупке вообще не принимается в расчет.\n",
    "\n",
    "Вероятно что подобная \"картина\" зависимости продаж от оценок будет наблюдатся для всех платформ. "
   ]
  },
  {
   "cell_type": "markdown",
   "metadata": {},
   "source": [
    "**Посмотрю на общее распределение игр по жанрам.** "
   ]
  },
  {
   "cell_type": "code",
   "execution_count": 36,
   "metadata": {},
   "outputs": [
    {
     "data": {
      "text/html": [
       "<div>\n",
       "<style scoped>\n",
       "    .dataframe tbody tr th:only-of-type {\n",
       "        vertical-align: middle;\n",
       "    }\n",
       "\n",
       "    .dataframe tbody tr th {\n",
       "        vertical-align: top;\n",
       "    }\n",
       "\n",
       "    .dataframe thead th {\n",
       "        text-align: right;\n",
       "    }\n",
       "</style>\n",
       "<table border=\"1\" class=\"dataframe\">\n",
       "  <thead>\n",
       "    <tr style=\"text-align: right;\">\n",
       "      <th></th>\n",
       "      <th>total_sales</th>\n",
       "    </tr>\n",
       "    <tr>\n",
       "      <th>genre</th>\n",
       "      <th></th>\n",
       "    </tr>\n",
       "  </thead>\n",
       "  <tbody>\n",
       "    <tr>\n",
       "      <th>Action</th>\n",
       "      <td>199.36</td>\n",
       "    </tr>\n",
       "    <tr>\n",
       "      <th>Shooter</th>\n",
       "      <td>170.94</td>\n",
       "    </tr>\n",
       "    <tr>\n",
       "      <th>Sports</th>\n",
       "      <td>109.48</td>\n",
       "    </tr>\n",
       "    <tr>\n",
       "      <th>Role-Playing</th>\n",
       "      <td>101.44</td>\n",
       "    </tr>\n",
       "    <tr>\n",
       "      <th>Misc</th>\n",
       "      <td>37.55</td>\n",
       "    </tr>\n",
       "    <tr>\n",
       "      <th>Fighting</th>\n",
       "      <td>28.22</td>\n",
       "    </tr>\n",
       "    <tr>\n",
       "      <th>Racing</th>\n",
       "      <td>27.52</td>\n",
       "    </tr>\n",
       "    <tr>\n",
       "      <th>Platform</th>\n",
       "      <td>18.09</td>\n",
       "    </tr>\n",
       "    <tr>\n",
       "      <th>Adventure</th>\n",
       "      <td>17.55</td>\n",
       "    </tr>\n",
       "    <tr>\n",
       "      <th>Simulation</th>\n",
       "      <td>13.13</td>\n",
       "    </tr>\n",
       "    <tr>\n",
       "      <th>Strategy</th>\n",
       "      <td>3.96</td>\n",
       "    </tr>\n",
       "    <tr>\n",
       "      <th>Puzzle</th>\n",
       "      <td>2.21</td>\n",
       "    </tr>\n",
       "  </tbody>\n",
       "</table>\n",
       "</div>"
      ],
      "text/plain": [
       "              total_sales\n",
       "genre                    \n",
       "Action             199.36\n",
       "Shooter            170.94\n",
       "Sports             109.48\n",
       "Role-Playing       101.44\n",
       "Misc                37.55\n",
       "Fighting            28.22\n",
       "Racing              27.52\n",
       "Platform            18.09\n",
       "Adventure           17.55\n",
       "Simulation          13.13\n",
       "Strategy             3.96\n",
       "Puzzle               2.21"
      ]
     },
     "execution_count": 36,
     "metadata": {},
     "output_type": "execute_result"
    }
   ],
   "source": [
    "data_predict.pivot_table(index='genre', values='total_sales', aggfunc='sum').sort_values(by = 'total_sales', ascending = False)"
   ]
  },
  {
   "cell_type": "code",
   "execution_count": 37,
   "metadata": {},
   "outputs": [
    {
     "data": {
      "image/png": "[encoded data removed]",
      "text/plain": [
       "<Figure size 864x576 with 1 Axes>"
      ]
     },
     "metadata": {
      "needs_background": "light"
     },
     "output_type": "display_data"
    }
   ],
   "source": [
    "data_predict.pivot_table(index = 'name', columns = 'genre', values = 'total_sales', aggfunc = 'sum').plot(kind='box', ylim=(0,10), figsize=(12,8));"
   ]
  },
  {
   "cell_type": "markdown",
   "metadata": {},
   "source": [
    "Максимальные продажи в жанрах Action, Shooter, Role-Playing. Минимальные Puzzle, Adventure, Strategy. Похоже что в жанрах с максимальными продажами продается больше разнообразных игр, многие из которых популярны и хорошо продаются, а в жанрах снизкими продажами разнообразие меньше, либо все игры продаются примерно одинакого, суперпопулярных мало. Медиана везде смещена вниз, то есть основной объем игр на супер популярность не выходит. При этом медиана в жанре Shooter находится достаточно высоко, можно сказать что игры в этом жанре продаются хорошо и стабильно. Action напротив, его стабильные продажи находятся на низком уровни, как и у большинства других жанров, но когда выходит какая-то супер игра, ее продажи взлетают на высоту. Role-Playing похоже на Action, но супер игр в этом жанре выходит меньше."
   ]
  },
  {
   "cell_type": "markdown",
   "metadata": {},
   "source": [
    " ### Портрет пользователя каждого региона"
   ]
  },
  {
   "cell_type": "markdown",
   "metadata": {},
   "source": [
    "**Посмотрю самые популярные платформы (топ-5) в зависимости от региона.**"
   ]
  },
  {
   "cell_type": "code",
   "execution_count": 38,
   "metadata": {},
   "outputs": [
    {
     "data": {
      "image/png": "[encoded data removed]",
      "text/plain": [
       "<Figure size 1080x360 with 1 Axes>"
      ]
     },
     "metadata": {
      "needs_background": "light"
     },
     "output_type": "display_data"
    }
   ],
   "source": [
    "data_predict.pivot_table(index = 'platform', values = 'na_sales', aggfunc = 'sum').sort_values(ascending=False, by = 'na_sales').plot(kind = 'bar', figsize=(15,5));"
   ]
  },
  {
   "cell_type": "code",
   "execution_count": 39,
   "metadata": {},
   "outputs": [
    {
     "data": {
      "image/png": "[encoded data removed]",
      "text/plain": [
       "<Figure size 1080x360 with 1 Axes>"
      ]
     },
     "metadata": {
      "needs_background": "light"
     },
     "output_type": "display_data"
    }
   ],
   "source": [
    "data_predict.pivot_table(index = 'platform', values = 'eu_sales', aggfunc = 'sum').sort_values(ascending=False, by = 'eu_sales').plot(kind = 'bar', figsize=(15,5));"
   ]
  },
  {
   "cell_type": "code",
   "execution_count": 40,
   "metadata": {},
   "outputs": [
    {
     "data": {
      "image/png": "[encoded data removed]",
      "text/plain": [
       "<Figure size 1080x360 with 1 Axes>"
      ]
     },
     "metadata": {
      "needs_background": "light"
     },
     "output_type": "display_data"
    }
   ],
   "source": [
    "data_predict.pivot_table(index = 'platform', values = 'jp_sales', aggfunc = 'sum').sort_values(ascending=False, by = 'jp_sales').plot(kind = 'bar', figsize=(15,5));"
   ]
  },
  {
   "cell_type": "markdown",
   "metadata": {},
   "source": [
    "В топе у пользователей Северной Америки платформа PS4, XOne, X360, 3DS, PS3. У Европейских пользователей порядок несколько другой PS4, XOne, PS3, PC, 3DS. В Японии в топе исключительно платформы собственного производства 3DS, PS4, PSV, PS3, WiiU. \n",
    "Большая часть популярных игровых платформ японские, при этом пользователи в Америке предпочитают \"свою\" платформу всем остальным, а Японцы исключительно японские, при этом с отрывом лидирует Nintendo DS карманная игровая консоль. В Европе смешанные предпочтения, при этом только в Европе в ТОП-5 есть PC."
   ]
  },
  {
   "cell_type": "markdown",
   "metadata": {},
   "source": [
    "**Самые популярные жанры (топ-5).**"
   ]
  },
  {
   "cell_type": "code",
   "execution_count": 41,
   "metadata": {},
   "outputs": [
    {
     "data": {
      "image/png": "[encoded data removed]",
      "text/plain": [
       "<Figure size 1080x360 with 1 Axes>"
      ]
     },
     "metadata": {
      "needs_background": "light"
     },
     "output_type": "display_data"
    }
   ],
   "source": [
    "data_predict.pivot_table(index = 'genre', values = 'na_sales', aggfunc = 'sum').sort_values(ascending=False, by = 'na_sales').plot(kind = 'bar', figsize=(15,5));"
   ]
  },
  {
   "cell_type": "code",
   "execution_count": 42,
   "metadata": {},
   "outputs": [
    {
     "data": {
      "image/png": "[encoded data removed]",
      "text/plain": [
       "<Figure size 1080x360 with 1 Axes>"
      ]
     },
     "metadata": {
      "needs_background": "light"
     },
     "output_type": "display_data"
    }
   ],
   "source": [
    "data_predict.pivot_table(index = 'genre', values = 'eu_sales', aggfunc = 'sum').sort_values(ascending=False, by = 'eu_sales').plot(kind = 'bar', figsize=(15,5));"
   ]
  },
  {
   "cell_type": "code",
   "execution_count": 43,
   "metadata": {},
   "outputs": [
    {
     "data": {
      "image/png": "[encoded data removed]",
      "text/plain": [
       "<Figure size 1080x360 with 1 Axes>"
      ]
     },
     "metadata": {
      "needs_background": "light"
     },
     "output_type": "display_data"
    }
   ],
   "source": [
    "data_predict.pivot_table(index = 'genre', values = 'jp_sales', aggfunc = 'sum').sort_values(ascending=False, by = 'jp_sales').plot(kind = 'bar', figsize=(15,5));"
   ]
  },
  {
   "cell_type": "markdown",
   "metadata": {},
   "source": [
    "Предпочтения американских и европейских пользователей в целом похожи, топ 4 у них одинаковые: Action, Shooter, Sports, Role-Playing на 5 месте у американцев Misc, у европейцев Racing. А вот Японские пользователи отличились, у них на первом месте Role-Playing что вероятнее всего объясняется распространением карманной платформы, следующие 2 место лидер в Европе и Америке Action,  Fighting замфкает тройку лидеров.  На 4 и 5 местах у японской аудитории Misc и Shooter. Основная масса игр в жанре шутер производятся на западе и не понятны\\не близки японской аудитории."
   ]
  },
  {
   "cell_type": "markdown",
   "metadata": {},
   "source": [
    "**Посмотрим влияет ли рейтинг ESRB на продажи в отдельном регионе.**"
   ]
  },
  {
   "cell_type": "code",
   "execution_count": 44,
   "metadata": {},
   "outputs": [
    {
     "data": {
      "text/html": [
       "<div>\n",
       "<style scoped>\n",
       "    .dataframe tbody tr th:only-of-type {\n",
       "        vertical-align: middle;\n",
       "    }\n",
       "\n",
       "    .dataframe tbody tr th {\n",
       "        vertical-align: top;\n",
       "    }\n",
       "\n",
       "    .dataframe thead th {\n",
       "        text-align: right;\n",
       "    }\n",
       "</style>\n",
       "<table border=\"1\" class=\"dataframe\">\n",
       "  <thead>\n",
       "    <tr style=\"text-align: right;\">\n",
       "      <th></th>\n",
       "      <th>eu_sales</th>\n",
       "      <th>jp_sales</th>\n",
       "      <th>na_sales</th>\n",
       "    </tr>\n",
       "    <tr>\n",
       "      <th>rating</th>\n",
       "      <th></th>\n",
       "      <th></th>\n",
       "      <th></th>\n",
       "    </tr>\n",
       "  </thead>\n",
       "  <tbody>\n",
       "    <tr>\n",
       "      <th>E</th>\n",
       "      <td>58.06</td>\n",
       "      <td>8.94</td>\n",
       "      <td>50.74</td>\n",
       "    </tr>\n",
       "    <tr>\n",
       "      <th>E10+</th>\n",
       "      <td>26.16</td>\n",
       "      <td>4.46</td>\n",
       "      <td>33.23</td>\n",
       "    </tr>\n",
       "    <tr>\n",
       "      <th>M</th>\n",
       "      <td>93.44</td>\n",
       "      <td>8.01</td>\n",
       "      <td>96.42</td>\n",
       "    </tr>\n",
       "    <tr>\n",
       "      <th>T</th>\n",
       "      <td>34.07</td>\n",
       "      <td>14.78</td>\n",
       "      <td>38.95</td>\n",
       "    </tr>\n",
       "    <tr>\n",
       "      <th>norating</th>\n",
       "      <td>58.95</td>\n",
       "      <td>56.90</td>\n",
       "      <td>64.72</td>\n",
       "    </tr>\n",
       "  </tbody>\n",
       "</table>\n",
       "</div>"
      ],
      "text/plain": [
       "          eu_sales  jp_sales  na_sales\n",
       "rating                                \n",
       "E            58.06      8.94     50.74\n",
       "E10+         26.16      4.46     33.23\n",
       "M            93.44      8.01     96.42\n",
       "T            34.07     14.78     38.95\n",
       "norating     58.95     56.90     64.72"
      ]
     },
     "execution_count": 44,
     "metadata": {},
     "output_type": "execute_result"
    }
   ],
   "source": [
    "ESRB = data_predict.pivot_table(index = 'rating', values = ['eu_sales','jp_sales','na_sales'], aggfunc = 'sum')\n",
    "ESRB"
   ]
  },
  {
   "cell_type": "markdown",
   "metadata": {},
   "source": [
    "В Японии больше половины проданных игр не имеют рейтинга, это логично, так как ESRB создана для рейтингования развлекательного программного обеспечения в США и Канаде. А так как Японцы предпочитают карманные игровые консоли, то соответственно и игры собственного производства. В Европе и Америке распределение по рейтингам схожее, но есть и отличия. Лидер рейтинга «M» («Mature») — «Для взрослых» (шутеры как раз продают под этой маркировкой), на втором месте в Америке игры без рейтига, затем «E» («Everyone») — «Для всех», в Европе на втором месте Е, потом без рейтинга. "
   ]
  },
  {
   "cell_type": "markdown",
   "metadata": {},
   "source": [
    "### Проверяю гипотезы"
   ]
  },
  {
   "cell_type": "markdown",
   "metadata": {},
   "source": [
    "Нам необходимо проверить гипотезы о равенстве среднего двух генеральных совокупностей по взятым из них выборкам, для этого используем Т-тест. Нулевая гипотеза всегда предпологает что средние одинаковы. H1 это альтернативная гипотеза, которая должна противоречить нулевой. Выберем критический уровень значимости равным 5% это общепринятое значение. Если p-value больше этого уровня значит принимаем нулевую гипотезу."
   ]
  },
  {
   "cell_type": "markdown",
   "metadata": {},
   "source": [
    "**Первый тест**"
   ]
  },
  {
   "cell_type": "markdown",
   "metadata": {},
   "source": [
    "H0: Средние пользовательские рейтинги платформ Xbox One и PC одинаковые\n",
    "\n",
    "H1: Средние пользовательские рейтинги платформ Xbox One и PC не одинаковые"
   ]
  },
  {
   "cell_type": "code",
   "execution_count": 45,
   "metadata": {},
   "outputs": [],
   "source": [
    "XOne = data_predict[(data_predict['platform'] == 'XOne') & (data_predict['user_score'] > 0)]['user_score'] # сделаем выборку из DF\n",
    "PC = data_predict[(data_predict['platform'] == 'PC') & (data_predict['user_score'] > 0)]['user_score']"
   ]
  },
  {
   "cell_type": "code",
   "execution_count": 46,
   "metadata": {},
   "outputs": [
    {
     "name": "stdout",
     "output_type": "stream",
     "text": [
      "p-значение: 0.11601398086668832\n",
      "Не получилось отвергнуть нулевую гипотезу\n"
     ]
    }
   ],
   "source": [
    "alpha = 0.05\n",
    "\n",
    "results = st.ttest_ind(XOne, PC, equal_var=False)\n",
    "\n",
    "print('p-значение:', results.pvalue)\n",
    "\n",
    "\n",
    "if results.pvalue < alpha:\n",
    "    print(\"Отвергаем нулевую гипотезу\")\n",
    "else:\n",
    "    print(\"Не получилось отвергнуть нулевую гипотезу\")"
   ]
  },
  {
   "cell_type": "markdown",
   "metadata": {},
   "source": [
    "Вывод: Средние пользовательские рейтинги платформ Xbox One и PC одинаковые, нет данных которые противоречат выводу"
   ]
  },
  {
   "cell_type": "markdown",
   "metadata": {},
   "source": [
    "**Второй тест**"
   ]
  },
  {
   "cell_type": "markdown",
   "metadata": {},
   "source": [
    "H0: Средние пользовательские рейтинги жанров Action и Sports одинаковые.\n",
    "\n",
    "H1: Средние пользовательские рейтинги жанров Action и Sports не одинаковые."
   ]
  },
  {
   "cell_type": "code",
   "execution_count": 47,
   "metadata": {},
   "outputs": [],
   "source": [
    "Action = data_predict[(data_predict['genre'] == 'Action') &  (data_predict['user_score'] > 0)]['user_score'] # сделаем выборку из DF\n",
    "Sports = data_predict[(data_predict['genre'] == 'Sports') &  (data_predict['user_score'] > 0)]['user_score']"
   ]
  },
  {
   "cell_type": "code",
   "execution_count": 48,
   "metadata": {},
   "outputs": [
    {
     "name": "stdout",
     "output_type": "stream",
     "text": [
      "p-значение: 1.1825550382644557e-14\n",
      "Отвергаем нулевую гипотезу\n"
     ]
    }
   ],
   "source": [
    "alpha = 0.05\n",
    "\n",
    "results = st.ttest_ind(Action, Sports, equal_var=False)\n",
    "\n",
    "print('p-значение:', results.pvalue)\n",
    "\n",
    "\n",
    "if results.pvalue < alpha:\n",
    "    print(\"Отвергаем нулевую гипотезу\")\n",
    "else:\n",
    "    print(\"Не получилось отвергнуть нулевую гипотезу\")"
   ]
  },
  {
   "cell_type": "markdown",
   "metadata": {},
   "source": [
    "Вывод: Средние пользовательские рейтинги жанров Action и Sports не одинаковые."
   ]
  },
  {
   "cell_type": "markdown",
   "metadata": {},
   "source": [
    "### Общий вывод"
   ]
  },
  {
   "cell_type": "markdown",
   "metadata": {},
   "source": [
    "Успешность продажи игры зависит от региона в котором продается игра, платформы, жанра, оценок критиков (чем выше оценка, тем лучше продажи).\n",
    "\n",
    "В Северной Америке лучше всего продаются:\n",
    "- платформы PS4, XOne\n",
    "- жанры Shooter, Action, Sports, Role-Playing, Misc\n",
    "- ESRB: norating, M, E\n",
    "\n",
    "В Европе:\n",
    "- платформы  PS4, XOne, PC\n",
    "- жанры Action, Shooter, Sports, Role-Playing, Racing\n",
    "- ESRB: norating, E, M\n",
    "\n",
    "В Японии: \n",
    "- платформы  3DS, PS4\n",
    "- жанры Role-Playing, Action,  Fighting, Misc и Shooter\n",
    "- ESRB:  norating\n",
    "\n",
    "В целом рынок игр по количеству продаж и выпуску новых релизов сжимается и есть все предпосылки, что он продолжит сжиматся и в 2017 году.\n",
    "Самая популярная платформа - лидер по продажам игр это PS4 (при этом она в топе во всех изучаемых регионах), на нее стоит обратить внимание в первую очередь, если будем брать вторую платформу для рекламы, нужно решить на какой рынок мы хотим ориентироваться, если европейский и американский, то XOne, если Японский 3DS. По жанрам стот сделать ставку на Shooter, Action. Если ориентируемся на Японию, то Role-Playing. Action нужно брать в любом случае, так как он в топе на всех рынках. Так же при выборе игр стоит обращать внимание на отзывы критиков, по крайней мере не брать игры у которых отзывы совсем ниже 50, на оценки пользователей ориентироваться не нужно. Игры без рейтига ESRB хорошо продаются во всех регионах исследования, это не удивительно, Япония давно является одним из мировых лидеров по производству игр. Игры с рейтингами М и Е хорошо продаются на рынках Америки и Европы, но не в Японии."
   ]
  }
 ],
 "metadata": {
  "ExecuteTimeLog": [
   {
    "duration": 374,
    "start_time": "2022-12-26T07:24:58.015Z"
   },
   {
    "duration": 4,
    "start_time": "2022-12-26T07:26:24.813Z"
   },
   {
    "duration": 93,
    "start_time": "2022-12-26T07:27:03.734Z"
   },
   {
    "duration": 42,
    "start_time": "2022-12-26T07:27:09.928Z"
   },
   {
    "duration": 88,
    "start_time": "2022-12-26T07:27:21.370Z"
   },
   {
    "duration": 19,
    "start_time": "2022-12-26T07:31:21.249Z"
   },
   {
    "duration": 13,
    "start_time": "2022-12-26T07:32:03.482Z"
   },
   {
    "duration": 4,
    "start_time": "2022-12-26T07:40:03.041Z"
   },
   {
    "duration": 13,
    "start_time": "2022-12-26T07:40:12.275Z"
   },
   {
    "duration": 11,
    "start_time": "2022-12-26T07:59:53.392Z"
   },
   {
    "duration": 19,
    "start_time": "2022-12-26T08:00:04.093Z"
   },
   {
    "duration": 14,
    "start_time": "2022-12-26T08:00:24.195Z"
   },
   {
    "duration": 20,
    "start_time": "2022-12-26T08:00:24.786Z"
   },
   {
    "duration": 7,
    "start_time": "2022-12-26T08:01:45.313Z"
   },
   {
    "duration": 12,
    "start_time": "2022-12-26T08:01:46.222Z"
   },
   {
    "duration": 3,
    "start_time": "2022-12-26T08:02:57.565Z"
   },
   {
    "duration": 53,
    "start_time": "2022-12-26T08:02:57.569Z"
   },
   {
    "duration": 14,
    "start_time": "2022-12-26T08:02:57.624Z"
   },
   {
    "duration": 16,
    "start_time": "2022-12-26T08:02:57.639Z"
   },
   {
    "duration": 3,
    "start_time": "2022-12-26T08:02:57.657Z"
   },
   {
    "duration": 12,
    "start_time": "2022-12-26T08:02:57.662Z"
   },
   {
    "duration": 34,
    "start_time": "2022-12-26T08:02:57.675Z"
   },
   {
    "duration": 7,
    "start_time": "2022-12-26T08:04:42.291Z"
   },
   {
    "duration": 13,
    "start_time": "2022-12-26T08:04:42.966Z"
   },
   {
    "duration": 33,
    "start_time": "2022-12-26T08:05:09.942Z"
   },
   {
    "duration": 8,
    "start_time": "2022-12-26T08:07:06.480Z"
   },
   {
    "duration": 14,
    "start_time": "2022-12-26T08:07:07.456Z"
   },
   {
    "duration": 10,
    "start_time": "2022-12-26T08:09:29.177Z"
   },
   {
    "duration": 8,
    "start_time": "2022-12-26T08:09:40.463Z"
   },
   {
    "duration": 11,
    "start_time": "2022-12-26T08:09:51.206Z"
   },
   {
    "duration": 81,
    "start_time": "2022-12-26T08:11:38.561Z"
   },
   {
    "duration": 21,
    "start_time": "2022-12-26T08:11:51.229Z"
   },
   {
    "duration": 207,
    "start_time": "2022-12-26T08:13:10.046Z"
   },
   {
    "duration": 11,
    "start_time": "2022-12-26T08:13:26.170Z"
   },
   {
    "duration": 6,
    "start_time": "2022-12-26T08:15:06.974Z"
   },
   {
    "duration": 20,
    "start_time": "2022-12-26T08:17:14.773Z"
   },
   {
    "duration": 14,
    "start_time": "2022-12-26T08:17:27.393Z"
   },
   {
    "duration": 23,
    "start_time": "2022-12-26T08:17:42.379Z"
   },
   {
    "duration": 17,
    "start_time": "2022-12-26T08:25:31.057Z"
   },
   {
    "duration": 13,
    "start_time": "2022-12-26T08:25:49.915Z"
   },
   {
    "duration": 13,
    "start_time": "2022-12-26T08:26:40.144Z"
   },
   {
    "duration": 3,
    "start_time": "2022-12-26T08:28:43.246Z"
   },
   {
    "duration": 62,
    "start_time": "2022-12-26T08:28:43.250Z"
   },
   {
    "duration": 13,
    "start_time": "2022-12-26T08:28:43.313Z"
   },
   {
    "duration": 14,
    "start_time": "2022-12-26T08:28:43.327Z"
   },
   {
    "duration": 3,
    "start_time": "2022-12-26T08:28:43.343Z"
   },
   {
    "duration": 10,
    "start_time": "2022-12-26T08:28:43.347Z"
   },
   {
    "duration": 40,
    "start_time": "2022-12-26T08:28:43.358Z"
   },
   {
    "duration": 9,
    "start_time": "2022-12-26T08:28:43.399Z"
   },
   {
    "duration": 13,
    "start_time": "2022-12-26T08:28:43.409Z"
   },
   {
    "duration": 15,
    "start_time": "2022-12-26T08:30:28.726Z"
   },
   {
    "duration": 12,
    "start_time": "2022-12-26T08:30:29.631Z"
   },
   {
    "duration": 13,
    "start_time": "2022-12-26T08:30:53.862Z"
   },
   {
    "duration": 7,
    "start_time": "2022-12-26T08:31:29.640Z"
   },
   {
    "duration": 14,
    "start_time": "2022-12-26T08:31:30.175Z"
   },
   {
    "duration": 12,
    "start_time": "2022-12-26T08:31:31.246Z"
   },
   {
    "duration": 9,
    "start_time": "2022-12-26T08:40:46.544Z"
   },
   {
    "duration": 12,
    "start_time": "2022-12-26T08:40:53.377Z"
   },
   {
    "duration": 5,
    "start_time": "2022-12-26T08:42:25.298Z"
   },
   {
    "duration": 6,
    "start_time": "2022-12-26T08:48:25.829Z"
   },
   {
    "duration": 13,
    "start_time": "2022-12-26T08:48:37.558Z"
   },
   {
    "duration": 3,
    "start_time": "2022-12-26T08:48:45.443Z"
   },
   {
    "duration": 59,
    "start_time": "2022-12-26T08:48:45.448Z"
   },
   {
    "duration": 12,
    "start_time": "2022-12-26T08:48:45.509Z"
   },
   {
    "duration": 15,
    "start_time": "2022-12-26T08:48:45.523Z"
   },
   {
    "duration": 3,
    "start_time": "2022-12-26T08:48:45.540Z"
   },
   {
    "duration": 8,
    "start_time": "2022-12-26T08:48:45.544Z"
   },
   {
    "duration": 22,
    "start_time": "2022-12-26T08:48:45.553Z"
   },
   {
    "duration": 23,
    "start_time": "2022-12-26T08:48:45.577Z"
   },
   {
    "duration": 19,
    "start_time": "2022-12-26T08:48:45.602Z"
   },
   {
    "duration": 11,
    "start_time": "2022-12-26T08:48:45.623Z"
   },
   {
    "duration": 18,
    "start_time": "2022-12-26T08:48:45.635Z"
   },
   {
    "duration": 23,
    "start_time": "2022-12-26T08:48:45.655Z"
   },
   {
    "duration": 9,
    "start_time": "2022-12-26T08:51:51.920Z"
   },
   {
    "duration": 7,
    "start_time": "2022-12-26T08:52:05.466Z"
   },
   {
    "duration": 7,
    "start_time": "2022-12-26T08:53:18.100Z"
   },
   {
    "duration": 13,
    "start_time": "2022-12-26T08:53:18.737Z"
   },
   {
    "duration": 14,
    "start_time": "2022-12-26T08:54:21.522Z"
   },
   {
    "duration": 7,
    "start_time": "2022-12-26T08:56:58.216Z"
   },
   {
    "duration": 5,
    "start_time": "2022-12-26T08:57:36.012Z"
   },
   {
    "duration": 4,
    "start_time": "2022-12-26T09:21:00.134Z"
   },
   {
    "duration": 14,
    "start_time": "2022-12-26T09:21:16.377Z"
   },
   {
    "duration": 5,
    "start_time": "2022-12-26T09:22:10.626Z"
   },
   {
    "duration": 15,
    "start_time": "2022-12-26T09:22:11.181Z"
   },
   {
    "duration": 74,
    "start_time": "2022-12-26T09:35:03.636Z"
   },
   {
    "duration": 574,
    "start_time": "2022-12-26T09:44:49.270Z"
   },
   {
    "duration": 112,
    "start_time": "2022-12-26T09:45:08.537Z"
   },
   {
    "duration": 106,
    "start_time": "2022-12-26T09:46:41.296Z"
   },
   {
    "duration": 136,
    "start_time": "2022-12-26T09:46:59.122Z"
   },
   {
    "duration": 109,
    "start_time": "2022-12-26T09:48:36.519Z"
   },
   {
    "duration": 114,
    "start_time": "2022-12-26T09:48:44.031Z"
   },
   {
    "duration": 107,
    "start_time": "2022-12-26T09:48:51.450Z"
   },
   {
    "duration": 141,
    "start_time": "2022-12-26T09:49:00.074Z"
   },
   {
    "duration": 217,
    "start_time": "2022-12-26T09:49:21.666Z"
   },
   {
    "duration": 127,
    "start_time": "2022-12-26T09:49:31.247Z"
   },
   {
    "duration": 160,
    "start_time": "2022-12-26T09:50:01.789Z"
   },
   {
    "duration": 174,
    "start_time": "2022-12-26T09:50:15.998Z"
   },
   {
    "duration": 47,
    "start_time": "2022-12-26T09:52:53.977Z"
   },
   {
    "duration": 12,
    "start_time": "2022-12-26T09:55:51.682Z"
   },
   {
    "duration": 29,
    "start_time": "2022-12-26T09:56:02.148Z"
   },
   {
    "duration": 3,
    "start_time": "2022-12-26T09:56:31.911Z"
   },
   {
    "duration": 56,
    "start_time": "2022-12-26T09:56:31.915Z"
   },
   {
    "duration": 13,
    "start_time": "2022-12-26T09:56:31.972Z"
   },
   {
    "duration": 19,
    "start_time": "2022-12-26T09:56:31.986Z"
   },
   {
    "duration": 19,
    "start_time": "2022-12-26T09:56:32.007Z"
   },
   {
    "duration": 21,
    "start_time": "2022-12-26T09:56:32.027Z"
   },
   {
    "duration": 22,
    "start_time": "2022-12-26T09:56:32.050Z"
   },
   {
    "duration": 7,
    "start_time": "2022-12-26T09:56:32.074Z"
   },
   {
    "duration": 9,
    "start_time": "2022-12-26T09:56:32.082Z"
   },
   {
    "duration": 33,
    "start_time": "2022-12-26T09:56:32.093Z"
   },
   {
    "duration": 9,
    "start_time": "2022-12-26T09:56:32.128Z"
   },
   {
    "duration": 7,
    "start_time": "2022-12-26T09:56:32.138Z"
   },
   {
    "duration": 6,
    "start_time": "2022-12-26T09:56:32.146Z"
   },
   {
    "duration": 10,
    "start_time": "2022-12-26T09:56:32.155Z"
   },
   {
    "duration": 22,
    "start_time": "2022-12-26T09:56:32.166Z"
   },
   {
    "duration": 17,
    "start_time": "2022-12-26T09:56:32.189Z"
   },
   {
    "duration": 46,
    "start_time": "2022-12-26T09:56:32.212Z"
   },
   {
    "duration": 177,
    "start_time": "2022-12-26T09:56:32.260Z"
   },
   {
    "duration": 25,
    "start_time": "2022-12-26T09:57:01.546Z"
   },
   {
    "duration": 2,
    "start_time": "2022-12-26T10:05:05.213Z"
   },
   {
    "duration": 58,
    "start_time": "2022-12-26T10:05:05.217Z"
   },
   {
    "duration": 12,
    "start_time": "2022-12-26T10:05:05.276Z"
   },
   {
    "duration": 24,
    "start_time": "2022-12-26T10:05:05.289Z"
   },
   {
    "duration": 2,
    "start_time": "2022-12-26T10:05:05.315Z"
   },
   {
    "duration": 7,
    "start_time": "2022-12-26T10:05:05.319Z"
   },
   {
    "duration": 24,
    "start_time": "2022-12-26T10:05:05.327Z"
   },
   {
    "duration": 11,
    "start_time": "2022-12-26T10:05:05.352Z"
   },
   {
    "duration": 19,
    "start_time": "2022-12-26T10:05:05.364Z"
   },
   {
    "duration": 19,
    "start_time": "2022-12-26T10:05:05.385Z"
   },
   {
    "duration": 9,
    "start_time": "2022-12-26T10:05:05.405Z"
   },
   {
    "duration": 6,
    "start_time": "2022-12-26T10:05:05.415Z"
   },
   {
    "duration": 7,
    "start_time": "2022-12-26T10:05:05.422Z"
   },
   {
    "duration": 10,
    "start_time": "2022-12-26T10:05:05.431Z"
   },
   {
    "duration": 10,
    "start_time": "2022-12-26T10:05:05.442Z"
   },
   {
    "duration": 20,
    "start_time": "2022-12-26T10:05:05.453Z"
   },
   {
    "duration": 55,
    "start_time": "2022-12-26T10:05:05.475Z"
   },
   {
    "duration": 179,
    "start_time": "2022-12-26T10:05:05.531Z"
   },
   {
    "duration": 12,
    "start_time": "2022-12-26T10:05:39.221Z"
   },
   {
    "duration": 2,
    "start_time": "2022-12-26T10:20:34.983Z"
   },
   {
    "duration": 62,
    "start_time": "2022-12-26T10:20:35.896Z"
   },
   {
    "duration": 13,
    "start_time": "2022-12-26T10:20:36.855Z"
   },
   {
    "duration": 13,
    "start_time": "2022-12-26T10:20:38.529Z"
   },
   {
    "duration": 3,
    "start_time": "2022-12-26T10:20:44.290Z"
   },
   {
    "duration": 5,
    "start_time": "2022-12-26T10:20:46.355Z"
   },
   {
    "duration": 26,
    "start_time": "2022-12-26T10:20:49.917Z"
   },
   {
    "duration": 13,
    "start_time": "2022-12-26T10:20:54.863Z"
   },
   {
    "duration": 7,
    "start_time": "2022-12-26T10:21:18.766Z"
   },
   {
    "duration": 14,
    "start_time": "2022-12-26T10:21:21.891Z"
   },
   {
    "duration": 10,
    "start_time": "2022-12-26T10:22:13.360Z"
   },
   {
    "duration": 7,
    "start_time": "2022-12-26T10:22:30.403Z"
   },
   {
    "duration": 8,
    "start_time": "2022-12-26T10:22:31.096Z"
   },
   {
    "duration": 6,
    "start_time": "2022-12-26T10:22:32.156Z"
   },
   {
    "duration": 6,
    "start_time": "2022-12-26T10:22:34.085Z"
   },
   {
    "duration": 17,
    "start_time": "2022-12-26T10:22:34.803Z"
   },
   {
    "duration": 41,
    "start_time": "2022-12-26T10:22:40.269Z"
   },
   {
    "duration": 155,
    "start_time": "2022-12-26T10:22:45.174Z"
   },
   {
    "duration": 6,
    "start_time": "2022-12-26T10:26:00.413Z"
   },
   {
    "duration": 7,
    "start_time": "2022-12-26T10:26:12.866Z"
   },
   {
    "duration": 8,
    "start_time": "2022-12-26T10:26:29.353Z"
   },
   {
    "duration": 32,
    "start_time": "2022-12-26T10:36:42.046Z"
   },
   {
    "duration": 15,
    "start_time": "2022-12-26T10:38:33.407Z"
   },
   {
    "duration": 17,
    "start_time": "2022-12-26T10:38:53.949Z"
   },
   {
    "duration": 21,
    "start_time": "2022-12-26T10:39:09.097Z"
   },
   {
    "duration": 7,
    "start_time": "2022-12-26T10:39:54.893Z"
   },
   {
    "duration": 8,
    "start_time": "2022-12-26T10:41:07.985Z"
   },
   {
    "duration": 13,
    "start_time": "2022-12-26T10:41:51.897Z"
   },
   {
    "duration": 15,
    "start_time": "2022-12-26T10:42:27.320Z"
   },
   {
    "duration": 9,
    "start_time": "2022-12-26T10:42:47.378Z"
   },
   {
    "duration": 15,
    "start_time": "2022-12-26T10:42:58.754Z"
   },
   {
    "duration": 5,
    "start_time": "2022-12-26T10:46:36.446Z"
   },
   {
    "duration": 4,
    "start_time": "2022-12-26T10:47:02.262Z"
   },
   {
    "duration": 4,
    "start_time": "2022-12-26T10:47:16.159Z"
   },
   {
    "duration": 6,
    "start_time": "2022-12-26T10:47:34.380Z"
   },
   {
    "duration": 512,
    "start_time": "2022-12-26T10:53:23.199Z"
   },
   {
    "duration": 47,
    "start_time": "2022-12-26T10:53:28.501Z"
   },
   {
    "duration": 1432,
    "start_time": "2022-12-26T10:53:55.339Z"
   },
   {
    "duration": 1527,
    "start_time": "2022-12-26T10:56:42.594Z"
   },
   {
    "duration": 1426,
    "start_time": "2022-12-26T10:57:01.458Z"
   },
   {
    "duration": 1647,
    "start_time": "2022-12-26T10:57:42.687Z"
   },
   {
    "duration": 147,
    "start_time": "2022-12-26T11:01:04.462Z"
   },
   {
    "duration": 1687,
    "start_time": "2022-12-26T11:03:31.870Z"
   },
   {
    "duration": 258,
    "start_time": "2022-12-26T11:08:36.312Z"
   },
   {
    "duration": 224,
    "start_time": "2022-12-26T11:08:49.674Z"
   },
   {
    "duration": 9,
    "start_time": "2022-12-26T11:13:39.766Z"
   },
   {
    "duration": 5,
    "start_time": "2022-12-26T11:13:47.759Z"
   },
   {
    "duration": 222,
    "start_time": "2022-12-26T11:13:48.867Z"
   },
   {
    "duration": 1229,
    "start_time": "2022-12-27T05:59:37.976Z"
   },
   {
    "duration": 95,
    "start_time": "2022-12-27T05:59:39.207Z"
   },
   {
    "duration": 18,
    "start_time": "2022-12-27T05:59:39.304Z"
   },
   {
    "duration": 18,
    "start_time": "2022-12-27T05:59:39.324Z"
   },
   {
    "duration": 3,
    "start_time": "2022-12-27T05:59:39.345Z"
   },
   {
    "duration": 11,
    "start_time": "2022-12-27T05:59:39.350Z"
   },
   {
    "duration": 26,
    "start_time": "2022-12-27T05:59:39.363Z"
   },
   {
    "duration": 25,
    "start_time": "2022-12-27T05:59:39.391Z"
   },
   {
    "duration": 18,
    "start_time": "2022-12-27T05:59:39.417Z"
   },
   {
    "duration": 10,
    "start_time": "2022-12-27T05:59:39.436Z"
   },
   {
    "duration": 6,
    "start_time": "2022-12-27T05:59:39.448Z"
   },
   {
    "duration": 7,
    "start_time": "2022-12-27T05:59:39.455Z"
   },
   {
    "duration": 7,
    "start_time": "2022-12-27T05:59:39.463Z"
   },
   {
    "duration": 6,
    "start_time": "2022-12-27T05:59:39.472Z"
   },
   {
    "duration": 44,
    "start_time": "2022-12-27T05:59:39.480Z"
   },
   {
    "duration": 45,
    "start_time": "2022-12-27T05:59:39.526Z"
   },
   {
    "duration": 192,
    "start_time": "2022-12-27T05:59:39.573Z"
   },
   {
    "duration": 8,
    "start_time": "2022-12-27T05:59:39.766Z"
   },
   {
    "duration": 17,
    "start_time": "2022-12-27T05:59:39.775Z"
   },
   {
    "duration": 20,
    "start_time": "2022-12-27T05:59:39.794Z"
   },
   {
    "duration": 6,
    "start_time": "2022-12-27T05:59:39.816Z"
   },
   {
    "duration": 267,
    "start_time": "2022-12-27T05:59:39.824Z"
   },
   {
    "duration": 6,
    "start_time": "2022-12-27T05:59:40.093Z"
   },
   {
    "duration": 43,
    "start_time": "2022-12-27T06:01:28.167Z"
   },
   {
    "duration": 312,
    "start_time": "2022-12-27T06:01:34.105Z"
   },
   {
    "duration": 32,
    "start_time": "2022-12-27T06:02:58.490Z"
   },
   {
    "duration": 50,
    "start_time": "2022-12-27T06:03:35.913Z"
   },
   {
    "duration": 18,
    "start_time": "2022-12-27T06:03:55.950Z"
   },
   {
    "duration": 22,
    "start_time": "2022-12-27T06:05:56.576Z"
   },
   {
    "duration": 372,
    "start_time": "2022-12-27T06:08:34.234Z"
   },
   {
    "duration": 482,
    "start_time": "2022-12-27T06:15:34.505Z"
   },
   {
    "duration": 324,
    "start_time": "2022-12-27T06:15:59.585Z"
   },
   {
    "duration": 369,
    "start_time": "2022-12-27T06:17:03.669Z"
   },
   {
    "duration": 446,
    "start_time": "2022-12-27T06:17:53.808Z"
   },
   {
    "duration": 29,
    "start_time": "2022-12-27T06:19:26.268Z"
   },
   {
    "duration": 8,
    "start_time": "2022-12-27T06:30:21.009Z"
   },
   {
    "duration": 19,
    "start_time": "2022-12-27T06:30:21.889Z"
   },
   {
    "duration": 353,
    "start_time": "2022-12-27T06:31:10.031Z"
   },
   {
    "duration": 242,
    "start_time": "2022-12-27T06:47:17.575Z"
   },
   {
    "duration": 31,
    "start_time": "2022-12-27T06:58:33.912Z"
   },
   {
    "duration": 18,
    "start_time": "2022-12-27T07:36:43.009Z"
   },
   {
    "duration": 14,
    "start_time": "2022-12-27T07:37:02.456Z"
   },
   {
    "duration": 147,
    "start_time": "2022-12-27T07:42:43.371Z"
   },
   {
    "duration": 147,
    "start_time": "2022-12-27T07:42:55.160Z"
   },
   {
    "duration": 11,
    "start_time": "2022-12-27T07:45:32.210Z"
   },
   {
    "duration": 297,
    "start_time": "2022-12-27T07:47:35.793Z"
   },
   {
    "duration": 11,
    "start_time": "2022-12-27T07:48:13.848Z"
   },
   {
    "duration": 11,
    "start_time": "2022-12-27T07:48:28.304Z"
   },
   {
    "duration": 10,
    "start_time": "2022-12-27T07:48:32.891Z"
   },
   {
    "duration": 411,
    "start_time": "2022-12-27T07:49:45.173Z"
   },
   {
    "duration": 11,
    "start_time": "2022-12-27T07:50:08.973Z"
   },
   {
    "duration": 674,
    "start_time": "2022-12-27T07:52:25.408Z"
   },
   {
    "duration": 14,
    "start_time": "2022-12-27T07:52:46.391Z"
   },
   {
    "duration": 17,
    "start_time": "2022-12-27T08:13:27.004Z"
   },
   {
    "duration": 262,
    "start_time": "2022-12-27T08:44:59.099Z"
   },
   {
    "duration": 285,
    "start_time": "2022-12-27T08:45:12.730Z"
   },
   {
    "duration": 274,
    "start_time": "2022-12-27T08:45:22.070Z"
   },
   {
    "duration": 313,
    "start_time": "2022-12-27T08:47:09.998Z"
   },
   {
    "duration": 376,
    "start_time": "2022-12-27T08:47:21.228Z"
   },
   {
    "duration": 257,
    "start_time": "2022-12-27T08:47:27.245Z"
   },
   {
    "duration": 261,
    "start_time": "2022-12-27T08:47:37.744Z"
   },
   {
    "duration": 284,
    "start_time": "2022-12-27T08:51:02.449Z"
   },
   {
    "duration": 251,
    "start_time": "2022-12-27T08:51:13.843Z"
   },
   {
    "duration": 278,
    "start_time": "2022-12-27T08:51:28.203Z"
   },
   {
    "duration": 396,
    "start_time": "2022-12-27T08:52:01.377Z"
   },
   {
    "duration": 282,
    "start_time": "2022-12-27T08:52:45.494Z"
   },
   {
    "duration": 289,
    "start_time": "2022-12-27T09:00:23.772Z"
   },
   {
    "duration": 3,
    "start_time": "2022-12-27T09:13:12.696Z"
   },
   {
    "duration": 49,
    "start_time": "2022-12-27T09:13:13.846Z"
   },
   {
    "duration": 12,
    "start_time": "2022-12-27T09:16:59.226Z"
   },
   {
    "duration": 10,
    "start_time": "2022-12-27T09:17:30.094Z"
   },
   {
    "duration": 2,
    "start_time": "2022-12-27T09:19:14.197Z"
   },
   {
    "duration": 52,
    "start_time": "2022-12-27T09:19:14.201Z"
   },
   {
    "duration": 13,
    "start_time": "2022-12-27T09:19:14.254Z"
   },
   {
    "duration": 12,
    "start_time": "2022-12-27T09:19:14.270Z"
   },
   {
    "duration": 3,
    "start_time": "2022-12-27T09:19:14.284Z"
   },
   {
    "duration": 7,
    "start_time": "2022-12-27T09:19:14.289Z"
   },
   {
    "duration": 31,
    "start_time": "2022-12-27T09:19:14.298Z"
   },
   {
    "duration": 8,
    "start_time": "2022-12-27T09:19:14.331Z"
   },
   {
    "duration": 15,
    "start_time": "2022-12-27T09:19:14.340Z"
   },
   {
    "duration": 9,
    "start_time": "2022-12-27T09:19:14.359Z"
   },
   {
    "duration": 7,
    "start_time": "2022-12-27T09:19:14.369Z"
   },
   {
    "duration": 37,
    "start_time": "2022-12-27T09:19:14.378Z"
   },
   {
    "duration": 9,
    "start_time": "2022-12-27T09:19:14.416Z"
   },
   {
    "duration": 8,
    "start_time": "2022-12-27T09:19:14.426Z"
   },
   {
    "duration": 22,
    "start_time": "2022-12-27T09:19:14.436Z"
   },
   {
    "duration": 44,
    "start_time": "2022-12-27T09:19:14.460Z"
   },
   {
    "duration": 174,
    "start_time": "2022-12-27T09:19:14.512Z"
   },
   {
    "duration": 6,
    "start_time": "2022-12-27T09:19:14.688Z"
   },
   {
    "duration": 23,
    "start_time": "2022-12-27T09:19:14.696Z"
   },
   {
    "duration": 5,
    "start_time": "2022-12-27T09:19:14.721Z"
   },
   {
    "duration": 8,
    "start_time": "2022-12-27T09:19:14.727Z"
   },
   {
    "duration": 250,
    "start_time": "2022-12-27T09:19:14.736Z"
   },
   {
    "duration": 6,
    "start_time": "2022-12-27T09:19:14.987Z"
   },
   {
    "duration": 27,
    "start_time": "2022-12-27T09:19:14.995Z"
   },
   {
    "duration": 299,
    "start_time": "2022-12-27T09:19:15.024Z"
   },
   {
    "duration": 333,
    "start_time": "2022-12-27T09:19:15.325Z"
   },
   {
    "duration": 15,
    "start_time": "2022-12-27T09:19:15.660Z"
   },
   {
    "duration": 537,
    "start_time": "2022-12-27T09:19:15.677Z"
   },
   {
    "duration": 12,
    "start_time": "2022-12-27T09:19:16.215Z"
   },
   {
    "duration": 9,
    "start_time": "2022-12-27T09:19:16.229Z"
   },
   {
    "duration": 9,
    "start_time": "2022-12-27T09:19:16.239Z"
   },
   {
    "duration": 15,
    "start_time": "2022-12-27T09:19:16.250Z"
   },
   {
    "duration": 19,
    "start_time": "2022-12-27T09:19:16.266Z"
   },
   {
    "duration": 355,
    "start_time": "2022-12-27T09:19:16.287Z"
   },
   {
    "duration": 300,
    "start_time": "2022-12-27T09:19:16.644Z"
   },
   {
    "duration": 285,
    "start_time": "2022-12-27T09:20:57.642Z"
   },
   {
    "duration": 270,
    "start_time": "2022-12-27T09:21:56.703Z"
   },
   {
    "duration": 280,
    "start_time": "2022-12-27T09:44:32.989Z"
   },
   {
    "duration": 225,
    "start_time": "2022-12-27T09:44:36.581Z"
   },
   {
    "duration": 190,
    "start_time": "2022-12-27T09:44:39.332Z"
   },
   {
    "duration": 215,
    "start_time": "2022-12-27T09:47:16.454Z"
   },
   {
    "duration": 198,
    "start_time": "2022-12-27T09:47:19.570Z"
   },
   {
    "duration": 10,
    "start_time": "2022-12-27T10:06:59.707Z"
   },
   {
    "duration": 17,
    "start_time": "2022-12-27T10:07:13.451Z"
   },
   {
    "duration": 8,
    "start_time": "2022-12-27T10:26:19.664Z"
   },
   {
    "duration": 6,
    "start_time": "2022-12-27T10:26:20.240Z"
   },
   {
    "duration": 19,
    "start_time": "2022-12-27T10:33:33.032Z"
   },
   {
    "duration": 9,
    "start_time": "2022-12-27T10:34:14.848Z"
   },
   {
    "duration": 8,
    "start_time": "2022-12-27T10:34:37.813Z"
   },
   {
    "duration": 4,
    "start_time": "2022-12-27T10:34:38.368Z"
   },
   {
    "duration": 9,
    "start_time": "2022-12-27T10:34:43.122Z"
   },
   {
    "duration": 6,
    "start_time": "2022-12-27T10:35:06.649Z"
   },
   {
    "duration": 14,
    "start_time": "2022-12-27T11:30:56.264Z"
   },
   {
    "duration": 638,
    "start_time": "2022-12-27T11:32:05.880Z"
   },
   {
    "duration": 11,
    "start_time": "2022-12-27T11:32:40.332Z"
   },
   {
    "duration": 9,
    "start_time": "2022-12-27T11:32:49.473Z"
   },
   {
    "duration": 11,
    "start_time": "2022-12-27T11:32:51.364Z"
   },
   {
    "duration": 12,
    "start_time": "2022-12-27T11:32:53.171Z"
   },
   {
    "duration": 21,
    "start_time": "2022-12-27T11:35:19.876Z"
   },
   {
    "duration": 301,
    "start_time": "2022-12-27T11:35:35.013Z"
   },
   {
    "duration": 178,
    "start_time": "2022-12-27T11:37:23.200Z"
   },
   {
    "duration": 221,
    "start_time": "2022-12-27T11:38:29.179Z"
   },
   {
    "duration": 302,
    "start_time": "2022-12-27T11:39:38.025Z"
   },
   {
    "duration": 201,
    "start_time": "2022-12-27T11:41:25.396Z"
   },
   {
    "duration": 215,
    "start_time": "2022-12-27T11:41:33.866Z"
   },
   {
    "duration": 223,
    "start_time": "2022-12-27T11:41:39.495Z"
   },
   {
    "duration": 16,
    "start_time": "2022-12-27T11:48:38.891Z"
   },
   {
    "duration": 4,
    "start_time": "2022-12-27T12:07:24.455Z"
   },
   {
    "duration": 71,
    "start_time": "2022-12-27T12:07:24.462Z"
   },
   {
    "duration": 15,
    "start_time": "2022-12-27T12:07:24.535Z"
   },
   {
    "duration": 20,
    "start_time": "2022-12-27T12:07:24.552Z"
   },
   {
    "duration": 4,
    "start_time": "2022-12-27T12:07:24.574Z"
   },
   {
    "duration": 14,
    "start_time": "2022-12-27T12:07:24.579Z"
   },
   {
    "duration": 38,
    "start_time": "2022-12-27T12:07:24.595Z"
   },
   {
    "duration": 7,
    "start_time": "2022-12-27T12:07:24.635Z"
   },
   {
    "duration": 13,
    "start_time": "2022-12-27T12:07:24.644Z"
   },
   {
    "duration": 9,
    "start_time": "2022-12-27T12:07:24.659Z"
   },
   {
    "duration": 7,
    "start_time": "2022-12-27T12:07:24.669Z"
   },
   {
    "duration": 39,
    "start_time": "2022-12-27T12:07:24.677Z"
   },
   {
    "duration": 5,
    "start_time": "2022-12-27T12:07:24.718Z"
   },
   {
    "duration": 13,
    "start_time": "2022-12-27T12:07:24.725Z"
   },
   {
    "duration": 18,
    "start_time": "2022-12-27T12:07:24.739Z"
   },
   {
    "duration": 57,
    "start_time": "2022-12-27T12:07:24.758Z"
   },
   {
    "duration": 207,
    "start_time": "2022-12-27T12:07:24.816Z"
   },
   {
    "duration": 7,
    "start_time": "2022-12-27T12:07:25.025Z"
   },
   {
    "duration": 23,
    "start_time": "2022-12-27T12:07:25.034Z"
   },
   {
    "duration": 8,
    "start_time": "2022-12-27T12:07:25.059Z"
   },
   {
    "duration": 8,
    "start_time": "2022-12-27T12:07:25.068Z"
   },
   {
    "duration": 281,
    "start_time": "2022-12-27T12:07:25.078Z"
   },
   {
    "duration": 23,
    "start_time": "2022-12-27T12:07:25.360Z"
   },
   {
    "duration": 20,
    "start_time": "2022-12-27T12:07:25.385Z"
   },
   {
    "duration": 319,
    "start_time": "2022-12-27T12:07:25.406Z"
   },
   {
    "duration": 261,
    "start_time": "2022-12-27T12:07:25.727Z"
   },
   {
    "duration": 23,
    "start_time": "2022-12-27T12:07:25.990Z"
   },
   {
    "duration": 782,
    "start_time": "2022-12-27T12:07:26.015Z"
   },
   {
    "duration": 29,
    "start_time": "2022-12-27T12:07:26.799Z"
   },
   {
    "duration": 36,
    "start_time": "2022-12-27T12:07:26.830Z"
   },
   {
    "duration": 24,
    "start_time": "2022-12-27T12:07:26.868Z"
   },
   {
    "duration": 23,
    "start_time": "2022-12-27T12:07:26.893Z"
   },
   {
    "duration": 38,
    "start_time": "2022-12-27T12:07:26.917Z"
   },
   {
    "duration": 280,
    "start_time": "2022-12-27T12:07:26.957Z"
   },
   {
    "duration": 194,
    "start_time": "2022-12-27T12:07:27.239Z"
   },
   {
    "duration": 213,
    "start_time": "2022-12-27T12:07:27.434Z"
   },
   {
    "duration": 195,
    "start_time": "2022-12-27T12:07:27.648Z"
   },
   {
    "duration": 214,
    "start_time": "2022-12-27T12:07:27.845Z"
   },
   {
    "duration": 225,
    "start_time": "2022-12-27T12:07:28.060Z"
   },
   {
    "duration": 212,
    "start_time": "2022-12-27T12:07:28.287Z"
   },
   {
    "duration": 14,
    "start_time": "2022-12-27T12:07:28.512Z"
   },
   {
    "duration": 7,
    "start_time": "2022-12-27T12:07:28.528Z"
   },
   {
    "duration": 5,
    "start_time": "2022-12-27T12:07:28.536Z"
   },
   {
    "duration": 18,
    "start_time": "2022-12-27T12:07:28.542Z"
   },
   {
    "duration": 7,
    "start_time": "2022-12-27T12:07:28.562Z"
   },
   {
    "duration": 57,
    "start_time": "2022-12-27T12:24:55.811Z"
   },
   {
    "duration": 1182,
    "start_time": "2022-12-27T12:42:05.338Z"
   },
   {
    "duration": 62,
    "start_time": "2022-12-27T12:42:06.523Z"
   },
   {
    "duration": 19,
    "start_time": "2022-12-27T12:42:06.587Z"
   },
   {
    "duration": 20,
    "start_time": "2022-12-27T12:42:06.608Z"
   },
   {
    "duration": 28,
    "start_time": "2022-12-27T12:42:06.630Z"
   },
   {
    "duration": 22,
    "start_time": "2022-12-27T12:42:06.663Z"
   },
   {
    "duration": 59,
    "start_time": "2022-12-27T12:42:06.688Z"
   },
   {
    "duration": 31,
    "start_time": "2022-12-27T12:42:06.749Z"
   },
   {
    "duration": 16,
    "start_time": "2022-12-27T12:42:06.782Z"
   },
   {
    "duration": 27,
    "start_time": "2022-12-27T12:42:06.800Z"
   },
   {
    "duration": 27,
    "start_time": "2022-12-27T12:42:06.830Z"
   },
   {
    "duration": 29,
    "start_time": "2022-12-27T12:42:06.859Z"
   },
   {
    "duration": 23,
    "start_time": "2022-12-27T12:42:06.890Z"
   },
   {
    "duration": 31,
    "start_time": "2022-12-27T12:42:06.916Z"
   },
   {
    "duration": 26,
    "start_time": "2022-12-27T12:42:06.949Z"
   },
   {
    "duration": 86,
    "start_time": "2022-12-27T12:42:06.977Z"
   },
   {
    "duration": 208,
    "start_time": "2022-12-27T12:42:07.065Z"
   },
   {
    "duration": 9,
    "start_time": "2022-12-27T12:42:07.274Z"
   },
   {
    "duration": 24,
    "start_time": "2022-12-27T12:42:07.285Z"
   },
   {
    "duration": 16,
    "start_time": "2022-12-27T12:42:07.311Z"
   },
   {
    "duration": 35,
    "start_time": "2022-12-27T12:42:07.329Z"
   },
   {
    "duration": 282,
    "start_time": "2022-12-27T12:42:07.366Z"
   },
   {
    "duration": 7,
    "start_time": "2022-12-27T12:42:07.651Z"
   },
   {
    "duration": 37,
    "start_time": "2022-12-27T12:42:07.659Z"
   },
   {
    "duration": 331,
    "start_time": "2022-12-27T12:42:07.697Z"
   },
   {
    "duration": 270,
    "start_time": "2022-12-27T12:42:08.038Z"
   },
   {
    "duration": 14,
    "start_time": "2022-12-27T12:42:08.310Z"
   },
   {
    "duration": 664,
    "start_time": "2022-12-27T12:42:08.337Z"
   },
   {
    "duration": 11,
    "start_time": "2022-12-27T12:42:09.003Z"
   },
   {
    "duration": 30,
    "start_time": "2022-12-27T12:42:09.016Z"
   },
   {
    "duration": 32,
    "start_time": "2022-12-27T12:42:09.048Z"
   },
   {
    "duration": 36,
    "start_time": "2022-12-27T12:42:09.081Z"
   },
   {
    "duration": 30,
    "start_time": "2022-12-27T12:42:09.119Z"
   },
   {
    "duration": 366,
    "start_time": "2022-12-27T12:42:09.152Z"
   },
   {
    "duration": 206,
    "start_time": "2022-12-27T12:42:09.520Z"
   },
   {
    "duration": 209,
    "start_time": "2022-12-27T12:42:09.744Z"
   },
   {
    "duration": 213,
    "start_time": "2022-12-27T12:42:09.955Z"
   },
   {
    "duration": 209,
    "start_time": "2022-12-27T12:42:10.170Z"
   },
   {
    "duration": 227,
    "start_time": "2022-12-27T12:42:10.381Z"
   },
   {
    "duration": 244,
    "start_time": "2022-12-27T12:42:10.610Z"
   },
   {
    "duration": 16,
    "start_time": "2022-12-27T12:42:10.858Z"
   },
   {
    "duration": 19,
    "start_time": "2022-12-27T12:42:10.876Z"
   },
   {
    "duration": 10,
    "start_time": "2022-12-27T12:42:10.897Z"
   },
   {
    "duration": 22,
    "start_time": "2022-12-27T12:42:10.909Z"
   },
   {
    "duration": 22,
    "start_time": "2022-12-27T12:42:10.932Z"
   },
   {
    "duration": 51,
    "start_time": "2022-12-28T05:35:29.552Z"
   },
   {
    "duration": 1347,
    "start_time": "2022-12-28T05:35:34.708Z"
   },
   {
    "duration": 91,
    "start_time": "2022-12-28T05:35:36.057Z"
   },
   {
    "duration": 19,
    "start_time": "2022-12-28T05:35:36.149Z"
   },
   {
    "duration": 16,
    "start_time": "2022-12-28T05:35:36.170Z"
   },
   {
    "duration": 9,
    "start_time": "2022-12-28T05:35:36.188Z"
   },
   {
    "duration": 16,
    "start_time": "2022-12-28T05:35:36.198Z"
   },
   {
    "duration": 32,
    "start_time": "2022-12-28T05:35:36.215Z"
   },
   {
    "duration": 7,
    "start_time": "2022-12-28T05:35:36.249Z"
   },
   {
    "duration": 28,
    "start_time": "2022-12-28T05:35:36.258Z"
   },
   {
    "duration": 26,
    "start_time": "2022-12-28T05:35:36.287Z"
   },
   {
    "duration": 13,
    "start_time": "2022-12-28T05:35:36.315Z"
   },
   {
    "duration": 14,
    "start_time": "2022-12-28T05:35:36.329Z"
   },
   {
    "duration": 13,
    "start_time": "2022-12-28T05:35:36.345Z"
   },
   {
    "duration": 7,
    "start_time": "2022-12-28T05:35:36.362Z"
   },
   {
    "duration": 25,
    "start_time": "2022-12-28T05:35:36.371Z"
   },
   {
    "duration": 16,
    "start_time": "2022-12-28T05:35:36.397Z"
   },
   {
    "duration": 82,
    "start_time": "2022-12-28T05:35:36.415Z"
   },
   {
    "duration": 198,
    "start_time": "2022-12-28T05:35:36.498Z"
   },
   {
    "duration": 9,
    "start_time": "2022-12-28T05:35:36.699Z"
   },
   {
    "duration": 36,
    "start_time": "2022-12-28T05:35:36.709Z"
   },
   {
    "duration": 6,
    "start_time": "2022-12-28T05:35:36.747Z"
   },
   {
    "duration": 14,
    "start_time": "2022-12-28T05:35:36.755Z"
   },
   {
    "duration": 303,
    "start_time": "2022-12-28T05:35:36.770Z"
   },
   {
    "duration": 6,
    "start_time": "2022-12-28T05:35:37.075Z"
   },
   {
    "duration": 17,
    "start_time": "2022-12-28T05:35:37.083Z"
   },
   {
    "duration": 318,
    "start_time": "2022-12-28T05:35:37.101Z"
   },
   {
    "duration": 253,
    "start_time": "2022-12-28T05:35:37.421Z"
   },
   {
    "duration": 15,
    "start_time": "2022-12-28T05:35:37.676Z"
   },
   {
    "duration": 579,
    "start_time": "2022-12-28T05:35:37.692Z"
   },
   {
    "duration": 10,
    "start_time": "2022-12-28T05:35:38.273Z"
   },
   {
    "duration": 16,
    "start_time": "2022-12-28T05:35:38.284Z"
   },
   {
    "duration": 11,
    "start_time": "2022-12-28T05:35:38.302Z"
   },
   {
    "duration": 28,
    "start_time": "2022-12-28T05:35:38.314Z"
   },
   {
    "duration": 16,
    "start_time": "2022-12-28T05:35:38.343Z"
   },
   {
    "duration": 346,
    "start_time": "2022-12-28T05:35:38.361Z"
   },
   {
    "duration": 191,
    "start_time": "2022-12-28T05:35:38.710Z"
   },
   {
    "duration": 221,
    "start_time": "2022-12-28T05:35:38.903Z"
   },
   {
    "duration": 199,
    "start_time": "2022-12-28T05:35:39.126Z"
   },
   {
    "duration": 200,
    "start_time": "2022-12-28T05:35:39.327Z"
   },
   {
    "duration": 219,
    "start_time": "2022-12-28T05:35:39.535Z"
   },
   {
    "duration": 235,
    "start_time": "2022-12-28T05:35:39.758Z"
   },
   {
    "duration": 17,
    "start_time": "2022-12-28T05:35:39.995Z"
   },
   {
    "duration": 33,
    "start_time": "2022-12-28T05:35:40.013Z"
   },
   {
    "duration": 11,
    "start_time": "2022-12-28T05:35:40.048Z"
   },
   {
    "duration": 11,
    "start_time": "2022-12-28T05:35:40.061Z"
   },
   {
    "duration": 9,
    "start_time": "2022-12-28T05:35:40.073Z"
   },
   {
    "duration": 71,
    "start_time": "2022-12-28T05:44:12.184Z"
   },
   {
    "duration": 5,
    "start_time": "2022-12-28T05:44:20.720Z"
   },
   {
    "duration": 5,
    "start_time": "2022-12-28T05:44:35.594Z"
   },
   {
    "duration": 795,
    "start_time": "2022-12-28T05:46:31.434Z"
   },
   {
    "duration": 0,
    "start_time": "2022-12-28T05:46:32.231Z"
   },
   {
    "duration": 5,
    "start_time": "2022-12-28T05:46:51.238Z"
   },
   {
    "duration": 5,
    "start_time": "2022-12-28T05:46:52.783Z"
   },
   {
    "duration": 44,
    "start_time": "2022-12-28T05:48:27.291Z"
   },
   {
    "duration": 3,
    "start_time": "2022-12-28T05:50:13.135Z"
   },
   {
    "duration": 85,
    "start_time": "2022-12-28T05:50:13.141Z"
   },
   {
    "duration": 21,
    "start_time": "2022-12-28T05:50:13.229Z"
   },
   {
    "duration": 25,
    "start_time": "2022-12-28T05:50:13.254Z"
   },
   {
    "duration": 29,
    "start_time": "2022-12-28T05:50:13.282Z"
   },
   {
    "duration": 31,
    "start_time": "2022-12-28T05:50:13.313Z"
   },
   {
    "duration": 78,
    "start_time": "2022-12-28T05:50:13.346Z"
   },
   {
    "duration": 8,
    "start_time": "2022-12-28T05:50:13.426Z"
   },
   {
    "duration": 30,
    "start_time": "2022-12-28T05:50:13.435Z"
   },
   {
    "duration": 18,
    "start_time": "2022-12-28T05:50:13.467Z"
   },
   {
    "duration": 8,
    "start_time": "2022-12-28T05:50:13.487Z"
   },
   {
    "duration": 19,
    "start_time": "2022-12-28T05:50:13.496Z"
   },
   {
    "duration": 11,
    "start_time": "2022-12-28T05:50:13.517Z"
   },
   {
    "duration": 9,
    "start_time": "2022-12-28T05:50:13.532Z"
   },
   {
    "duration": 18,
    "start_time": "2022-12-28T05:50:13.543Z"
   },
   {
    "duration": 12,
    "start_time": "2022-12-28T05:50:13.564Z"
   },
   {
    "duration": 33,
    "start_time": "2022-12-28T05:50:13.578Z"
   },
   {
    "duration": 18,
    "start_time": "2022-12-28T05:50:13.614Z"
   },
   {
    "duration": 56,
    "start_time": "2022-12-28T05:50:13.634Z"
   },
   {
    "duration": 185,
    "start_time": "2022-12-28T05:50:13.692Z"
   },
   {
    "duration": 7,
    "start_time": "2022-12-28T05:50:13.879Z"
   },
   {
    "duration": 30,
    "start_time": "2022-12-28T05:50:13.888Z"
   },
   {
    "duration": 20,
    "start_time": "2022-12-28T05:50:13.920Z"
   },
   {
    "duration": 9,
    "start_time": "2022-12-28T05:50:13.942Z"
   },
   {
    "duration": 266,
    "start_time": "2022-12-28T05:50:13.953Z"
   },
   {
    "duration": 6,
    "start_time": "2022-12-28T05:50:17.166Z"
   },
   {
    "duration": 66,
    "start_time": "2022-12-28T05:50:58.186Z"
   },
   {
    "duration": 15,
    "start_time": "2022-12-28T05:51:13.760Z"
   },
   {
    "duration": 299,
    "start_time": "2022-12-28T05:51:30.368Z"
   },
   {
    "duration": 405,
    "start_time": "2022-12-28T05:51:54.134Z"
   },
   {
    "duration": 276,
    "start_time": "2022-12-28T05:52:05.446Z"
   },
   {
    "duration": 217,
    "start_time": "2022-12-28T05:54:28.765Z"
   },
   {
    "duration": 273,
    "start_time": "2022-12-28T05:59:58.394Z"
   },
   {
    "duration": 59,
    "start_time": "2022-12-28T06:01:14.346Z"
   },
   {
    "duration": 512,
    "start_time": "2022-12-28T06:09:30.993Z"
   },
   {
    "duration": 14,
    "start_time": "2022-12-28T06:09:43.405Z"
   },
   {
    "duration": 461,
    "start_time": "2022-12-28T06:11:06.303Z"
   },
   {
    "duration": 14,
    "start_time": "2022-12-28T06:11:27.349Z"
   },
   {
    "duration": 14,
    "start_time": "2022-12-28T06:11:39.511Z"
   },
   {
    "duration": 11,
    "start_time": "2022-12-28T06:11:40.068Z"
   },
   {
    "duration": 15,
    "start_time": "2022-12-28T06:13:04.663Z"
   },
   {
    "duration": 357,
    "start_time": "2022-12-28T06:13:24.335Z"
   },
   {
    "duration": 293,
    "start_time": "2022-12-28T06:15:05.720Z"
   },
   {
    "duration": 255,
    "start_time": "2022-12-28T06:15:15.337Z"
   },
   {
    "duration": 175,
    "start_time": "2022-12-28T06:18:58.113Z"
   },
   {
    "duration": 177,
    "start_time": "2022-12-28T06:19:00.723Z"
   },
   {
    "duration": 175,
    "start_time": "2022-12-28T06:19:02.652Z"
   },
   {
    "duration": 218,
    "start_time": "2022-12-28T06:23:13.425Z"
   },
   {
    "duration": 215,
    "start_time": "2022-12-28T06:23:15.647Z"
   },
   {
    "duration": 227,
    "start_time": "2022-12-28T06:23:16.733Z"
   },
   {
    "duration": 22,
    "start_time": "2022-12-28T06:25:29.393Z"
   },
   {
    "duration": 12,
    "start_time": "2022-12-28T06:33:30.031Z"
   },
   {
    "duration": 5,
    "start_time": "2022-12-28T06:33:30.696Z"
   },
   {
    "duration": 7,
    "start_time": "2022-12-28T06:34:09.699Z"
   },
   {
    "duration": 5,
    "start_time": "2022-12-28T06:34:10.962Z"
   },
   {
    "duration": 56,
    "start_time": "2022-12-28T06:35:32.441Z"
   },
   {
    "duration": 7,
    "start_time": "2022-12-28T06:36:11.464Z"
   },
   {
    "duration": 6,
    "start_time": "2022-12-28T06:36:12.196Z"
   },
   {
    "duration": 4,
    "start_time": "2022-12-28T06:55:39.153Z"
   },
   {
    "duration": 54,
    "start_time": "2022-12-28T06:55:40.080Z"
   },
   {
    "duration": 15,
    "start_time": "2022-12-28T06:55:40.768Z"
   },
   {
    "duration": 19,
    "start_time": "2022-12-28T06:55:41.205Z"
   },
   {
    "duration": 3,
    "start_time": "2022-12-28T06:55:41.658Z"
   },
   {
    "duration": 7,
    "start_time": "2022-12-28T06:55:42.332Z"
   },
   {
    "duration": 34,
    "start_time": "2022-12-28T06:55:42.548Z"
   },
   {
    "duration": 8,
    "start_time": "2022-12-28T06:55:43.003Z"
   },
   {
    "duration": 14,
    "start_time": "2022-12-28T06:55:43.465Z"
   },
   {
    "duration": 9,
    "start_time": "2022-12-28T06:55:43.902Z"
   },
   {
    "duration": 7,
    "start_time": "2022-12-28T06:55:44.629Z"
   },
   {
    "duration": 8,
    "start_time": "2022-12-28T06:55:44.887Z"
   },
   {
    "duration": 6,
    "start_time": "2022-12-28T06:55:45.335Z"
   },
   {
    "duration": 5,
    "start_time": "2022-12-28T06:55:46.055Z"
   },
   {
    "duration": 6,
    "start_time": "2022-12-28T06:55:46.440Z"
   },
   {
    "duration": 5,
    "start_time": "2022-12-28T06:55:47.945Z"
   },
   {
    "duration": 24,
    "start_time": "2022-12-28T06:55:48.745Z"
   },
   {
    "duration": 17,
    "start_time": "2022-12-28T06:55:49.974Z"
   },
   {
    "duration": 147,
    "start_time": "2022-12-28T06:55:51.632Z"
   },
   {
    "duration": 191,
    "start_time": "2022-12-28T06:55:52.014Z"
   },
   {
    "duration": 10,
    "start_time": "2022-12-28T06:55:52.399Z"
   },
   {
    "duration": 17,
    "start_time": "2022-12-28T06:55:54.492Z"
   },
   {
    "duration": 7,
    "start_time": "2022-12-28T06:55:55.776Z"
   },
   {
    "duration": 8,
    "start_time": "2022-12-28T06:55:56.328Z"
   },
   {
    "duration": 246,
    "start_time": "2022-12-28T06:55:56.882Z"
   },
   {
    "duration": 7,
    "start_time": "2022-12-28T06:55:59.530Z"
   },
   {
    "duration": 14,
    "start_time": "2022-12-28T06:56:01.177Z"
   },
   {
    "duration": 292,
    "start_time": "2022-12-28T06:56:02.152Z"
   },
   {
    "duration": 268,
    "start_time": "2022-12-28T06:56:03.172Z"
   },
   {
    "duration": 15,
    "start_time": "2022-12-28T06:56:06.081Z"
   },
   {
    "duration": 466,
    "start_time": "2022-12-28T06:56:06.780Z"
   },
   {
    "duration": 10,
    "start_time": "2022-12-28T06:56:07.657Z"
   },
   {
    "duration": 11,
    "start_time": "2022-12-28T06:56:07.894Z"
   },
   {
    "duration": 11,
    "start_time": "2022-12-28T06:56:08.395Z"
   },
   {
    "duration": 15,
    "start_time": "2022-12-28T06:56:10.261Z"
   },
   {
    "duration": 258,
    "start_time": "2022-12-28T06:56:10.693Z"
   },
   {
    "duration": 175,
    "start_time": "2022-12-28T06:56:13.238Z"
   },
   {
    "duration": 184,
    "start_time": "2022-12-28T06:56:13.758Z"
   },
   {
    "duration": 279,
    "start_time": "2022-12-28T06:56:14.191Z"
   },
   {
    "duration": 207,
    "start_time": "2022-12-28T06:56:15.574Z"
   },
   {
    "duration": 209,
    "start_time": "2022-12-28T06:56:15.949Z"
   },
   {
    "duration": 221,
    "start_time": "2022-12-28T06:56:18.196Z"
   },
   {
    "duration": 15,
    "start_time": "2022-12-28T06:56:19.824Z"
   },
   {
    "duration": 6,
    "start_time": "2022-12-28T06:56:23.658Z"
   },
   {
    "duration": 5,
    "start_time": "2022-12-28T06:56:24.009Z"
   },
   {
    "duration": 8,
    "start_time": "2022-12-28T06:56:26.435Z"
   },
   {
    "duration": 7,
    "start_time": "2022-12-28T06:56:26.768Z"
   },
   {
    "duration": 52,
    "start_time": "2022-12-28T08:12:03.368Z"
   },
   {
    "duration": 1413,
    "start_time": "2022-12-28T08:12:11.481Z"
   },
   {
    "duration": 196,
    "start_time": "2022-12-28T08:12:12.897Z"
   },
   {
    "duration": 24,
    "start_time": "2022-12-28T08:12:13.095Z"
   },
   {
    "duration": 23,
    "start_time": "2022-12-28T08:12:13.122Z"
   },
   {
    "duration": 17,
    "start_time": "2022-12-28T08:12:13.147Z"
   },
   {
    "duration": 32,
    "start_time": "2022-12-28T08:12:13.167Z"
   },
   {
    "duration": 52,
    "start_time": "2022-12-28T08:12:13.201Z"
   },
   {
    "duration": 10,
    "start_time": "2022-12-28T08:12:13.255Z"
   },
   {
    "duration": 52,
    "start_time": "2022-12-28T08:12:13.267Z"
   },
   {
    "duration": 40,
    "start_time": "2022-12-28T08:12:13.322Z"
   },
   {
    "duration": 56,
    "start_time": "2022-12-28T08:12:13.364Z"
   },
   {
    "duration": 15,
    "start_time": "2022-12-28T08:12:13.422Z"
   },
   {
    "duration": 31,
    "start_time": "2022-12-28T08:12:13.440Z"
   },
   {
    "duration": 46,
    "start_time": "2022-12-28T08:12:13.473Z"
   },
   {
    "duration": 30,
    "start_time": "2022-12-28T08:12:13.521Z"
   },
   {
    "duration": 25,
    "start_time": "2022-12-28T08:12:13.553Z"
   },
   {
    "duration": 79,
    "start_time": "2022-12-28T08:12:13.580Z"
   },
   {
    "duration": 19,
    "start_time": "2022-12-28T08:12:13.661Z"
   },
   {
    "duration": 89,
    "start_time": "2022-12-28T08:12:13.687Z"
   },
   {
    "duration": 257,
    "start_time": "2022-12-28T08:12:13.779Z"
   },
   {
    "duration": 10,
    "start_time": "2022-12-28T08:12:14.039Z"
   },
   {
    "duration": 86,
    "start_time": "2022-12-28T08:12:14.051Z"
   },
   {
    "duration": 14,
    "start_time": "2022-12-28T08:12:14.139Z"
   },
   {
    "duration": 33,
    "start_time": "2022-12-28T08:12:14.155Z"
   },
   {
    "duration": 350,
    "start_time": "2022-12-28T08:12:14.190Z"
   },
   {
    "duration": 8,
    "start_time": "2022-12-28T08:12:14.542Z"
   },
   {
    "duration": 24,
    "start_time": "2022-12-28T08:12:14.552Z"
   },
   {
    "duration": 276,
    "start_time": "2022-12-28T08:12:14.584Z"
   },
   {
    "duration": 302,
    "start_time": "2022-12-28T08:12:14.863Z"
   },
   {
    "duration": 287,
    "start_time": "2022-12-28T08:12:15.167Z"
   },
   {
    "duration": 417,
    "start_time": "2022-12-28T08:12:28.737Z"
   },
   {
    "duration": 1271,
    "start_time": "2022-12-28T08:45:29.941Z"
   },
   {
    "duration": 184,
    "start_time": "2022-12-28T08:45:31.213Z"
   },
   {
    "duration": 16,
    "start_time": "2022-12-28T08:45:31.399Z"
   },
   {
    "duration": 37,
    "start_time": "2022-12-28T08:45:31.417Z"
   },
   {
    "duration": 15,
    "start_time": "2022-12-28T08:45:31.456Z"
   },
   {
    "duration": 24,
    "start_time": "2022-12-28T08:45:31.472Z"
   },
   {
    "duration": 55,
    "start_time": "2022-12-28T08:45:31.497Z"
   },
   {
    "duration": 22,
    "start_time": "2022-12-28T08:45:31.554Z"
   },
   {
    "duration": 57,
    "start_time": "2022-12-28T08:45:31.577Z"
   },
   {
    "duration": 46,
    "start_time": "2022-12-28T08:45:31.637Z"
   },
   {
    "duration": 30,
    "start_time": "2022-12-28T08:45:31.685Z"
   },
   {
    "duration": 30,
    "start_time": "2022-12-28T08:45:31.717Z"
   },
   {
    "duration": 39,
    "start_time": "2022-12-28T08:45:31.749Z"
   },
   {
    "duration": 37,
    "start_time": "2022-12-28T08:45:31.790Z"
   },
   {
    "duration": 34,
    "start_time": "2022-12-28T08:45:31.829Z"
   },
   {
    "duration": 18,
    "start_time": "2022-12-28T08:45:31.864Z"
   },
   {
    "duration": 29,
    "start_time": "2022-12-28T08:45:31.883Z"
   },
   {
    "duration": 22,
    "start_time": "2022-12-28T08:45:31.914Z"
   },
   {
    "duration": 56,
    "start_time": "2022-12-28T08:45:31.937Z"
   },
   {
    "duration": 169,
    "start_time": "2022-12-28T08:45:31.994Z"
   },
   {
    "duration": 8,
    "start_time": "2022-12-28T08:45:32.164Z"
   },
   {
    "duration": 31,
    "start_time": "2022-12-28T08:45:32.173Z"
   },
   {
    "duration": 6,
    "start_time": "2022-12-28T08:45:32.205Z"
   },
   {
    "duration": 15,
    "start_time": "2022-12-28T08:45:32.212Z"
   },
   {
    "duration": 237,
    "start_time": "2022-12-28T08:45:32.228Z"
   },
   {
    "duration": 7,
    "start_time": "2022-12-28T08:45:32.467Z"
   },
   {
    "duration": 17,
    "start_time": "2022-12-28T08:45:32.475Z"
   },
   {
    "duration": 247,
    "start_time": "2022-12-28T08:45:32.496Z"
   },
   {
    "duration": 264,
    "start_time": "2022-12-28T08:45:32.744Z"
   },
   {
    "duration": 267,
    "start_time": "2022-12-28T08:45:33.009Z"
   },
   {
    "duration": 13,
    "start_time": "2022-12-28T08:45:33.278Z"
   },
   {
    "duration": 456,
    "start_time": "2022-12-28T08:45:33.292Z"
   },
   {
    "duration": 10,
    "start_time": "2022-12-28T08:45:33.750Z"
   },
   {
    "duration": 63,
    "start_time": "2022-12-28T08:45:33.761Z"
   },
   {
    "duration": 17,
    "start_time": "2022-12-28T08:45:33.826Z"
   },
   {
    "duration": 18,
    "start_time": "2022-12-28T08:45:33.845Z"
   },
   {
    "duration": 246,
    "start_time": "2022-12-28T08:45:33.865Z"
   },
   {
    "duration": 155,
    "start_time": "2022-12-28T08:45:34.112Z"
   },
   {
    "duration": 169,
    "start_time": "2022-12-28T08:45:34.268Z"
   },
   {
    "duration": 156,
    "start_time": "2022-12-28T08:45:34.438Z"
   },
   {
    "duration": 187,
    "start_time": "2022-12-28T08:45:34.596Z"
   },
   {
    "duration": 197,
    "start_time": "2022-12-28T08:45:34.784Z"
   },
   {
    "duration": 190,
    "start_time": "2022-12-28T08:45:34.982Z"
   },
   {
    "duration": 14,
    "start_time": "2022-12-28T08:45:35.173Z"
   },
   {
    "duration": 14,
    "start_time": "2022-12-28T08:45:35.189Z"
   },
   {
    "duration": 9,
    "start_time": "2022-12-28T08:45:35.205Z"
   },
   {
    "duration": 35,
    "start_time": "2022-12-28T08:45:35.216Z"
   },
   {
    "duration": 16,
    "start_time": "2022-12-28T08:45:35.253Z"
   }
  ],
  "kernelspec": {
   "display_name": "Python 3 (ipykernel)",
   "language": "python",
   "name": "python3"
  },
  "language_info": {
   "codemirror_mode": {
    "name": "ipython",
    "version": 3
   },
   "file_extension": ".py",
   "mimetype": "text/x-python",
   "name": "python",
   "nbconvert_exporter": "python",
   "pygments_lexer": "ipython3",
   "version": "3.9.13"
  },
  "toc": {
   "base_numbering": 1,
   "nav_menu": {},
   "number_sections": true,
   "sideBar": true,
   "skip_h1_title": true,
   "title_cell": "Table of Contents",
   "title_sidebar": "Contents",
   "toc_cell": false,
   "toc_position": {},
   "toc_section_display": true,
   "toc_window_display": false
  }
 },
 "nbformat": 4,
 "nbformat_minor": 2
}
