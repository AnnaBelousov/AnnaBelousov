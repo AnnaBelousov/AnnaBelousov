{
 "cells": [
  {
   "cell_type": "markdown",
   "id": "2c7ecfbc",
   "metadata": {},
   "source": [
    "# SQL. Анализ сервиса чтения книг по подписке"
   ]
  },
  {
   "cell_type": "markdown",
   "id": "8f02443a",
   "metadata": {},
   "source": [
    "## Предистория"
   ]
  },
  {
   "cell_type": "markdown",
   "id": "5afc8d0e",
   "metadata": {},
   "source": [
    "Коронавирус застал мир врасплох, изменив привычный порядок вещей. В свободное время жители городов больше не выходят на улицу, не посещают кафе и торговые центры. Зато стало больше времени для книг. Это заметили стартаперы — и бросились создавать приложения для тех, кто любит читать.\n",
    "\n",
    "Ваша компания решила быть на волне и купила крупный сервис для чтения книг по подписке. "
   ]
  },
  {
   "cell_type": "markdown",
   "id": "32256ccf",
   "metadata": {},
   "source": [
    "## Цели и задачи проекта"
   ]
  },
  {
   "cell_type": "markdown",
   "id": "8ecff83a",
   "metadata": {},
   "source": [
    "Первая задача как аналитика — проанализировать базу данных.\n",
    "В ней — информация о книгах, издательствах, авторах, а также пользовательские обзоры книг. Эти данные помогут сформулировать ценностное предложение для нового продукта.\n",
    "\n",
    "### Задания\n",
    "\n",
    "- Посчитайте, сколько книг вышло после 1 января 2000 года;\n",
    "- Для каждой книги посчитайте количество обзоров и среднюю оценку;\n",
    "- Определите издательство, которое выпустило наибольшее число книг толще 50 страниц — так вы исключите из анализа брошюры;\n",
    "- Определите автора с самой высокой средней оценкой книг — учитывайте только книги с 50 и более оценками;\n",
    "- Посчитайте среднее количество обзоров от пользователей, которые поставили больше 48 оценок."
   ]
  },
  {
   "cell_type": "markdown",
   "id": "92dc44f8",
   "metadata": {},
   "source": [
    "![alt text](shema.png)"
   ]
  },
  {
   "cell_type": "code",
   "execution_count": 9,
   "id": "c0f33235",
   "metadata": {},
   "outputs": [],
   "source": [
    "# импортируем библиотеки\n",
    "import pandas as pd\n",
    "from sqlalchemy import text, create_engine"
   ]
  },
  {
   "cell_type": "code",
   "execution_count": 10,
   "id": "574b553b",
   "metadata": {},
   "outputs": [],
   "source": [
    "# устанавливаем параметры\n",
    "db_config = {'user': 'praktikum_student', # имя пользователя\n",
    "'pwd': 'Sdf4$2;d-d30pp', # пароль\n",
    "'host': 'rc1b-wcoijxj3yxfsf3fs.mdb.yandexcloud.net',\n",
    "'port': 6432, # порт подключения\n",
    "'db': 'data-analyst-final-project-db'} # название базы данных\n",
    "connection_string = 'postgresql://{user}:{pwd}@{host}:{port}/{db}'.format(**db_config)\n",
    "\n",
    "# сохраняем коннектор\n",
    "engine = create_engine(connection_string, connect_args={'sslmode':'require'})\n"
   ]
  },
  {
   "cell_type": "code",
   "execution_count": 11,
   "id": "5bab1c19",
   "metadata": {},
   "outputs": [],
   "source": [
    "# функция, кторая будет вывадить результат запроса на экран\n",
    "def result(query):\n",
    "    return pd.io.sql.read_sql(query, con = engine)"
   ]
  },
  {
   "cell_type": "markdown",
   "id": "322324ba",
   "metadata": {},
   "source": [
    "#### Исследование тапблиц"
   ]
  },
  {
   "cell_type": "code",
   "execution_count": 4,
   "id": "9fcff9ce",
   "metadata": {},
   "outputs": [
    {
     "data": {
      "text/html": [
       "<div>\n",
       "<style scoped>\n",
       "    .dataframe tbody tr th:only-of-type {\n",
       "        vertical-align: middle;\n",
       "    }\n",
       "\n",
       "    .dataframe tbody tr th {\n",
       "        vertical-align: top;\n",
       "    }\n",
       "\n",
       "    .dataframe thead th {\n",
       "        text-align: right;\n",
       "    }\n",
       "</style>\n",
       "<table border=\"1\" class=\"dataframe\">\n",
       "  <thead>\n",
       "    <tr style=\"text-align: right;\">\n",
       "      <th></th>\n",
       "      <th>book_id</th>\n",
       "      <th>author_id</th>\n",
       "      <th>title</th>\n",
       "      <th>num_pages</th>\n",
       "      <th>publication_date</th>\n",
       "      <th>publisher_id</th>\n",
       "    </tr>\n",
       "  </thead>\n",
       "  <tbody>\n",
       "    <tr>\n",
       "      <th>0</th>\n",
       "      <td>1</td>\n",
       "      <td>546</td>\n",
       "      <td>'Salem's Lot</td>\n",
       "      <td>594</td>\n",
       "      <td>2005-11-01</td>\n",
       "      <td>93</td>\n",
       "    </tr>\n",
       "    <tr>\n",
       "      <th>1</th>\n",
       "      <td>2</td>\n",
       "      <td>465</td>\n",
       "      <td>1 000 Places to See Before You Die</td>\n",
       "      <td>992</td>\n",
       "      <td>2003-05-22</td>\n",
       "      <td>336</td>\n",
       "    </tr>\n",
       "    <tr>\n",
       "      <th>2</th>\n",
       "      <td>3</td>\n",
       "      <td>407</td>\n",
       "      <td>13 Little Blue Envelopes (Little Blue Envelope...</td>\n",
       "      <td>322</td>\n",
       "      <td>2010-12-21</td>\n",
       "      <td>135</td>\n",
       "    </tr>\n",
       "    <tr>\n",
       "      <th>3</th>\n",
       "      <td>4</td>\n",
       "      <td>82</td>\n",
       "      <td>1491: New Revelations of the Americas Before C...</td>\n",
       "      <td>541</td>\n",
       "      <td>2006-10-10</td>\n",
       "      <td>309</td>\n",
       "    </tr>\n",
       "    <tr>\n",
       "      <th>4</th>\n",
       "      <td>5</td>\n",
       "      <td>125</td>\n",
       "      <td>1776</td>\n",
       "      <td>386</td>\n",
       "      <td>2006-07-04</td>\n",
       "      <td>268</td>\n",
       "    </tr>\n",
       "  </tbody>\n",
       "</table>\n",
       "</div>"
      ],
      "text/plain": [
       "   book_id  author_id                                              title  \\\n",
       "0        1        546                                       'Salem's Lot   \n",
       "1        2        465                 1 000 Places to See Before You Die   \n",
       "2        3        407  13 Little Blue Envelopes (Little Blue Envelope...   \n",
       "3        4         82  1491: New Revelations of the Americas Before C...   \n",
       "4        5        125                                               1776   \n",
       "\n",
       "   num_pages publication_date  publisher_id  \n",
       "0        594       2005-11-01            93  \n",
       "1        992       2003-05-22           336  \n",
       "2        322       2010-12-21           135  \n",
       "3        541       2006-10-10           309  \n",
       "4        386       2006-07-04           268  "
      ]
     },
     "execution_count": 4,
     "metadata": {},
     "output_type": "execute_result"
    }
   ],
   "source": [
    "# чтобы выполнить SQL-запрос, используем Pandas\n",
    "query = '''SELECT * FROM books LIMIT 5'''\n",
    "result(query)"
   ]
  },
  {
   "cell_type": "code",
   "execution_count": 5,
   "id": "90f70073",
   "metadata": {},
   "outputs": [
    {
     "data": {
      "text/html": [
       "<div>\n",
       "<style scoped>\n",
       "    .dataframe tbody tr th:only-of-type {\n",
       "        vertical-align: middle;\n",
       "    }\n",
       "\n",
       "    .dataframe tbody tr th {\n",
       "        vertical-align: top;\n",
       "    }\n",
       "\n",
       "    .dataframe thead th {\n",
       "        text-align: right;\n",
       "    }\n",
       "</style>\n",
       "<table border=\"1\" class=\"dataframe\">\n",
       "  <thead>\n",
       "    <tr style=\"text-align: right;\">\n",
       "      <th></th>\n",
       "      <th>author_id</th>\n",
       "      <th>author</th>\n",
       "    </tr>\n",
       "  </thead>\n",
       "  <tbody>\n",
       "    <tr>\n",
       "      <th>0</th>\n",
       "      <td>1</td>\n",
       "      <td>A.S. Byatt</td>\n",
       "    </tr>\n",
       "    <tr>\n",
       "      <th>1</th>\n",
       "      <td>2</td>\n",
       "      <td>Aesop/Laura Harris/Laura Gibbs</td>\n",
       "    </tr>\n",
       "    <tr>\n",
       "      <th>2</th>\n",
       "      <td>3</td>\n",
       "      <td>Agatha Christie</td>\n",
       "    </tr>\n",
       "    <tr>\n",
       "      <th>3</th>\n",
       "      <td>4</td>\n",
       "      <td>Alan Brennert</td>\n",
       "    </tr>\n",
       "    <tr>\n",
       "      <th>4</th>\n",
       "      <td>5</td>\n",
       "      <td>Alan Moore/David   Lloyd</td>\n",
       "    </tr>\n",
       "  </tbody>\n",
       "</table>\n",
       "</div>"
      ],
      "text/plain": [
       "   author_id                          author\n",
       "0          1                      A.S. Byatt\n",
       "1          2  Aesop/Laura Harris/Laura Gibbs\n",
       "2          3                 Agatha Christie\n",
       "3          4                   Alan Brennert\n",
       "4          5        Alan Moore/David   Lloyd"
      ]
     },
     "execution_count": 5,
     "metadata": {},
     "output_type": "execute_result"
    }
   ],
   "source": [
    "query = '''SELECT * FROM authors LIMIT 5'''\n",
    "result(query)"
   ]
  },
  {
   "cell_type": "code",
   "execution_count": 6,
   "id": "2c14909e",
   "metadata": {},
   "outputs": [
    {
     "data": {
      "text/html": [
       "<div>\n",
       "<style scoped>\n",
       "    .dataframe tbody tr th:only-of-type {\n",
       "        vertical-align: middle;\n",
       "    }\n",
       "\n",
       "    .dataframe tbody tr th {\n",
       "        vertical-align: top;\n",
       "    }\n",
       "\n",
       "    .dataframe thead th {\n",
       "        text-align: right;\n",
       "    }\n",
       "</style>\n",
       "<table border=\"1\" class=\"dataframe\">\n",
       "  <thead>\n",
       "    <tr style=\"text-align: right;\">\n",
       "      <th></th>\n",
       "      <th>publisher_id</th>\n",
       "      <th>publisher</th>\n",
       "    </tr>\n",
       "  </thead>\n",
       "  <tbody>\n",
       "    <tr>\n",
       "      <th>0</th>\n",
       "      <td>1</td>\n",
       "      <td>Ace</td>\n",
       "    </tr>\n",
       "    <tr>\n",
       "      <th>1</th>\n",
       "      <td>2</td>\n",
       "      <td>Ace Book</td>\n",
       "    </tr>\n",
       "    <tr>\n",
       "      <th>2</th>\n",
       "      <td>3</td>\n",
       "      <td>Ace Books</td>\n",
       "    </tr>\n",
       "    <tr>\n",
       "      <th>3</th>\n",
       "      <td>4</td>\n",
       "      <td>Ace Hardcover</td>\n",
       "    </tr>\n",
       "    <tr>\n",
       "      <th>4</th>\n",
       "      <td>5</td>\n",
       "      <td>Addison Wesley Publishing Company</td>\n",
       "    </tr>\n",
       "  </tbody>\n",
       "</table>\n",
       "</div>"
      ],
      "text/plain": [
       "   publisher_id                          publisher\n",
       "0             1                                Ace\n",
       "1             2                           Ace Book\n",
       "2             3                          Ace Books\n",
       "3             4                      Ace Hardcover\n",
       "4             5  Addison Wesley Publishing Company"
      ]
     },
     "execution_count": 6,
     "metadata": {},
     "output_type": "execute_result"
    }
   ],
   "source": [
    "query = '''SELECT * FROM publishers LIMIT 5'''\n",
    "result(query)"
   ]
  },
  {
   "cell_type": "code",
   "execution_count": 7,
   "id": "627ee623",
   "metadata": {},
   "outputs": [
    {
     "data": {
      "text/html": [
       "<div>\n",
       "<style scoped>\n",
       "    .dataframe tbody tr th:only-of-type {\n",
       "        vertical-align: middle;\n",
       "    }\n",
       "\n",
       "    .dataframe tbody tr th {\n",
       "        vertical-align: top;\n",
       "    }\n",
       "\n",
       "    .dataframe thead th {\n",
       "        text-align: right;\n",
       "    }\n",
       "</style>\n",
       "<table border=\"1\" class=\"dataframe\">\n",
       "  <thead>\n",
       "    <tr style=\"text-align: right;\">\n",
       "      <th></th>\n",
       "      <th>rating_id</th>\n",
       "      <th>book_id</th>\n",
       "      <th>username</th>\n",
       "      <th>rating</th>\n",
       "    </tr>\n",
       "  </thead>\n",
       "  <tbody>\n",
       "    <tr>\n",
       "      <th>0</th>\n",
       "      <td>1</td>\n",
       "      <td>1</td>\n",
       "      <td>ryanfranco</td>\n",
       "      <td>4</td>\n",
       "    </tr>\n",
       "    <tr>\n",
       "      <th>1</th>\n",
       "      <td>2</td>\n",
       "      <td>1</td>\n",
       "      <td>grantpatricia</td>\n",
       "      <td>2</td>\n",
       "    </tr>\n",
       "    <tr>\n",
       "      <th>2</th>\n",
       "      <td>3</td>\n",
       "      <td>1</td>\n",
       "      <td>brandtandrea</td>\n",
       "      <td>5</td>\n",
       "    </tr>\n",
       "    <tr>\n",
       "      <th>3</th>\n",
       "      <td>4</td>\n",
       "      <td>2</td>\n",
       "      <td>lorichen</td>\n",
       "      <td>3</td>\n",
       "    </tr>\n",
       "    <tr>\n",
       "      <th>4</th>\n",
       "      <td>5</td>\n",
       "      <td>2</td>\n",
       "      <td>mariokeller</td>\n",
       "      <td>2</td>\n",
       "    </tr>\n",
       "  </tbody>\n",
       "</table>\n",
       "</div>"
      ],
      "text/plain": [
       "   rating_id  book_id       username  rating\n",
       "0          1        1     ryanfranco       4\n",
       "1          2        1  grantpatricia       2\n",
       "2          3        1   brandtandrea       5\n",
       "3          4        2       lorichen       3\n",
       "4          5        2    mariokeller       2"
      ]
     },
     "execution_count": 7,
     "metadata": {},
     "output_type": "execute_result"
    }
   ],
   "source": [
    "query = '''SELECT * FROM ratings LIMIT 5'''\n",
    "result(query)"
   ]
  },
  {
   "cell_type": "code",
   "execution_count": 8,
   "id": "f24dbd33",
   "metadata": {},
   "outputs": [
    {
     "data": {
      "text/html": [
       "<div>\n",
       "<style scoped>\n",
       "    .dataframe tbody tr th:only-of-type {\n",
       "        vertical-align: middle;\n",
       "    }\n",
       "\n",
       "    .dataframe tbody tr th {\n",
       "        vertical-align: top;\n",
       "    }\n",
       "\n",
       "    .dataframe thead th {\n",
       "        text-align: right;\n",
       "    }\n",
       "</style>\n",
       "<table border=\"1\" class=\"dataframe\">\n",
       "  <thead>\n",
       "    <tr style=\"text-align: right;\">\n",
       "      <th></th>\n",
       "      <th>review_id</th>\n",
       "      <th>book_id</th>\n",
       "      <th>username</th>\n",
       "      <th>text</th>\n",
       "    </tr>\n",
       "  </thead>\n",
       "  <tbody>\n",
       "    <tr>\n",
       "      <th>0</th>\n",
       "      <td>1</td>\n",
       "      <td>1</td>\n",
       "      <td>brandtandrea</td>\n",
       "      <td>Mention society tell send professor analysis. ...</td>\n",
       "    </tr>\n",
       "    <tr>\n",
       "      <th>1</th>\n",
       "      <td>2</td>\n",
       "      <td>1</td>\n",
       "      <td>ryanfranco</td>\n",
       "      <td>Foot glass pretty audience hit themselves. Amo...</td>\n",
       "    </tr>\n",
       "    <tr>\n",
       "      <th>2</th>\n",
       "      <td>3</td>\n",
       "      <td>2</td>\n",
       "      <td>lorichen</td>\n",
       "      <td>Listen treat keep worry. Miss husband tax but ...</td>\n",
       "    </tr>\n",
       "    <tr>\n",
       "      <th>3</th>\n",
       "      <td>4</td>\n",
       "      <td>3</td>\n",
       "      <td>johnsonamanda</td>\n",
       "      <td>Finally month interesting blue could nature cu...</td>\n",
       "    </tr>\n",
       "    <tr>\n",
       "      <th>4</th>\n",
       "      <td>5</td>\n",
       "      <td>3</td>\n",
       "      <td>scotttamara</td>\n",
       "      <td>Nation purpose heavy give wait song will. List...</td>\n",
       "    </tr>\n",
       "  </tbody>\n",
       "</table>\n",
       "</div>"
      ],
      "text/plain": [
       "   review_id  book_id       username  \\\n",
       "0          1        1   brandtandrea   \n",
       "1          2        1     ryanfranco   \n",
       "2          3        2       lorichen   \n",
       "3          4        3  johnsonamanda   \n",
       "4          5        3    scotttamara   \n",
       "\n",
       "                                                text  \n",
       "0  Mention society tell send professor analysis. ...  \n",
       "1  Foot glass pretty audience hit themselves. Amo...  \n",
       "2  Listen treat keep worry. Miss husband tax but ...  \n",
       "3  Finally month interesting blue could nature cu...  \n",
       "4  Nation purpose heavy give wait song will. List...  "
      ]
     },
     "execution_count": 8,
     "metadata": {},
     "output_type": "execute_result"
    }
   ],
   "source": [
    "query = '''SELECT * FROM reviews LIMIT 5'''\n",
    "result(query)"
   ]
  },
  {
   "cell_type": "markdown",
   "id": "9a6924f6",
   "metadata": {},
   "source": [
    "#### Количество книг опубликованных после 1 января 2000 года"
   ]
  },
  {
   "cell_type": "code",
   "execution_count": 9,
   "id": "32d834de",
   "metadata": {},
   "outputs": [
    {
     "data": {
      "text/html": [
       "<div>\n",
       "<style scoped>\n",
       "    .dataframe tbody tr th:only-of-type {\n",
       "        vertical-align: middle;\n",
       "    }\n",
       "\n",
       "    .dataframe tbody tr th {\n",
       "        vertical-align: top;\n",
       "    }\n",
       "\n",
       "    .dataframe thead th {\n",
       "        text-align: right;\n",
       "    }\n",
       "</style>\n",
       "<table border=\"1\" class=\"dataframe\">\n",
       "  <thead>\n",
       "    <tr style=\"text-align: right;\">\n",
       "      <th></th>\n",
       "      <th>count</th>\n",
       "    </tr>\n",
       "  </thead>\n",
       "  <tbody>\n",
       "    <tr>\n",
       "      <th>0</th>\n",
       "      <td>819</td>\n",
       "    </tr>\n",
       "  </tbody>\n",
       "</table>\n",
       "</div>"
      ],
      "text/plain": [
       "   count\n",
       "0    819"
      ]
     },
     "execution_count": 9,
     "metadata": {},
     "output_type": "execute_result"
    }
   ],
   "source": [
    "query = '''\n",
    "           SELECT COUNT(*) \n",
    "           FROM books \n",
    "           WHERE publication_date::date > '2000-01-01'\n",
    "           '''\n",
    "result(query)"
   ]
  },
  {
   "cell_type": "markdown",
   "id": "356b372b",
   "metadata": {},
   "source": [
    "После 1 января 2020 года было опубликовано 819 книг"
   ]
  },
  {
   "cell_type": "markdown",
   "id": "4eb126ca",
   "metadata": {},
   "source": [
    "#### Количество обзоров и средняя оценка для каждой книги"
   ]
  },
  {
   "cell_type": "code",
   "execution_count": 10,
   "id": "34323a97",
   "metadata": {},
   "outputs": [
    {
     "data": {
      "text/html": [
       "<div>\n",
       "<style scoped>\n",
       "    .dataframe tbody tr th:only-of-type {\n",
       "        vertical-align: middle;\n",
       "    }\n",
       "\n",
       "    .dataframe tbody tr th {\n",
       "        vertical-align: top;\n",
       "    }\n",
       "\n",
       "    .dataframe thead th {\n",
       "        text-align: right;\n",
       "    }\n",
       "</style>\n",
       "<table border=\"1\" class=\"dataframe\">\n",
       "  <thead>\n",
       "    <tr style=\"text-align: right;\">\n",
       "      <th></th>\n",
       "      <th>title</th>\n",
       "      <th>num_pages</th>\n",
       "      <th>publication_date</th>\n",
       "      <th>count_of_rewiews</th>\n",
       "      <th>avg_rating</th>\n",
       "    </tr>\n",
       "  </thead>\n",
       "  <tbody>\n",
       "    <tr>\n",
       "      <th>0</th>\n",
       "      <td>Twilight (Twilight  #1)</td>\n",
       "      <td>501</td>\n",
       "      <td>2006-09-06</td>\n",
       "      <td>7</td>\n",
       "      <td>3.66</td>\n",
       "    </tr>\n",
       "    <tr>\n",
       "      <th>1</th>\n",
       "      <td>Water for Elephants</td>\n",
       "      <td>335</td>\n",
       "      <td>2007-05-01</td>\n",
       "      <td>6</td>\n",
       "      <td>3.98</td>\n",
       "    </tr>\n",
       "    <tr>\n",
       "      <th>2</th>\n",
       "      <td>The Glass Castle</td>\n",
       "      <td>288</td>\n",
       "      <td>2006-01-17</td>\n",
       "      <td>6</td>\n",
       "      <td>4.21</td>\n",
       "    </tr>\n",
       "    <tr>\n",
       "      <th>3</th>\n",
       "      <td>Harry Potter and the Prisoner of Azkaban (Harr...</td>\n",
       "      <td>435</td>\n",
       "      <td>2004-05-01</td>\n",
       "      <td>6</td>\n",
       "      <td>4.41</td>\n",
       "    </tr>\n",
       "    <tr>\n",
       "      <th>4</th>\n",
       "      <td>The Curious Incident of the Dog in the Night-Time</td>\n",
       "      <td>226</td>\n",
       "      <td>2004-05-18</td>\n",
       "      <td>6</td>\n",
       "      <td>4.08</td>\n",
       "    </tr>\n",
       "    <tr>\n",
       "      <th>...</th>\n",
       "      <td>...</td>\n",
       "      <td>...</td>\n",
       "      <td>...</td>\n",
       "      <td>...</td>\n",
       "      <td>...</td>\n",
       "    </tr>\n",
       "    <tr>\n",
       "      <th>995</th>\n",
       "      <td>Anne Rice's The Vampire Lestat: A Graphic Novel</td>\n",
       "      <td>404</td>\n",
       "      <td>1991-11-30</td>\n",
       "      <td>0</td>\n",
       "      <td>3.67</td>\n",
       "    </tr>\n",
       "    <tr>\n",
       "      <th>996</th>\n",
       "      <td>The Natural Way to Draw</td>\n",
       "      <td>240</td>\n",
       "      <td>1990-02-01</td>\n",
       "      <td>0</td>\n",
       "      <td>3.00</td>\n",
       "    </tr>\n",
       "    <tr>\n",
       "      <th>997</th>\n",
       "      <td>The Cat in the Hat and Other Dr. Seuss Favorites</td>\n",
       "      <td>61</td>\n",
       "      <td>2003-10-14</td>\n",
       "      <td>0</td>\n",
       "      <td>5.00</td>\n",
       "    </tr>\n",
       "    <tr>\n",
       "      <th>998</th>\n",
       "      <td>Essential Tales and Poems</td>\n",
       "      <td>688</td>\n",
       "      <td>2004-10-25</td>\n",
       "      <td>0</td>\n",
       "      <td>4.00</td>\n",
       "    </tr>\n",
       "    <tr>\n",
       "      <th>999</th>\n",
       "      <td>Disney's Beauty and the Beast (A Little Golden...</td>\n",
       "      <td>24</td>\n",
       "      <td>2004-05-11</td>\n",
       "      <td>0</td>\n",
       "      <td>4.00</td>\n",
       "    </tr>\n",
       "  </tbody>\n",
       "</table>\n",
       "<p>1000 rows × 5 columns</p>\n",
       "</div>"
      ],
      "text/plain": [
       "                                                 title  num_pages  \\\n",
       "0                              Twilight (Twilight  #1)        501   \n",
       "1                                  Water for Elephants        335   \n",
       "2                                     The Glass Castle        288   \n",
       "3    Harry Potter and the Prisoner of Azkaban (Harr...        435   \n",
       "4    The Curious Incident of the Dog in the Night-Time        226   \n",
       "..                                                 ...        ...   \n",
       "995    Anne Rice's The Vampire Lestat: A Graphic Novel        404   \n",
       "996                            The Natural Way to Draw        240   \n",
       "997   The Cat in the Hat and Other Dr. Seuss Favorites         61   \n",
       "998                          Essential Tales and Poems        688   \n",
       "999  Disney's Beauty and the Beast (A Little Golden...         24   \n",
       "\n",
       "    publication_date  count_of_rewiews  avg_rating  \n",
       "0         2006-09-06                 7        3.66  \n",
       "1         2007-05-01                 6        3.98  \n",
       "2         2006-01-17                 6        4.21  \n",
       "3         2004-05-01                 6        4.41  \n",
       "4         2004-05-18                 6        4.08  \n",
       "..               ...               ...         ...  \n",
       "995       1991-11-30                 0        3.67  \n",
       "996       1990-02-01                 0        3.00  \n",
       "997       2003-10-14                 0        5.00  \n",
       "998       2004-10-25                 0        4.00  \n",
       "999       2004-05-11                 0        4.00  \n",
       "\n",
       "[1000 rows x 5 columns]"
      ]
     },
     "execution_count": 10,
     "metadata": {},
     "output_type": "execute_result"
    }
   ],
   "source": [
    "query = '''\n",
    "           SELECT b.title, b.num_pages, b.publication_date, COUNT(DISTINCT r.review_id) as count_of_rewiews, ROUND(AVG(rt.rating), 2) as avg_rating\n",
    "           FROM books AS b\n",
    "           LEFT JOIN reviews AS r ON b.book_id=r.book_id\n",
    "           LEFT JOIN ratings AS rt ON b.book_id=rt.book_id\n",
    "           GROUP BY b.book_id\n",
    "           ORDER BY count_of_rewiews DESC\n",
    "           '''\n",
    "result(query)"
   ]
  },
  {
   "cell_type": "markdown",
   "id": "b5824d0f",
   "metadata": {},
   "source": [
    "Максимальное количество обзоров для одной книги - 7, минимальное 0. Максимальный средний рейтинг для книги - 5 "
   ]
  },
  {
   "cell_type": "markdown",
   "id": "ede3ac41",
   "metadata": {},
   "source": [
    "#### Издательство, которое выпустило наибольшее число книг толще 50 страниц"
   ]
  },
  {
   "cell_type": "code",
   "execution_count": 11,
   "id": "057c8222",
   "metadata": {},
   "outputs": [
    {
     "data": {
      "text/html": [
       "<div>\n",
       "<style scoped>\n",
       "    .dataframe tbody tr th:only-of-type {\n",
       "        vertical-align: middle;\n",
       "    }\n",
       "\n",
       "    .dataframe tbody tr th {\n",
       "        vertical-align: top;\n",
       "    }\n",
       "\n",
       "    .dataframe thead th {\n",
       "        text-align: right;\n",
       "    }\n",
       "</style>\n",
       "<table border=\"1\" class=\"dataframe\">\n",
       "  <thead>\n",
       "    <tr style=\"text-align: right;\">\n",
       "      <th></th>\n",
       "      <th>count</th>\n",
       "      <th>publisher_id</th>\n",
       "      <th>publisher</th>\n",
       "    </tr>\n",
       "  </thead>\n",
       "  <tbody>\n",
       "    <tr>\n",
       "      <th>0</th>\n",
       "      <td>42</td>\n",
       "      <td>212</td>\n",
       "      <td>Penguin Books</td>\n",
       "    </tr>\n",
       "  </tbody>\n",
       "</table>\n",
       "</div>"
      ],
      "text/plain": [
       "   count  publisher_id      publisher\n",
       "0     42           212  Penguin Books"
      ]
     },
     "execution_count": 11,
     "metadata": {},
     "output_type": "execute_result"
    }
   ],
   "source": [
    "query = '''\n",
    "           SELECT COUNT(DISTINCT b.book_id), b.publisher_id, p.publisher\n",
    "           FROM books AS b\n",
    "           LEFT JOIN publishers AS p ON b.publisher_id=p.publisher_id\n",
    "           WHERE b.num_pages > 50\n",
    "           GROUP BY b.publisher_id, p.publisher\n",
    "           ORDER BY COUNT(DISTINCT b.book_id) DESC\n",
    "           LIMIT 1\n",
    "           '''\n",
    "result(query)"
   ]
  },
  {
   "cell_type": "markdown",
   "id": "118da37e",
   "metadata": {},
   "source": [
    "Вывод: Наибольшеее количество книг (42) выпустило издательство Penguin Books."
   ]
  },
  {
   "cell_type": "markdown",
   "id": "7b62cfd1",
   "metadata": {},
   "source": [
    "#### Автор с самой высокой средней оценкой книг  (учитываются только книги с 50 и более оценками)"
   ]
  },
  {
   "cell_type": "code",
   "execution_count": 12,
   "id": "4b802b17",
   "metadata": {},
   "outputs": [
    {
     "data": {
      "text/html": [
       "<div>\n",
       "<style scoped>\n",
       "    .dataframe tbody tr th:only-of-type {\n",
       "        vertical-align: middle;\n",
       "    }\n",
       "\n",
       "    .dataframe tbody tr th {\n",
       "        vertical-align: top;\n",
       "    }\n",
       "\n",
       "    .dataframe thead th {\n",
       "        text-align: right;\n",
       "    }\n",
       "</style>\n",
       "<table border=\"1\" class=\"dataframe\">\n",
       "  <thead>\n",
       "    <tr style=\"text-align: right;\">\n",
       "      <th></th>\n",
       "      <th>author</th>\n",
       "      <th>avg_rating</th>\n",
       "    </tr>\n",
       "  </thead>\n",
       "  <tbody>\n",
       "    <tr>\n",
       "      <th>0</th>\n",
       "      <td>J.K. Rowling/Mary GrandPré</td>\n",
       "      <td>4.29</td>\n",
       "    </tr>\n",
       "  </tbody>\n",
       "</table>\n",
       "</div>"
      ],
      "text/plain": [
       "                       author  avg_rating\n",
       "0  J.K. Rowling/Mary GrandPré        4.29"
      ]
     },
     "execution_count": 12,
     "metadata": {},
     "output_type": "execute_result"
    }
   ],
   "source": [
    "query = '''\n",
    "           SELECT a.author, ROUND(AVG(rt.rating), 2) as avg_rating\n",
    "           FROM books AS b\n",
    "           LEFT JOIN authors AS a ON b.author_id=a.author_id\n",
    "           LEFT JOIN ratings AS rt ON b.book_id=rt.book_id\n",
    "           WHERE b.book_id IN (\n",
    "                  SELECT book_id\n",
    "                  FROM ratings \n",
    "                  GROUP BY book_id\n",
    "                  HAVING COUNT(rating_id) >= 50)\n",
    "           GROUP BY a.author\n",
    "           ORDER BY avg_rating DESC\n",
    "           LIMIT 1\n",
    "           '''\n",
    "result(query)"
   ]
  },
  {
   "cell_type": "markdown",
   "id": "d0d9435b",
   "metadata": {},
   "source": [
    "Вывод: J.K. Rowling/Mary GrandPré является автором с самым высоким средним рейтингом книг - 4,29"
   ]
  },
  {
   "cell_type": "markdown",
   "id": "4125cd44",
   "metadata": {},
   "source": [
    "#### Cреднее количество обзоров от пользователей, которые поставили больше 48 оценок."
   ]
  },
  {
   "cell_type": "code",
   "execution_count": 13,
   "id": "f10d7918",
   "metadata": {},
   "outputs": [
    {
     "data": {
      "text/html": [
       "<div>\n",
       "<style scoped>\n",
       "    .dataframe tbody tr th:only-of-type {\n",
       "        vertical-align: middle;\n",
       "    }\n",
       "\n",
       "    .dataframe tbody tr th {\n",
       "        vertical-align: top;\n",
       "    }\n",
       "\n",
       "    .dataframe thead th {\n",
       "        text-align: right;\n",
       "    }\n",
       "</style>\n",
       "<table border=\"1\" class=\"dataframe\">\n",
       "  <thead>\n",
       "    <tr style=\"text-align: right;\">\n",
       "      <th></th>\n",
       "      <th>avg_count_rew</th>\n",
       "    </tr>\n",
       "  </thead>\n",
       "  <tbody>\n",
       "    <tr>\n",
       "      <th>0</th>\n",
       "      <td>24.0</td>\n",
       "    </tr>\n",
       "  </tbody>\n",
       "</table>\n",
       "</div>"
      ],
      "text/plain": [
       "   avg_count_rew\n",
       "0           24.0"
      ]
     },
     "execution_count": 13,
     "metadata": {},
     "output_type": "execute_result"
    }
   ],
   "source": [
    "query = ''' SELECT ROUND(AVG(count_rew), 2) AS avg_count_rew\n",
    "            FROM \n",
    "            (SELECT COUNT(username) as count_rew\n",
    "            FROM reviews\n",
    "            GROUP BY username\n",
    "            HAVING username IN\n",
    "               (SELECT username \n",
    "               FROM ratings \n",
    "               GROUP BY username\n",
    "               HAVING COUNT(username) > 48)) as one \n",
    "        \n",
    "           '''\n",
    "result(query)"
   ]
  },
  {
   "cell_type": "markdown",
   "id": "a9c32039",
   "metadata": {},
   "source": [
    "Вывод: Среднее количество обзоров от пользователей, которые поставили более 48 оценок - 24."
   ]
  },
  {
   "cell_type": "markdown",
   "id": "c590f61f",
   "metadata": {},
   "source": [
    "## Общий вывод"
   ]
  },
  {
   "cell_type": "markdown",
   "id": "deb12a83",
   "metadata": {},
   "source": [
    "Приобретенный сервис хранит 1000 книг \n",
    "- После 1 января 2020 года было опубликовано 819 книг\n",
    "- Максимальное количество обзоров для одной книги - 7, минимальное 0. Максимальный средний рейтинг для книги - 5\n",
    "- Наибольшеее количество книг (42) выпустило издательство Penguin Books.\n",
    "- J.K. Rowling/Mary GrandPré является автором с самым высоким средним рейтингом книг - 4,29\n",
    "- Среднее количество обзоров от пользователей, которые поставили более 48 оценок - 24."
   ]
  }
 ],
 "metadata": {
  "ExecuteTimeLog": [
   {
    "duration": 59,
    "start_time": "2023-05-18T06:44:38.115Z"
   },
   {
    "duration": 471,
    "start_time": "2023-05-18T06:44:48.016Z"
   },
   {
    "duration": 8526,
    "start_time": "2023-05-18T06:44:48.489Z"
   },
   {
    "duration": 3,
    "start_time": "2023-05-18T06:44:57.018Z"
   },
   {
    "duration": 94,
    "start_time": "2023-05-18T06:44:57.024Z"
   },
   {
    "duration": 17,
    "start_time": "2023-05-18T06:44:57.121Z"
   },
   {
    "duration": 27,
    "start_time": "2023-05-18T06:44:57.142Z"
   },
   {
    "duration": 17,
    "start_time": "2023-05-18T06:44:57.171Z"
   },
   {
    "duration": 18,
    "start_time": "2023-05-18T06:44:57.190Z"
   },
   {
    "duration": 24,
    "start_time": "2023-05-18T06:44:57.210Z"
   },
   {
    "duration": 50,
    "start_time": "2023-05-18T06:44:57.236Z"
   },
   {
    "duration": 61,
    "start_time": "2023-05-18T06:44:57.288Z"
   },
   {
    "duration": 34,
    "start_time": "2023-05-18T06:44:57.351Z"
   },
   {
    "duration": 36,
    "start_time": "2023-05-18T06:44:57.387Z"
   },
   {
    "duration": 186,
    "start_time": "2023-05-18T06:46:13.785Z"
   },
   {
    "duration": 22,
    "start_time": "2023-05-18T06:46:25.084Z"
   },
   {
    "duration": 16,
    "start_time": "2023-05-18T06:47:51.754Z"
   },
   {
    "duration": 66,
    "start_time": "2023-05-18T07:06:24.180Z"
   },
   {
    "duration": 2,
    "start_time": "2023-05-18T07:06:39.264Z"
   },
   {
    "duration": 7,
    "start_time": "2023-05-18T07:07:21.119Z"
   },
   {
    "duration": 95,
    "start_time": "2023-05-18T07:12:08.969Z"
   },
   {
    "duration": 7,
    "start_time": "2023-05-18T07:12:25.641Z"
   },
   {
    "duration": 3,
    "start_time": "2023-05-18T07:22:26.966Z"
   },
   {
    "duration": 7,
    "start_time": "2023-05-18T07:22:26.972Z"
   },
   {
    "duration": 10,
    "start_time": "2023-05-18T07:22:26.981Z"
   },
   {
    "duration": 54,
    "start_time": "2023-05-18T07:22:26.993Z"
   },
   {
    "duration": 15,
    "start_time": "2023-05-18T07:22:27.049Z"
   },
   {
    "duration": 25,
    "start_time": "2023-05-18T07:22:27.065Z"
   },
   {
    "duration": 12,
    "start_time": "2023-05-18T07:22:27.092Z"
   },
   {
    "duration": 12,
    "start_time": "2023-05-18T07:22:27.106Z"
   },
   {
    "duration": 11,
    "start_time": "2023-05-18T07:22:27.119Z"
   },
   {
    "duration": 39,
    "start_time": "2023-05-18T07:22:27.132Z"
   },
   {
    "duration": 16,
    "start_time": "2023-05-18T07:22:27.173Z"
   },
   {
    "duration": 16,
    "start_time": "2023-05-18T07:22:27.191Z"
   },
   {
    "duration": 13,
    "start_time": "2023-05-18T07:22:27.209Z"
   },
   {
    "duration": 532,
    "start_time": "2023-05-18T07:23:22.386Z"
   },
   {
    "duration": 11154,
    "start_time": "2023-05-18T07:23:22.920Z"
   },
   {
    "duration": 5,
    "start_time": "2023-05-18T07:23:34.079Z"
   },
   {
    "duration": 58,
    "start_time": "2023-05-18T07:23:34.086Z"
   },
   {
    "duration": 18,
    "start_time": "2023-05-18T07:23:34.147Z"
   },
   {
    "duration": 40,
    "start_time": "2023-05-18T07:23:34.167Z"
   },
   {
    "duration": 19,
    "start_time": "2023-05-18T07:23:34.209Z"
   },
   {
    "duration": 11,
    "start_time": "2023-05-18T07:23:34.230Z"
   },
   {
    "duration": 10,
    "start_time": "2023-05-18T07:23:34.243Z"
   },
   {
    "duration": 56,
    "start_time": "2023-05-18T07:23:34.255Z"
   },
   {
    "duration": 13,
    "start_time": "2023-05-18T07:23:34.312Z"
   },
   {
    "duration": 13,
    "start_time": "2023-05-18T07:23:34.326Z"
   },
   {
    "duration": 11,
    "start_time": "2023-05-18T07:23:34.340Z"
   }
  ],
  "kernelspec": {
   "display_name": "Python 3 (ipykernel)",
   "language": "python",
   "name": "python3"
  },
  "language_info": {
   "codemirror_mode": {
    "name": "ipython",
    "version": 3
   },
   "file_extension": ".py",
   "mimetype": "text/x-python",
   "name": "python",
   "nbconvert_exporter": "python",
   "pygments_lexer": "ipython3",
   "version": "3.9.13"
  },
  "toc": {
   "base_numbering": 1,
   "nav_menu": {},
   "number_sections": true,
   "sideBar": true,
   "skip_h1_title": true,
   "title_cell": "Table of Contents",
   "title_sidebar": "Contents",
   "toc_cell": false,
   "toc_position": {},
   "toc_section_display": true,
   "toc_window_display": true
  }
 },
 "nbformat": 4,
 "nbformat_minor": 5
}
