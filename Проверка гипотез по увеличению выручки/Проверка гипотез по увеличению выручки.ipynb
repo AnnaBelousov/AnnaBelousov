{
 "cells": [
  {
   "cell_type": "markdown",
   "metadata": {},
   "source": [
    "# Анализ гипотиз и А/В тест для интернет-магазина"
   ]
  },
  {
   "cell_type": "markdown",
   "metadata": {},
   "source": [
    "Аналитик крупного интернет-магазина вместе с отделом маркетинга подготовил список гипотез для увеличения выручки.\n",
    "Необходимо приоритизировать гипотезы, запустить A/B-тест и проанализировать результаты. \n",
    "\n",
    "Описание исходных данных:\n",
    "\n",
    "**Часть 1. Приоритизация гипотез.**\n",
    "В файле hypothesis.csv 9 гипотез по увеличению выручки интернет-магазина с указанными параметрами Reach, Impact, Confidence, Effort.\n",
    "Задача\n",
    "- Применить фреймворк ICE для приоритизации гипотез. Отсортировать их по убыванию приоритета.\n",
    "- Применить фреймворк RICE для приоритизации гипотез. Отсортировать их по убыванию приоритета.\n",
    "\n",
    "**Часть 2. Анализ A/B-теста**\n",
    "\n",
    "Результаты А/В-теста описаны в файлах orders.csv и visitors.csv.\n",
    "**Задача**\n",
    "Проанализировать A/B-тест:\n",
    "- Построить график кумулятивной выручки по группам. \n",
    "- Построить график кумулятивного среднего чека по группам. \n",
    "- Построить график относительного изменения кумулятивного среднего чека группы B к группе A. \n",
    "- Построить график кумулятивного среднего количества заказов на посетителя по группам.\n",
    "- Построить график относительного изменения кумулятивного среднего количества заказов на посетителя группы B к группе A. \n",
    "- Построить точечный график количества заказов по пользователям. \n",
    "- Посчитать 95-й и 99-й перцентили количества заказов на пользователя. Выбрать границу для определения аномальных пользователей.\n",
    "- Построить точечный график стоимостей заказов. \n",
    "- Посчитать 95-й и 99-й перцентили стоимости заказов. Выберать границу для определения аномальных заказов.\n",
    "- Посчитать статистическую значимость различий в среднем количестве заказов на посетителя между группами по «сырым» данным. \n",
    "- Посчитатьстатистическую значимость различий в среднем чеке заказа между группами по «сырым» данным. \n",
    "- Посчитать статистическую значимость различий в среднем количестве заказов на посетителя между группами по «очищенным» данным. \n",
    "- Посчитать статистическую значимость различий в среднем чеке заказа между группами по «очищенным» данным. \n",
    "- Принять решение по результатам теста:\n",
    "1. Остановить тест, зафиксировать победу одной из групп.\n",
    "2. Остановить тест, зафиксировать отсутствие различий между группами.\n",
    "3. Продолжить тест.\n"
   ]
  },
  {
   "cell_type": "markdown",
   "metadata": {},
   "source": [
    "## Приоритизация гипотез"
   ]
  },
  {
   "cell_type": "markdown",
   "metadata": {},
   "source": [
    "### Подготовка данных"
   ]
  },
  {
   "cell_type": "code",
   "execution_count": 1,
   "metadata": {},
   "outputs": [],
   "source": [
    "import pandas as pd\n",
    "import numpy as np\n",
    "import seaborn as sns\n",
    "from datetime import datetime, timedelta as dt\n",
    "from matplotlib import pyplot as plt\n",
    "from scipy import stats as st\n",
    "import math as mth"
   ]
  },
  {
   "cell_type": "code",
   "execution_count": 2,
   "metadata": {},
   "outputs": [],
   "source": [
    "hypothesis=pd.read_csv('datasets/hypothesis.csv')"
   ]
  },
  {
   "cell_type": "code",
   "execution_count": 3,
   "metadata": {},
   "outputs": [
    {
     "data": {
      "text/html": [
       "<div>\n",
       "<style scoped>\n",
       "    .dataframe tbody tr th:only-of-type {\n",
       "        vertical-align: middle;\n",
       "    }\n",
       "\n",
       "    .dataframe tbody tr th {\n",
       "        vertical-align: top;\n",
       "    }\n",
       "\n",
       "    .dataframe thead th {\n",
       "        text-align: right;\n",
       "    }\n",
       "</style>\n",
       "<table border=\"1\" class=\"dataframe\">\n",
       "  <thead>\n",
       "    <tr style=\"text-align: right;\">\n",
       "      <th></th>\n",
       "      <th>Hypothesis</th>\n",
       "      <th>Reach</th>\n",
       "      <th>Impact</th>\n",
       "      <th>Confidence</th>\n",
       "      <th>Efforts</th>\n",
       "    </tr>\n",
       "  </thead>\n",
       "  <tbody>\n",
       "    <tr>\n",
       "      <th>0</th>\n",
       "      <td>Добавить два новых канала привлечения трафика, что позволит привлекать на 30% больше пользователей</td>\n",
       "      <td>3</td>\n",
       "      <td>10</td>\n",
       "      <td>8</td>\n",
       "      <td>6</td>\n",
       "    </tr>\n",
       "    <tr>\n",
       "      <th>1</th>\n",
       "      <td>Запустить собственную службу доставки, что сократит срок доставки заказов</td>\n",
       "      <td>2</td>\n",
       "      <td>5</td>\n",
       "      <td>4</td>\n",
       "      <td>10</td>\n",
       "    </tr>\n",
       "    <tr>\n",
       "      <th>2</th>\n",
       "      <td>Добавить блоки рекомендаций товаров на сайт интернет магазина, чтобы повысить конверсию и средний чек заказа</td>\n",
       "      <td>8</td>\n",
       "      <td>3</td>\n",
       "      <td>7</td>\n",
       "      <td>3</td>\n",
       "    </tr>\n",
       "    <tr>\n",
       "      <th>3</th>\n",
       "      <td>Изменить структура категорий, что увеличит конверсию, т.к. пользователи быстрее найдут нужный товар</td>\n",
       "      <td>8</td>\n",
       "      <td>3</td>\n",
       "      <td>3</td>\n",
       "      <td>8</td>\n",
       "    </tr>\n",
       "    <tr>\n",
       "      <th>4</th>\n",
       "      <td>Изменить цвет фона главной страницы, чтобы увеличить вовлеченность пользователей</td>\n",
       "      <td>3</td>\n",
       "      <td>1</td>\n",
       "      <td>1</td>\n",
       "      <td>1</td>\n",
       "    </tr>\n",
       "    <tr>\n",
       "      <th>5</th>\n",
       "      <td>Добавить страницу отзывов клиентов о магазине, что позволит увеличить количество заказов</td>\n",
       "      <td>3</td>\n",
       "      <td>2</td>\n",
       "      <td>2</td>\n",
       "      <td>3</td>\n",
       "    </tr>\n",
       "    <tr>\n",
       "      <th>6</th>\n",
       "      <td>Показать на главной странице баннеры с актуальными акциями и распродажами, чтобы увеличить конверсию</td>\n",
       "      <td>5</td>\n",
       "      <td>3</td>\n",
       "      <td>8</td>\n",
       "      <td>3</td>\n",
       "    </tr>\n",
       "    <tr>\n",
       "      <th>7</th>\n",
       "      <td>Добавить форму подписки на все основные страницы, чтобы собрать базу клиентов для email-рассылок</td>\n",
       "      <td>10</td>\n",
       "      <td>7</td>\n",
       "      <td>8</td>\n",
       "      <td>5</td>\n",
       "    </tr>\n",
       "    <tr>\n",
       "      <th>8</th>\n",
       "      <td>Запустить акцию, дающую скидку на товар в день рождения</td>\n",
       "      <td>1</td>\n",
       "      <td>9</td>\n",
       "      <td>9</td>\n",
       "      <td>5</td>\n",
       "    </tr>\n",
       "  </tbody>\n",
       "</table>\n",
       "</div>"
      ],
      "text/plain": [
       "                                                                                                     Hypothesis  \\\n",
       "0            Добавить два новых канала привлечения трафика, что позволит привлекать на 30% больше пользователей   \n",
       "1                                     Запустить собственную службу доставки, что сократит срок доставки заказов   \n",
       "2  Добавить блоки рекомендаций товаров на сайт интернет магазина, чтобы повысить конверсию и средний чек заказа   \n",
       "3           Изменить структура категорий, что увеличит конверсию, т.к. пользователи быстрее найдут нужный товар   \n",
       "4                              Изменить цвет фона главной страницы, чтобы увеличить вовлеченность пользователей   \n",
       "5                      Добавить страницу отзывов клиентов о магазине, что позволит увеличить количество заказов   \n",
       "6          Показать на главной странице баннеры с актуальными акциями и распродажами, чтобы увеличить конверсию   \n",
       "7              Добавить форму подписки на все основные страницы, чтобы собрать базу клиентов для email-рассылок   \n",
       "8                                                       Запустить акцию, дающую скидку на товар в день рождения   \n",
       "\n",
       "   Reach  Impact  Confidence  Efforts  \n",
       "0      3      10           8        6  \n",
       "1      2       5           4       10  \n",
       "2      8       3           7        3  \n",
       "3      8       3           3        8  \n",
       "4      3       1           1        1  \n",
       "5      3       2           2        3  \n",
       "6      5       3           8        3  \n",
       "7     10       7           8        5  \n",
       "8      1       9           9        5  "
      ]
     },
     "execution_count": 3,
     "metadata": {},
     "output_type": "execute_result"
    }
   ],
   "source": [
    "pd.set_option('display.max_colwidth', None)\n",
    "hypothesis"
   ]
  },
  {
   "cell_type": "code",
   "execution_count": 4,
   "metadata": {},
   "outputs": [
    {
     "name": "stdout",
     "output_type": "stream",
     "text": [
      "<class 'pandas.core.frame.DataFrame'>\n",
      "RangeIndex: 9 entries, 0 to 8\n",
      "Data columns (total 5 columns):\n",
      " #   Column      Non-Null Count  Dtype \n",
      "---  ------      --------------  ----- \n",
      " 0   Hypothesis  9 non-null      object\n",
      " 1   Reach       9 non-null      int64 \n",
      " 2   Impact      9 non-null      int64 \n",
      " 3   Confidence  9 non-null      int64 \n",
      " 4   Efforts     9 non-null      int64 \n",
      "dtypes: int64(4), object(1)\n",
      "memory usage: 488.0+ bytes\n"
     ]
    }
   ],
   "source": [
    "hypothesis.info()"
   ]
  },
  {
   "cell_type": "markdown",
   "metadata": {},
   "source": [
    "В датафрейме hypothesis не много данных, весь датафрейм можно проверить визуальною Всего в датафрейме 9 гипотез и их оценки по параметрам."
   ]
  },
  {
   "cell_type": "markdown",
   "metadata": {},
   "source": [
    "### Приоритезация гипотез"
   ]
  },
  {
   "cell_type": "markdown",
   "metadata": {},
   "source": [
    "Проверю гипотезы способом ICE"
   ]
  },
  {
   "cell_type": "code",
   "execution_count": 5,
   "metadata": {},
   "outputs": [
    {
     "data": {
      "text/html": [
       "<div>\n",
       "<style scoped>\n",
       "    .dataframe tbody tr th:only-of-type {\n",
       "        vertical-align: middle;\n",
       "    }\n",
       "\n",
       "    .dataframe tbody tr th {\n",
       "        vertical-align: top;\n",
       "    }\n",
       "\n",
       "    .dataframe thead th {\n",
       "        text-align: right;\n",
       "    }\n",
       "</style>\n",
       "<table border=\"1\" class=\"dataframe\">\n",
       "  <thead>\n",
       "    <tr style=\"text-align: right;\">\n",
       "      <th></th>\n",
       "      <th>Hypothesis</th>\n",
       "      <th>ICE</th>\n",
       "    </tr>\n",
       "  </thead>\n",
       "  <tbody>\n",
       "    <tr>\n",
       "      <th>8</th>\n",
       "      <td>Запустить акцию, дающую скидку на товар в день рождения</td>\n",
       "      <td>16.200000</td>\n",
       "    </tr>\n",
       "    <tr>\n",
       "      <th>0</th>\n",
       "      <td>Добавить два новых канала привлечения трафика, что позволит привлекать на 30% больше пользователей</td>\n",
       "      <td>13.333333</td>\n",
       "    </tr>\n",
       "    <tr>\n",
       "      <th>7</th>\n",
       "      <td>Добавить форму подписки на все основные страницы, чтобы собрать базу клиентов для email-рассылок</td>\n",
       "      <td>11.200000</td>\n",
       "    </tr>\n",
       "    <tr>\n",
       "      <th>6</th>\n",
       "      <td>Показать на главной странице баннеры с актуальными акциями и распродажами, чтобы увеличить конверсию</td>\n",
       "      <td>8.000000</td>\n",
       "    </tr>\n",
       "    <tr>\n",
       "      <th>2</th>\n",
       "      <td>Добавить блоки рекомендаций товаров на сайт интернет магазина, чтобы повысить конверсию и средний чек заказа</td>\n",
       "      <td>7.000000</td>\n",
       "    </tr>\n",
       "    <tr>\n",
       "      <th>1</th>\n",
       "      <td>Запустить собственную службу доставки, что сократит срок доставки заказов</td>\n",
       "      <td>2.000000</td>\n",
       "    </tr>\n",
       "    <tr>\n",
       "      <th>5</th>\n",
       "      <td>Добавить страницу отзывов клиентов о магазине, что позволит увеличить количество заказов</td>\n",
       "      <td>1.333333</td>\n",
       "    </tr>\n",
       "    <tr>\n",
       "      <th>3</th>\n",
       "      <td>Изменить структура категорий, что увеличит конверсию, т.к. пользователи быстрее найдут нужный товар</td>\n",
       "      <td>1.125000</td>\n",
       "    </tr>\n",
       "    <tr>\n",
       "      <th>4</th>\n",
       "      <td>Изменить цвет фона главной страницы, чтобы увеличить вовлеченность пользователей</td>\n",
       "      <td>1.000000</td>\n",
       "    </tr>\n",
       "  </tbody>\n",
       "</table>\n",
       "</div>"
      ],
      "text/plain": [
       "                                                                                                     Hypothesis  \\\n",
       "8                                                       Запустить акцию, дающую скидку на товар в день рождения   \n",
       "0            Добавить два новых канала привлечения трафика, что позволит привлекать на 30% больше пользователей   \n",
       "7              Добавить форму подписки на все основные страницы, чтобы собрать базу клиентов для email-рассылок   \n",
       "6          Показать на главной странице баннеры с актуальными акциями и распродажами, чтобы увеличить конверсию   \n",
       "2  Добавить блоки рекомендаций товаров на сайт интернет магазина, чтобы повысить конверсию и средний чек заказа   \n",
       "1                                     Запустить собственную службу доставки, что сократит срок доставки заказов   \n",
       "5                      Добавить страницу отзывов клиентов о магазине, что позволит увеличить количество заказов   \n",
       "3           Изменить структура категорий, что увеличит конверсию, т.к. пользователи быстрее найдут нужный товар   \n",
       "4                              Изменить цвет фона главной страницы, чтобы увеличить вовлеченность пользователей   \n",
       "\n",
       "         ICE  \n",
       "8  16.200000  \n",
       "0  13.333333  \n",
       "7  11.200000  \n",
       "6   8.000000  \n",
       "2   7.000000  \n",
       "1   2.000000  \n",
       "5   1.333333  \n",
       "3   1.125000  \n",
       "4   1.000000  "
      ]
     },
     "execution_count": 5,
     "metadata": {},
     "output_type": "execute_result"
    }
   ],
   "source": [
    "hypothesis['ICE']=hypothesis['Impact']*hypothesis['Confidence']/hypothesis['Efforts']\n",
    "hypothesis[['Hypothesis', 'ICE']].sort_values(by='ICE', ascending=False)"
   ]
  },
  {
   "cell_type": "markdown",
   "metadata": {},
   "source": [
    "Проверю гипотезы способом RICE"
   ]
  },
  {
   "cell_type": "code",
   "execution_count": 6,
   "metadata": {},
   "outputs": [
    {
     "data": {
      "text/html": [
       "<div>\n",
       "<style scoped>\n",
       "    .dataframe tbody tr th:only-of-type {\n",
       "        vertical-align: middle;\n",
       "    }\n",
       "\n",
       "    .dataframe tbody tr th {\n",
       "        vertical-align: top;\n",
       "    }\n",
       "\n",
       "    .dataframe thead th {\n",
       "        text-align: right;\n",
       "    }\n",
       "</style>\n",
       "<table border=\"1\" class=\"dataframe\">\n",
       "  <thead>\n",
       "    <tr style=\"text-align: right;\">\n",
       "      <th></th>\n",
       "      <th>Hypothesis</th>\n",
       "      <th>RICE</th>\n",
       "    </tr>\n",
       "  </thead>\n",
       "  <tbody>\n",
       "    <tr>\n",
       "      <th>7</th>\n",
       "      <td>Добавить форму подписки на все основные страницы, чтобы собрать базу клиентов для email-рассылок</td>\n",
       "      <td>112.0</td>\n",
       "    </tr>\n",
       "    <tr>\n",
       "      <th>2</th>\n",
       "      <td>Добавить блоки рекомендаций товаров на сайт интернет магазина, чтобы повысить конверсию и средний чек заказа</td>\n",
       "      <td>56.0</td>\n",
       "    </tr>\n",
       "    <tr>\n",
       "      <th>0</th>\n",
       "      <td>Добавить два новых канала привлечения трафика, что позволит привлекать на 30% больше пользователей</td>\n",
       "      <td>40.0</td>\n",
       "    </tr>\n",
       "    <tr>\n",
       "      <th>6</th>\n",
       "      <td>Показать на главной странице баннеры с актуальными акциями и распродажами, чтобы увеличить конверсию</td>\n",
       "      <td>40.0</td>\n",
       "    </tr>\n",
       "    <tr>\n",
       "      <th>8</th>\n",
       "      <td>Запустить акцию, дающую скидку на товар в день рождения</td>\n",
       "      <td>16.2</td>\n",
       "    </tr>\n",
       "    <tr>\n",
       "      <th>3</th>\n",
       "      <td>Изменить структура категорий, что увеличит конверсию, т.к. пользователи быстрее найдут нужный товар</td>\n",
       "      <td>9.0</td>\n",
       "    </tr>\n",
       "    <tr>\n",
       "      <th>1</th>\n",
       "      <td>Запустить собственную службу доставки, что сократит срок доставки заказов</td>\n",
       "      <td>4.0</td>\n",
       "    </tr>\n",
       "    <tr>\n",
       "      <th>5</th>\n",
       "      <td>Добавить страницу отзывов клиентов о магазине, что позволит увеличить количество заказов</td>\n",
       "      <td>4.0</td>\n",
       "    </tr>\n",
       "    <tr>\n",
       "      <th>4</th>\n",
       "      <td>Изменить цвет фона главной страницы, чтобы увеличить вовлеченность пользователей</td>\n",
       "      <td>3.0</td>\n",
       "    </tr>\n",
       "  </tbody>\n",
       "</table>\n",
       "</div>"
      ],
      "text/plain": [
       "                                                                                                     Hypothesis  \\\n",
       "7              Добавить форму подписки на все основные страницы, чтобы собрать базу клиентов для email-рассылок   \n",
       "2  Добавить блоки рекомендаций товаров на сайт интернет магазина, чтобы повысить конверсию и средний чек заказа   \n",
       "0            Добавить два новых канала привлечения трафика, что позволит привлекать на 30% больше пользователей   \n",
       "6          Показать на главной странице баннеры с актуальными акциями и распродажами, чтобы увеличить конверсию   \n",
       "8                                                       Запустить акцию, дающую скидку на товар в день рождения   \n",
       "3           Изменить структура категорий, что увеличит конверсию, т.к. пользователи быстрее найдут нужный товар   \n",
       "1                                     Запустить собственную службу доставки, что сократит срок доставки заказов   \n",
       "5                      Добавить страницу отзывов клиентов о магазине, что позволит увеличить количество заказов   \n",
       "4                              Изменить цвет фона главной страницы, чтобы увеличить вовлеченность пользователей   \n",
       "\n",
       "    RICE  \n",
       "7  112.0  \n",
       "2   56.0  \n",
       "0   40.0  \n",
       "6   40.0  \n",
       "8   16.2  \n",
       "3    9.0  \n",
       "1    4.0  \n",
       "5    4.0  \n",
       "4    3.0  "
      ]
     },
     "execution_count": 6,
     "metadata": {},
     "output_type": "execute_result"
    }
   ],
   "source": [
    "hypothesis['RICE']=hypothesis['Reach']*hypothesis['Impact']*hypothesis['Confidence']/hypothesis['Efforts']\n",
    "hypothesis[['Hypothesis', 'RICE']].sort_values(by='RICE', ascending=False)"
   ]
  },
  {
   "cell_type": "markdown",
   "metadata": {},
   "source": [
    "Результаты применения методики ICE и RICE отличаются и не смотря на то, что гипотезы из нижний половины так и остались внизу ранжирование сильно отличается. На это повлиял дополнительный параметр Reach (скольких пользователей затронет изменение, которое вы хотите внести) являющийся множителем в методике RICE. В гипотезе 8, которая возглавила рейтинг ICE этот параметр равен 1, а в гипотезе 7 возглавляющей рейтинг RICE, параметр Reach равен 10, то есть изменение затронет всех пользователей."
   ]
  },
  {
   "cell_type": "markdown",
   "metadata": {},
   "source": [
    "## Анализ A/B-теста"
   ]
  },
  {
   "cell_type": "markdown",
   "metadata": {},
   "source": [
    "### Подготовка данных"
   ]
  },
  {
   "cell_type": "code",
   "execution_count": 7,
   "metadata": {},
   "outputs": [],
   "source": [
    "visitors, orders = ( \n",
    "    pd.read_csv('datasets/visitors.csv'),  # журнал посещений\n",
    "    pd.read_csv('datasets/orders.csv'),  # покупки\n",
    ")"
   ]
  },
  {
   "cell_type": "code",
   "execution_count": 8,
   "metadata": {},
   "outputs": [
    {
     "data": {
      "text/html": [
       "<div>\n",
       "<style scoped>\n",
       "    .dataframe tbody tr th:only-of-type {\n",
       "        vertical-align: middle;\n",
       "    }\n",
       "\n",
       "    .dataframe tbody tr th {\n",
       "        vertical-align: top;\n",
       "    }\n",
       "\n",
       "    .dataframe thead th {\n",
       "        text-align: right;\n",
       "    }\n",
       "</style>\n",
       "<table border=\"1\" class=\"dataframe\">\n",
       "  <thead>\n",
       "    <tr style=\"text-align: right;\">\n",
       "      <th></th>\n",
       "      <th>date</th>\n",
       "      <th>group</th>\n",
       "      <th>visitors</th>\n",
       "    </tr>\n",
       "  </thead>\n",
       "  <tbody>\n",
       "    <tr>\n",
       "      <th>0</th>\n",
       "      <td>2019-08-01</td>\n",
       "      <td>A</td>\n",
       "      <td>719</td>\n",
       "    </tr>\n",
       "    <tr>\n",
       "      <th>1</th>\n",
       "      <td>2019-08-02</td>\n",
       "      <td>A</td>\n",
       "      <td>619</td>\n",
       "    </tr>\n",
       "    <tr>\n",
       "      <th>2</th>\n",
       "      <td>2019-08-03</td>\n",
       "      <td>A</td>\n",
       "      <td>507</td>\n",
       "    </tr>\n",
       "    <tr>\n",
       "      <th>3</th>\n",
       "      <td>2019-08-04</td>\n",
       "      <td>A</td>\n",
       "      <td>717</td>\n",
       "    </tr>\n",
       "    <tr>\n",
       "      <th>4</th>\n",
       "      <td>2019-08-05</td>\n",
       "      <td>A</td>\n",
       "      <td>756</td>\n",
       "    </tr>\n",
       "  </tbody>\n",
       "</table>\n",
       "</div>"
      ],
      "text/plain": [
       "         date group  visitors\n",
       "0  2019-08-01     A       719\n",
       "1  2019-08-02     A       619\n",
       "2  2019-08-03     A       507\n",
       "3  2019-08-04     A       717\n",
       "4  2019-08-05     A       756"
      ]
     },
     "execution_count": 8,
     "metadata": {},
     "output_type": "execute_result"
    }
   ],
   "source": [
    "visitors.head()"
   ]
  },
  {
   "cell_type": "code",
   "execution_count": 9,
   "metadata": {},
   "outputs": [
    {
     "data": {
      "text/html": [
       "<div>\n",
       "<style scoped>\n",
       "    .dataframe tbody tr th:only-of-type {\n",
       "        vertical-align: middle;\n",
       "    }\n",
       "\n",
       "    .dataframe tbody tr th {\n",
       "        vertical-align: top;\n",
       "    }\n",
       "\n",
       "    .dataframe thead th {\n",
       "        text-align: right;\n",
       "    }\n",
       "</style>\n",
       "<table border=\"1\" class=\"dataframe\">\n",
       "  <thead>\n",
       "    <tr style=\"text-align: right;\">\n",
       "      <th></th>\n",
       "      <th>transactionId</th>\n",
       "      <th>visitorId</th>\n",
       "      <th>date</th>\n",
       "      <th>revenue</th>\n",
       "      <th>group</th>\n",
       "    </tr>\n",
       "  </thead>\n",
       "  <tbody>\n",
       "    <tr>\n",
       "      <th>0</th>\n",
       "      <td>3667963787</td>\n",
       "      <td>3312258926</td>\n",
       "      <td>2019-08-15</td>\n",
       "      <td>1650</td>\n",
       "      <td>B</td>\n",
       "    </tr>\n",
       "    <tr>\n",
       "      <th>1</th>\n",
       "      <td>2804400009</td>\n",
       "      <td>3642806036</td>\n",
       "      <td>2019-08-15</td>\n",
       "      <td>730</td>\n",
       "      <td>B</td>\n",
       "    </tr>\n",
       "    <tr>\n",
       "      <th>2</th>\n",
       "      <td>2961555356</td>\n",
       "      <td>4069496402</td>\n",
       "      <td>2019-08-15</td>\n",
       "      <td>400</td>\n",
       "      <td>A</td>\n",
       "    </tr>\n",
       "    <tr>\n",
       "      <th>3</th>\n",
       "      <td>3797467345</td>\n",
       "      <td>1196621759</td>\n",
       "      <td>2019-08-15</td>\n",
       "      <td>9759</td>\n",
       "      <td>B</td>\n",
       "    </tr>\n",
       "    <tr>\n",
       "      <th>4</th>\n",
       "      <td>2282983706</td>\n",
       "      <td>2322279887</td>\n",
       "      <td>2019-08-15</td>\n",
       "      <td>2308</td>\n",
       "      <td>B</td>\n",
       "    </tr>\n",
       "  </tbody>\n",
       "</table>\n",
       "</div>"
      ],
      "text/plain": [
       "   transactionId   visitorId        date  revenue group\n",
       "0     3667963787  3312258926  2019-08-15     1650     B\n",
       "1     2804400009  3642806036  2019-08-15      730     B\n",
       "2     2961555356  4069496402  2019-08-15      400     A\n",
       "3     3797467345  1196621759  2019-08-15     9759     B\n",
       "4     2282983706  2322279887  2019-08-15     2308     B"
      ]
     },
     "execution_count": 9,
     "metadata": {},
     "output_type": "execute_result"
    }
   ],
   "source": [
    "orders.head()"
   ]
  },
  {
   "cell_type": "code",
   "execution_count": 10,
   "metadata": {},
   "outputs": [
    {
     "name": "stdout",
     "output_type": "stream",
     "text": [
      "<class 'pandas.core.frame.DataFrame'>\n",
      "RangeIndex: 62 entries, 0 to 61\n",
      "Data columns (total 3 columns):\n",
      " #   Column    Non-Null Count  Dtype \n",
      "---  ------    --------------  ----- \n",
      " 0   date      62 non-null     object\n",
      " 1   group     62 non-null     object\n",
      " 2   visitors  62 non-null     int64 \n",
      "dtypes: int64(1), object(2)\n",
      "memory usage: 1.6+ KB\n"
     ]
    }
   ],
   "source": [
    "visitors.info()"
   ]
  },
  {
   "cell_type": "code",
   "execution_count": 11,
   "metadata": {},
   "outputs": [
    {
     "name": "stdout",
     "output_type": "stream",
     "text": [
      "<class 'pandas.core.frame.DataFrame'>\n",
      "RangeIndex: 1197 entries, 0 to 1196\n",
      "Data columns (total 5 columns):\n",
      " #   Column         Non-Null Count  Dtype \n",
      "---  ------         --------------  ----- \n",
      " 0   transactionId  1197 non-null   int64 \n",
      " 1   visitorId      1197 non-null   int64 \n",
      " 2   date           1197 non-null   object\n",
      " 3   revenue        1197 non-null   int64 \n",
      " 4   group          1197 non-null   object\n",
      "dtypes: int64(3), object(2)\n",
      "memory usage: 46.9+ KB\n"
     ]
    }
   ],
   "source": [
    "orders.info()"
   ]
  },
  {
   "cell_type": "code",
   "execution_count": 12,
   "metadata": {},
   "outputs": [
    {
     "data": {
      "text/plain": [
       "0"
      ]
     },
     "execution_count": 12,
     "metadata": {},
     "output_type": "execute_result"
    }
   ],
   "source": [
    "visitors.duplicated().sum() # ищем явные дубликаты"
   ]
  },
  {
   "cell_type": "code",
   "execution_count": 13,
   "metadata": {},
   "outputs": [
    {
     "data": {
      "text/plain": [
       "0"
      ]
     },
     "execution_count": 13,
     "metadata": {},
     "output_type": "execute_result"
    }
   ],
   "source": [
    "orders.duplicated().sum() # ищем явные дубликаты"
   ]
  },
  {
   "cell_type": "markdown",
   "metadata": {},
   "source": [
    "Пропуски в столбцах отсутствуют, явных дубликатов тоже нет"
   ]
  },
  {
   "cell_type": "code",
   "execution_count": 14,
   "metadata": {},
   "outputs": [],
   "source": [
    "visitors['date'] = pd.to_datetime(visitors['date']) # изменю формат на дату"
   ]
  },
  {
   "cell_type": "code",
   "execution_count": 15,
   "metadata": {},
   "outputs": [],
   "source": [
    "orders['date'] =  pd.to_datetime(orders['date']) # изменю формат на дату"
   ]
  },
  {
   "cell_type": "markdown",
   "metadata": {},
   "source": [
    "Проверю корректность разбиения пользователей на группы, возможно есть пользователи, попавшие в обе группы"
   ]
  },
  {
   "cell_type": "code",
   "execution_count": 16,
   "metadata": {},
   "outputs": [
    {
     "data": {
      "text/plain": [
       "group    58\n",
       "dtype: int64"
      ]
     },
     "execution_count": 16,
     "metadata": {},
     "output_type": "execute_result"
    }
   ],
   "source": [
    "orders.groupby('visitorId').agg({'group' : 'nunique'}).query('group>1').count()"
   ]
  },
  {
   "cell_type": "markdown",
   "metadata": {},
   "source": [
    "Нашлось 58 таких пользователей, это менее 10% выборки, удалю данные этих пользователей из таблицы, после анализа будет ясно хватило ли данных"
   ]
  },
  {
   "cell_type": "code",
   "execution_count": 17,
   "metadata": {},
   "outputs": [],
   "source": [
    "double_users = orders.groupby('visitorId').agg({'group' : 'nunique'}).reset_index().query('group>1')['visitorId'].unique()"
   ]
  },
  {
   "cell_type": "code",
   "execution_count": 18,
   "metadata": {},
   "outputs": [],
   "source": [
    "orders = orders.query('visitorId not in @double_users')"
   ]
  },
  {
   "cell_type": "markdown",
   "metadata": {},
   "source": [
    "### Строю график кумулятивной выручки по группам"
   ]
  },
  {
   "cell_type": "code",
   "execution_count": 19,
   "metadata": {},
   "outputs": [],
   "source": [
    "# создаем массив уникальных пар значений дат и групп теста\n",
    "datesGroups = orders[['date','group']].drop_duplicates()"
   ]
  },
  {
   "cell_type": "markdown",
   "metadata": {},
   "source": [
    "Соберём агрегированные кумулятивные по дням данные о заказах и о посетителях интернет-магазина"
   ]
  },
  {
   "cell_type": "code",
   "execution_count": 20,
   "metadata": {},
   "outputs": [],
   "source": [
    "ordersAggregated = datesGroups.apply(lambda x: orders[np.logical_and(orders['date'] <= x['date'], orders['group'] == x['group'])]\\\n",
    ".agg({'date' : 'max', 'group' : 'max', 'transactionId' : 'nunique', 'visitorId' : 'nunique', 'revenue' : 'sum'}), axis=1).sort_values(by=['date','group'])"
   ]
  },
  {
   "cell_type": "code",
   "execution_count": 21,
   "metadata": {},
   "outputs": [],
   "source": [
    "visitorsAggregated = datesGroups.apply(lambda x: visitors[np.logical_and(visitors['date'] <= x['date'], visitors['group'] == x['group'])].agg({'date' : 'max', 'group' : 'max', 'visitors' : 'sum'}), axis=1).sort_values(by=['date','group'])"
   ]
  },
  {
   "cell_type": "code",
   "execution_count": 22,
   "metadata": {},
   "outputs": [
    {
     "data": {
      "text/html": [
       "<div>\n",
       "<style scoped>\n",
       "    .dataframe tbody tr th:only-of-type {\n",
       "        vertical-align: middle;\n",
       "    }\n",
       "\n",
       "    .dataframe tbody tr th {\n",
       "        vertical-align: top;\n",
       "    }\n",
       "\n",
       "    .dataframe thead th {\n",
       "        text-align: right;\n",
       "    }\n",
       "</style>\n",
       "<table border=\"1\" class=\"dataframe\">\n",
       "  <thead>\n",
       "    <tr style=\"text-align: right;\">\n",
       "      <th></th>\n",
       "      <th>date</th>\n",
       "      <th>group</th>\n",
       "      <th>orders</th>\n",
       "      <th>buyers</th>\n",
       "      <th>revenue</th>\n",
       "      <th>visitors</th>\n",
       "    </tr>\n",
       "  </thead>\n",
       "  <tbody>\n",
       "    <tr>\n",
       "      <th>0</th>\n",
       "      <td>2019-08-01</td>\n",
       "      <td>A</td>\n",
       "      <td>23</td>\n",
       "      <td>19</td>\n",
       "      <td>142779</td>\n",
       "      <td>719</td>\n",
       "    </tr>\n",
       "    <tr>\n",
       "      <th>1</th>\n",
       "      <td>2019-08-01</td>\n",
       "      <td>B</td>\n",
       "      <td>17</td>\n",
       "      <td>17</td>\n",
       "      <td>59758</td>\n",
       "      <td>713</td>\n",
       "    </tr>\n",
       "    <tr>\n",
       "      <th>2</th>\n",
       "      <td>2019-08-02</td>\n",
       "      <td>A</td>\n",
       "      <td>42</td>\n",
       "      <td>36</td>\n",
       "      <td>234381</td>\n",
       "      <td>1338</td>\n",
       "    </tr>\n",
       "    <tr>\n",
       "      <th>3</th>\n",
       "      <td>2019-08-02</td>\n",
       "      <td>B</td>\n",
       "      <td>40</td>\n",
       "      <td>39</td>\n",
       "      <td>221801</td>\n",
       "      <td>1294</td>\n",
       "    </tr>\n",
       "    <tr>\n",
       "      <th>4</th>\n",
       "      <td>2019-08-03</td>\n",
       "      <td>A</td>\n",
       "      <td>66</td>\n",
       "      <td>60</td>\n",
       "      <td>346854</td>\n",
       "      <td>1845</td>\n",
       "    </tr>\n",
       "  </tbody>\n",
       "</table>\n",
       "</div>"
      ],
      "text/plain": [
       "        date group  orders  buyers  revenue  visitors\n",
       "0 2019-08-01     A      23      19   142779       719\n",
       "1 2019-08-01     B      17      17    59758       713\n",
       "2 2019-08-02     A      42      36   234381      1338\n",
       "3 2019-08-02     B      40      39   221801      1294\n",
       "4 2019-08-03     A      66      60   346854      1845"
      ]
     },
     "execution_count": 22,
     "metadata": {},
     "output_type": "execute_result"
    }
   ],
   "source": [
    "# создаем массив уникальных пар значений дат и групп теста\n",
    "datesGroups = orders[['date','group']].drop_duplicates()\n",
    "\n",
    "# получаем агрегированные кумулятивные по дням данные о заказах \n",
    "ordersAggregated = datesGroups.apply(lambda x: orders[np.logical_and(orders['date'] <= x['date'], orders['group'] == x['group'])].agg({'date' : 'max', 'group' : 'max', 'transactionId' : 'nunique', 'visitorId' : 'nunique', 'revenue' : 'sum'}), axis=1).sort_values(by=['date','group'])\n",
    "\n",
    "# получаем агрегированные кумулятивные по дням данные о посетителях интернет-магазина \n",
    "visitorsAggregated = datesGroups.apply(lambda x: visitors[np.logical_and(visitors['date'] <= x['date'], visitors['group'] == x['group'])].agg({'date' : 'max', 'group' : 'max', 'visitors' : 'sum'}), axis=1).sort_values(by=['date','group'])\n",
    "\n",
    "# объединяем кумулятивные данные в одной таблице и присваиваем ее столбцам понятные названия\n",
    "cumulativeData = ordersAggregated.merge(visitorsAggregated, left_on=['date', 'group'], right_on=['date', 'group'])\n",
    "cumulativeData.columns = ['date', 'group', 'orders', 'buyers', 'revenue', 'visitors']\n",
    "\n",
    "cumulativeData.head(5)"
   ]
  },
  {
   "cell_type": "code",
   "execution_count": 23,
   "metadata": {},
   "outputs": [
    {
     "data": {
      "image/png": "[encoded data removed]",
      "text/plain": [
       "<Figure size 1080x360 with 1 Axes>"
      ]
     },
     "metadata": {
      "needs_background": "light"
     },
     "output_type": "display_data"
    }
   ],
   "source": [
    "# датафрейм с кумулятивным количеством заказов и кумулятивной выручкой по дням в группе А\n",
    "cumulativeRevenueA = cumulativeData[cumulativeData['group']=='A'][['date','revenue', 'orders', 'visitors']]\n",
    "\n",
    "# датафрейм с кумулятивным количеством заказов и кумулятивной выручкой по дням в группе B\n",
    "cumulativeRevenueB = cumulativeData[cumulativeData['group']=='B'][['date','revenue', 'orders', 'visitors']]\n",
    "plt.figure(figsize=(15,5))\n",
    "plt.title('График кумулятивной выручки по группам')\n",
    "# Строим график выручки группы А\n",
    "plt.plot(cumulativeRevenueA['date'], cumulativeRevenueA['revenue'], label='A');\n",
    "\n",
    "# Строим график выручки группы B\n",
    "plt.plot(cumulativeRevenueB['date'], cumulativeRevenueB['revenue'], label='B');\n",
    "\n",
    "plt.legend(); "
   ]
  },
  {
   "cell_type": "markdown",
   "metadata": {},
   "source": [
    "Выручка почти равномерно увеличивается в течение всего теста. Хороший знак. 13 августа выручка по группам равна.\n",
    "Однако график выручки группы В имеет резкий скачек роста 19 августа. Это может сигнализировать о всплесках числа заказов, либо о появлении очень дорогих заказов в выборке."
   ]
  },
  {
   "cell_type": "markdown",
   "metadata": {},
   "source": [
    "### Строю  график кумулятивного среднего чека по группам"
   ]
  },
  {
   "cell_type": "code",
   "execution_count": 24,
   "metadata": {},
   "outputs": [
    {
     "data": {
      "image/png": "[encoded data removed]",
      "text/plain": [
       "<Figure size 1080x360 with 1 Axes>"
      ]
     },
     "metadata": {
      "needs_background": "light"
     },
     "output_type": "display_data"
    }
   ],
   "source": [
    "plt.figure(figsize=(15,5))\n",
    "plt.title('График кумулятивного среднего чека по группам')\n",
    "plt.plot(cumulativeRevenueA['date'], cumulativeRevenueA['revenue']/cumulativeRevenueA['orders'], label='A')\n",
    "plt.plot(cumulativeRevenueB['date'], cumulativeRevenueB['revenue']/cumulativeRevenueB['orders'], label='B')\n",
    "plt.legend(); # Построим графики среднего чека по группам — разделим кумулятивную выручку на кумулятивное число заказов"
   ]
  },
  {
   "cell_type": "markdown",
   "metadata": {},
   "source": [
    "Средний чек постепенно растет для обеих групп, на этом графике, как и на предыдущем виден скачек у группы В в августе. Значит на графике выручки скачек произошел из-за увеличения среднего чека, а не роста количества заказов. Есть всплески для группы А, в конце средние чеки начали сближаться, чек группы В падает, чек группы А растет."
   ]
  },
  {
   "cell_type": "markdown",
   "metadata": {},
   "source": [
    "### Строю  график относительного изменения кумулятивного среднего чека группы B к группе A"
   ]
  },
  {
   "cell_type": "code",
   "execution_count": 25,
   "metadata": {},
   "outputs": [
    {
     "data": {
      "image/png": "[encoded data removed]",
      "text/plain": [
       "<Figure size 1080x360 with 1 Axes>"
      ]
     },
     "metadata": {
      "needs_background": "light"
     },
     "output_type": "display_data"
    }
   ],
   "source": [
    "# собираем данные в одном датафрейме\n",
    "mergedCumulativeRevenue = cumulativeRevenueA.merge(cumulativeRevenueB, left_on='date', right_on='date', how='left', suffixes=['A', 'B'])\n",
    "\n",
    "# cтроим отношение средних чеков\n",
    "plt.figure(figsize=(15,5))\n",
    "plt.title('График относительного изменения кумулятивного среднего чека группы B к группе A')\n",
    "plt.plot(mergedCumulativeRevenue['date'], (mergedCumulativeRevenue['revenueB']/mergedCumulativeRevenue['ordersB'])/(mergedCumulativeRevenue['revenueA']/mergedCumulativeRevenue['ordersA'])-1)\n",
    "\n",
    "# добавляем ось X\n",
    "plt.axhline(y=0, color='black', linestyle='--'); "
   ]
  },
  {
   "cell_type": "markdown",
   "metadata": {},
   "source": [
    "Средний чек \"B\" рос с 1 августа, 2 августа уже превысил \"A\" и рос до 7 августа. 7-8 пошло обратное движение до 13 августа, причем 3 дня 12-14 акгуста средний чек \"A\" был больше \"B\". Но не надолго, с 13 чек \"B\" опять начал расти и уже 15 августа наступил переломный момент и на следующий день чек \"B\" оказался больше и находился больше \"A\" до конца месяца. Опять же здесь хорошо видно, что 19 августа был сильный всплеск (рост) за счет заказа с аномально большим объемом, а в последующие дни средний чек \"B\" также постепенно снижался."
   ]
  },
  {
   "cell_type": "markdown",
   "metadata": {},
   "source": [
    "### Строю график кумулятивного среднего количества заказов на посетителя по группам"
   ]
  },
  {
   "cell_type": "code",
   "execution_count": 26,
   "metadata": {},
   "outputs": [
    {
     "data": {
      "image/png": "[encoded data removed]",
      "text/plain": [
       "<Figure size 1080x360 with 1 Axes>"
      ]
     },
     "metadata": {
      "needs_background": "light"
     },
     "output_type": "display_data"
    }
   ],
   "source": [
    "plt.figure(figsize=(15,5))\n",
    "plt.title('График кумулятивного среднего количества заказов на посетителя по группам')\n",
    "# Строим график выручки группы А\n",
    "plt.plot(cumulativeRevenueA['date'], cumulativeRevenueA['orders']/cumulativeRevenueA['visitors'], label='A');\n",
    "\n",
    "# Строим график выручки группы B\n",
    "plt.plot(cumulativeRevenueB['date'], cumulativeRevenueB['orders']/cumulativeRevenueB['visitors'], label='B');\n",
    "\n",
    "plt.legend();"
   ]
  },
  {
   "cell_type": "markdown",
   "metadata": {},
   "source": [
    "видно что в начале наблюдений были резкие скачки в количестве заказов в обеих группах, но после 6 августа группа Б уверенно лидирует, после 20 августа ситуация стабилизировалась и каких-то скачков в количестве заказов не наблюдалось. Этот график еще раз подтверждает что резкий пик выручки 19 августа обусловлен суммой заказа, а не количеством "
   ]
  },
  {
   "cell_type": "markdown",
   "metadata": {},
   "source": [
    "### Строю график относительного изменения кумулятивного среднего количества заказов на посетителя группы B к группе A"
   ]
  },
  {
   "cell_type": "code",
   "execution_count": 27,
   "metadata": {},
   "outputs": [
    {
     "data": {
      "image/png": "[encoded data removed]",
      "text/plain": [
       "<Figure size 1080x360 with 1 Axes>"
      ]
     },
     "metadata": {
      "needs_background": "light"
     },
     "output_type": "display_data"
    }
   ],
   "source": [
    "# собираем данные в одном датафрейме\n",
    "mergedCumulativeRevenue = cumulativeRevenueA.merge(cumulativeRevenueB, left_on='date', right_on='date', how='left', suffixes=['A', 'B'])\n",
    "# cтроим отношение средних чеков\n",
    "plt.figure(figsize=(15,5))\n",
    "plt.title('График относительного изменения кумулятивного среднего количества заказов на посетителя группы B к группе A')\n",
    "plt.plot(mergedCumulativeRevenue['date'], (mergedCumulativeRevenue['ordersB']/mergedCumulativeRevenue['visitorsB'])/(mergedCumulativeRevenue['ordersA']/mergedCumulativeRevenue['visitorsA'])-1)\n",
    "\n",
    "# добавляем ось X\n",
    "plt.axhline(y=0, color='black', linestyle='--'); "
   ]
  },
  {
   "cell_type": "markdown",
   "metadata": {},
   "source": [
    "Из графика видно, что после колебаний в период с 1 по 5 августа, с 6 августа начался относительный рост среднего количества заказов в группе, но с 17 августа рост прекратился и началось плавное снижение, тем не менее на 1 сентября, среднее количество заказов в группе В все еще больше чем в группе А"
   ]
  },
  {
   "cell_type": "markdown",
   "metadata": {},
   "source": [
    "### Строю точечный график количества заказов по пользователям"
   ]
  },
  {
   "cell_type": "code",
   "execution_count": 28,
   "metadata": {},
   "outputs": [
    {
     "data": {
      "text/html": [
       "<div>\n",
       "<style scoped>\n",
       "    .dataframe tbody tr th:only-of-type {\n",
       "        vertical-align: middle;\n",
       "    }\n",
       "\n",
       "    .dataframe tbody tr th {\n",
       "        vertical-align: top;\n",
       "    }\n",
       "\n",
       "    .dataframe thead th {\n",
       "        text-align: right;\n",
       "    }\n",
       "</style>\n",
       "<table border=\"1\" class=\"dataframe\">\n",
       "  <thead>\n",
       "    <tr style=\"text-align: right;\">\n",
       "      <th></th>\n",
       "      <th>userId</th>\n",
       "      <th>orders</th>\n",
       "    </tr>\n",
       "  </thead>\n",
       "  <tbody>\n",
       "    <tr>\n",
       "      <th>908</th>\n",
       "      <td>3967698036</td>\n",
       "      <td>3</td>\n",
       "    </tr>\n",
       "    <tr>\n",
       "      <th>55</th>\n",
       "      <td>249864742</td>\n",
       "      <td>3</td>\n",
       "    </tr>\n",
       "    <tr>\n",
       "      <th>478</th>\n",
       "      <td>2108163459</td>\n",
       "      <td>3</td>\n",
       "    </tr>\n",
       "    <tr>\n",
       "      <th>687</th>\n",
       "      <td>2988190573</td>\n",
       "      <td>3</td>\n",
       "    </tr>\n",
       "    <tr>\n",
       "      <th>890</th>\n",
       "      <td>3908431265</td>\n",
       "      <td>3</td>\n",
       "    </tr>\n",
       "    <tr>\n",
       "      <th>138</th>\n",
       "      <td>611059232</td>\n",
       "      <td>3</td>\n",
       "    </tr>\n",
       "    <tr>\n",
       "      <th>632</th>\n",
       "      <td>2742574263</td>\n",
       "      <td>3</td>\n",
       "    </tr>\n",
       "    <tr>\n",
       "      <th>157</th>\n",
       "      <td>678354126</td>\n",
       "      <td>2</td>\n",
       "    </tr>\n",
       "    <tr>\n",
       "      <th>323</th>\n",
       "      <td>1404560065</td>\n",
       "      <td>2</td>\n",
       "    </tr>\n",
       "    <tr>\n",
       "      <th>452</th>\n",
       "      <td>1985475298</td>\n",
       "      <td>2</td>\n",
       "    </tr>\n",
       "  </tbody>\n",
       "</table>\n",
       "</div>"
      ],
      "text/plain": [
       "         userId  orders\n",
       "908  3967698036       3\n",
       "55    249864742       3\n",
       "478  2108163459       3\n",
       "687  2988190573       3\n",
       "890  3908431265       3\n",
       "138   611059232       3\n",
       "632  2742574263       3\n",
       "157   678354126       2\n",
       "323  1404560065       2\n",
       "452  1985475298       2"
      ]
     },
     "execution_count": 28,
     "metadata": {},
     "output_type": "execute_result"
    }
   ],
   "source": [
    "ordersByUsers = (\n",
    "    orders.groupby('visitorId', as_index=False)\n",
    "    .agg({'transactionId': 'nunique'})\n",
    ")\n",
    "\n",
    "ordersByUsers.columns = ['userId', 'orders']\n",
    "\n",
    "ordersByUsers.sort_values(by='orders', ascending=False).head(10)"
   ]
  },
  {
   "cell_type": "code",
   "execution_count": 29,
   "metadata": {},
   "outputs": [
    {
     "data": {
      "image/png": "[encoded data removed]",
      "text/plain": [
       "<Figure size 1080x360 with 1 Axes>"
      ]
     },
     "metadata": {
      "needs_background": "light"
     },
     "output_type": "display_data"
    }
   ],
   "source": [
    "x_values = pd.Series(range(0,len(ordersByUsers)))\n",
    "plt.figure(figsize=(15,5))\n",
    "plt.title('График количества заказов')\n",
    "plt.scatter(x_values, ordersByUsers['orders']);"
   ]
  },
  {
   "cell_type": "markdown",
   "metadata": {},
   "source": [
    "Большинство покупателей заказывали только один раз. Однако доля пользователей с 2 заказами тоже значительна. Их точная доля не ясна — непонятно, считать их аномалиями или нет. "
   ]
  },
  {
   "cell_type": "markdown",
   "metadata": {},
   "source": [
    "### Посчитаю 95-й и 99-й перцентили количества заказов на пользователя. Выберу границу для определения аномальных пользователей"
   ]
  },
  {
   "cell_type": "code",
   "execution_count": 30,
   "metadata": {},
   "outputs": [
    {
     "data": {
      "text/plain": [
       "array([1., 2.])"
      ]
     },
     "execution_count": 30,
     "metadata": {},
     "output_type": "execute_result"
    }
   ],
   "source": [
    "np.percentile(ordersByUsers['orders'], [95, 99])"
   ]
  },
  {
   "cell_type": "markdown",
   "metadata": {},
   "source": [
    "Не более 1% пользователей оформляли более 2 заказов. Разумно выбрать 1 заказ на одного пользователя за верхнюю границу числа заказов, и отсеять аномальных пользователей по ней."
   ]
  },
  {
   "cell_type": "markdown",
   "metadata": {},
   "source": [
    "### Строю точечный график стоимостей заказов"
   ]
  },
  {
   "cell_type": "code",
   "execution_count": 31,
   "metadata": {},
   "outputs": [
    {
     "data": {
      "image/png": "[encoded data removed]",
      "text/plain": [
       "<Figure size 1080x360 with 1 Axes>"
      ]
     },
     "metadata": {
      "needs_background": "light"
     },
     "output_type": "display_data"
    }
   ],
   "source": [
    "plt.figure(figsize=(15,5))\n",
    "plt.title('График стоимостей заказов')\n",
    "x_values = pd.Series(range(0,len(orders['revenue'])))\n",
    "plt.scatter(x_values, orders['revenue']);"
   ]
  },
  {
   "cell_type": "markdown",
   "metadata": {},
   "source": [
    "Из-за одного аномального заказа более чем на 1,2млн масштаб графика получился не удобным, уберу заказы до 200 тысяч и построю график еще раз, что бы детальнее посмотреть на другие заказы"
   ]
  },
  {
   "cell_type": "code",
   "execution_count": 32,
   "metadata": {},
   "outputs": [
    {
     "data": {
      "image/png": "[encoded data removed]",
      "text/plain": [
       "<Figure size 1080x360 with 1 Axes>"
      ]
     },
     "metadata": {
      "needs_background": "light"
     },
     "output_type": "display_data"
    }
   ],
   "source": [
    "norm_orders = orders[orders['revenue']<=195000]['revenue']\n",
    "xn_values = pd.Series(range(0,len(norm_orders)))\n",
    "plt.figure(figsize=(15,5))\n",
    "plt.grid()\n",
    "plt.title('График стоимостей заказов')\n",
    "plt.scatter(xn_values, norm_orders, alpha=0.5);"
   ]
  },
  {
   "cell_type": "markdown",
   "metadata": {},
   "source": [
    "Видно что все заказы не считая двух лежат ниже 100 тысяч, для того что бы определить выбросы, посчитаю процентили"
   ]
  },
  {
   "cell_type": "markdown",
   "metadata": {},
   "source": [
    "### Считаю 95-й и 99-й перцентили стоимости заказов. Выбераю границу для определения аномальных заказов"
   ]
  },
  {
   "cell_type": "code",
   "execution_count": 33,
   "metadata": {},
   "outputs": [
    {
     "data": {
      "text/plain": [
       "array([26785., 53904.])"
      ]
     },
     "execution_count": 33,
     "metadata": {},
     "output_type": "execute_result"
    }
   ],
   "source": [
    "np.percentile(orders['revenue'], [95, 99])"
   ]
  },
  {
   "cell_type": "markdown",
   "metadata": {},
   "source": [
    "Не более 5% заказов больше 27 тысяч и только 1% превышает 53 тысячи, выберу для определения границы  аномальных заказов 30000 чуть выше 95 процентиля"
   ]
  },
  {
   "cell_type": "markdown",
   "metadata": {},
   "source": [
    "### Посчитаю статистическую значимость различий в среднем количестве заказов на посетителя между группами по «сырым» данным."
   ]
  },
  {
   "cell_type": "markdown",
   "metadata": {},
   "source": [
    "Сформулирую гипотезы. \n",
    "\n",
    "Нулевая: различий в среднем количестве заказов между группами нет. Альтернативная: различия в среднем между группами есть."
   ]
  },
  {
   "cell_type": "code",
   "execution_count": 34,
   "metadata": {},
   "outputs": [
    {
     "data": {
      "text/html": [
       "<div>\n",
       "<style scoped>\n",
       "    .dataframe tbody tr th:only-of-type {\n",
       "        vertical-align: middle;\n",
       "    }\n",
       "\n",
       "    .dataframe tbody tr th {\n",
       "        vertical-align: top;\n",
       "    }\n",
       "\n",
       "    .dataframe thead th {\n",
       "        text-align: right;\n",
       "    }\n",
       "</style>\n",
       "<table border=\"1\" class=\"dataframe\">\n",
       "  <thead>\n",
       "    <tr style=\"text-align: right;\">\n",
       "      <th></th>\n",
       "      <th>date</th>\n",
       "      <th>ordersPerDateA</th>\n",
       "      <th>revenuePerDateA</th>\n",
       "      <th>ordersPerDateB</th>\n",
       "      <th>revenuePerDateB</th>\n",
       "      <th>ordersCummulativeA</th>\n",
       "      <th>revenueCummulativeA</th>\n",
       "      <th>ordersCummulativeB</th>\n",
       "      <th>revenueCummulativeB</th>\n",
       "      <th>visitorsPerDateA</th>\n",
       "      <th>visitorsPerDateB</th>\n",
       "      <th>visitorsCummulativeA</th>\n",
       "      <th>visitorsCummulativeB</th>\n",
       "    </tr>\n",
       "  </thead>\n",
       "  <tbody>\n",
       "    <tr>\n",
       "      <th>0</th>\n",
       "      <td>2019-08-01</td>\n",
       "      <td>23</td>\n",
       "      <td>142779</td>\n",
       "      <td>17</td>\n",
       "      <td>59758</td>\n",
       "      <td>23</td>\n",
       "      <td>142779</td>\n",
       "      <td>17</td>\n",
       "      <td>59758</td>\n",
       "      <td>719</td>\n",
       "      <td>713</td>\n",
       "      <td>719</td>\n",
       "      <td>713</td>\n",
       "    </tr>\n",
       "    <tr>\n",
       "      <th>1</th>\n",
       "      <td>2019-08-02</td>\n",
       "      <td>19</td>\n",
       "      <td>91602</td>\n",
       "      <td>23</td>\n",
       "      <td>162043</td>\n",
       "      <td>42</td>\n",
       "      <td>234381</td>\n",
       "      <td>40</td>\n",
       "      <td>221801</td>\n",
       "      <td>619</td>\n",
       "      <td>581</td>\n",
       "      <td>1338</td>\n",
       "      <td>1294</td>\n",
       "    </tr>\n",
       "    <tr>\n",
       "      <th>2</th>\n",
       "      <td>2019-08-03</td>\n",
       "      <td>24</td>\n",
       "      <td>112473</td>\n",
       "      <td>14</td>\n",
       "      <td>67049</td>\n",
       "      <td>66</td>\n",
       "      <td>346854</td>\n",
       "      <td>54</td>\n",
       "      <td>288850</td>\n",
       "      <td>507</td>\n",
       "      <td>509</td>\n",
       "      <td>1845</td>\n",
       "      <td>1803</td>\n",
       "    </tr>\n",
       "    <tr>\n",
       "      <th>3</th>\n",
       "      <td>2019-08-04</td>\n",
       "      <td>11</td>\n",
       "      <td>41176</td>\n",
       "      <td>14</td>\n",
       "      <td>96890</td>\n",
       "      <td>77</td>\n",
       "      <td>388030</td>\n",
       "      <td>68</td>\n",
       "      <td>385740</td>\n",
       "      <td>717</td>\n",
       "      <td>770</td>\n",
       "      <td>2562</td>\n",
       "      <td>2573</td>\n",
       "    </tr>\n",
       "    <tr>\n",
       "      <th>4</th>\n",
       "      <td>2019-08-05</td>\n",
       "      <td>22</td>\n",
       "      <td>86383</td>\n",
       "      <td>21</td>\n",
       "      <td>89908</td>\n",
       "      <td>99</td>\n",
       "      <td>474413</td>\n",
       "      <td>89</td>\n",
       "      <td>475648</td>\n",
       "      <td>756</td>\n",
       "      <td>707</td>\n",
       "      <td>3318</td>\n",
       "      <td>3280</td>\n",
       "    </tr>\n",
       "  </tbody>\n",
       "</table>\n",
       "</div>"
      ],
      "text/plain": [
       "        date  ordersPerDateA  revenuePerDateA  ordersPerDateB  \\\n",
       "0 2019-08-01              23           142779              17   \n",
       "1 2019-08-02              19            91602              23   \n",
       "2 2019-08-03              24           112473              14   \n",
       "3 2019-08-04              11            41176              14   \n",
       "4 2019-08-05              22            86383              21   \n",
       "\n",
       "   revenuePerDateB  ordersCummulativeA  revenueCummulativeA  \\\n",
       "0            59758                  23               142779   \n",
       "1           162043                  42               234381   \n",
       "2            67049                  66               346854   \n",
       "3            96890                  77               388030   \n",
       "4            89908                  99               474413   \n",
       "\n",
       "   ordersCummulativeB  revenueCummulativeB  visitorsPerDateA  \\\n",
       "0                  17                59758               719   \n",
       "1                  40               221801               619   \n",
       "2                  54               288850               507   \n",
       "3                  68               385740               717   \n",
       "4                  89               475648               756   \n",
       "\n",
       "   visitorsPerDateB  visitorsCummulativeA  visitorsCummulativeB  \n",
       "0               713                   719                   713  \n",
       "1               581                  1338                  1294  \n",
       "2               509                  1845                  1803  \n",
       "3               770                  2562                  2573  \n",
       "4               707                  3318                  3280  "
      ]
     },
     "execution_count": 34,
     "metadata": {},
     "output_type": "execute_result"
    }
   ],
   "source": [
    "# подготовка данных\n",
    "visitorsADaily = visitors[visitors['group'] == 'A'][['date', 'visitors']]\n",
    "visitorsADaily.columns = ['date', 'visitorsPerDateA']\n",
    "\n",
    "visitorsACummulative = visitorsADaily.apply(\n",
    "    lambda x: visitorsADaily[visitorsADaily['date'] <= x['date']].agg(\n",
    "        {'date': 'max', 'visitorsPerDateA': 'sum'}\n",
    "    ),\n",
    "    axis=1,\n",
    ")\n",
    "visitorsACummulative.columns = ['date', 'visitorsCummulativeA']\n",
    "\n",
    "visitorsBDaily = visitors[visitors['group'] == 'B'][['date', 'visitors']]\n",
    "visitorsBDaily.columns = ['date', 'visitorsPerDateB']\n",
    "\n",
    "visitorsBCummulative = visitorsBDaily.apply(\n",
    "    lambda x: visitorsBDaily[visitorsBDaily['date'] <= x['date']].agg(\n",
    "        {'date': 'max', 'visitorsPerDateB': 'sum'}\n",
    "    ),\n",
    "    axis=1,\n",
    ")\n",
    "visitorsBCummulative.columns = ['date', 'visitorsCummulativeB']\n",
    "\n",
    "ordersADaily = (\n",
    "    orders[orders['group'] == 'A'][['date', 'transactionId', 'visitorId', 'revenue']]\n",
    "    .groupby('date', as_index=False)\n",
    "    .agg({'transactionId': pd.Series.nunique, 'revenue': 'sum'})\n",
    ")\n",
    "ordersADaily.columns = ['date', 'ordersPerDateA', 'revenuePerDateA']\n",
    "\n",
    "ordersACummulative = ordersADaily.apply(\n",
    "    lambda x: ordersADaily[ordersADaily['date'] <= x['date']].agg(\n",
    "        {'date': 'max', 'ordersPerDateA': 'sum', 'revenuePerDateA': 'sum'}\n",
    "    ),\n",
    "    axis=1,\n",
    ").sort_values(by=['date'])\n",
    "ordersACummulative.columns = [\n",
    "    'date',\n",
    "    'ordersCummulativeA',\n",
    "    'revenueCummulativeA',\n",
    "]\n",
    "\n",
    "ordersBDaily = (\n",
    "    orders[orders['group'] == 'B'][['date', 'transactionId', 'visitorId', 'revenue']]\n",
    "    .groupby('date', as_index=False)\n",
    "    .agg({'transactionId': pd.Series.nunique, 'revenue': 'sum'})\n",
    ")\n",
    "ordersBDaily.columns = ['date', 'ordersPerDateB', 'revenuePerDateB']\n",
    "\n",
    "ordersBCummulative = ordersBDaily.apply(\n",
    "    lambda x: ordersBDaily[ordersBDaily['date'] <= x['date']].agg(\n",
    "        {'date': 'max', 'ordersPerDateB': 'sum', 'revenuePerDateB': 'sum'}\n",
    "    ),\n",
    "    axis=1,\n",
    ").sort_values(by=['date'])\n",
    "ordersBCummulative.columns = [\n",
    "    'date',\n",
    "    'ordersCummulativeB',\n",
    "    'revenueCummulativeB',\n",
    "]\n",
    "\n",
    "data = (\n",
    "    ordersADaily.merge(\n",
    "        ordersBDaily, left_on='date', right_on='date', how='left'\n",
    "    )\n",
    "    .merge(ordersACummulative, left_on='date', right_on='date', how='left')\n",
    "    .merge(ordersBCummulative, left_on='date', right_on='date', how='left')\n",
    "    .merge(visitorsADaily, left_on='date', right_on='date', how='left')\n",
    "    .merge(visitorsBDaily, left_on='date', right_on='date', how='left')\n",
    "    .merge(visitorsACummulative, left_on='date', right_on='date', how='left')\n",
    "    .merge(visitorsBCummulative, left_on='date', right_on='date', how='left')\n",
    ")\n",
    "\n",
    "data.head(5)"
   ]
  },
  {
   "cell_type": "code",
   "execution_count": 35,
   "metadata": {},
   "outputs": [],
   "source": [
    "# ordersPerDateA — количество заказов в выбранную дату в группе A;\n",
    "# revenuePerDateA — суммарная выручка в выбранную дату в группе A;\n",
    "# ordersPerDateB — количество заказов в выбранную дату в группе B;\n",
    "# revenuePerDateB — суммарная выручка в выбранную дату в группе B;\n",
    "# ordersCummulativeA — суммарное число заказов до выбранной даты включительно в группе A;\n",
    "# revenueCummulativeA — суммарная выручка до выбранной даты включительно в группе A;\n",
    "# ordersCummulativeB — суммарное количество заказов до выбранной даты включительно в группе B;\n",
    "# revenueCummulativeB — суммарная выручка до выбранной даты включительно в группе B;\n",
    "# visitorsPerDateA — количество пользователей в выбранную дату в группе A;\n",
    "# visitorsPerDateB — количество пользователей в выбранную дату в группе B;\n",
    "# visitorsCummulativeA — количество пользователей до выбранной даты включительно в группе A;\n",
    "# visitorsCummulativeB — количество пользователей до выбранной даты включительно в группе B"
   ]
  },
  {
   "cell_type": "code",
   "execution_count": 36,
   "metadata": {},
   "outputs": [
    {
     "name": "stdout",
     "output_type": "stream",
     "text": [
      "p-value:0.011\n"
     ]
    },
    {
     "data": {
      "text/plain": [
       "'0.160'"
      ]
     },
     "execution_count": 36,
     "metadata": {},
     "output_type": "execute_result"
    }
   ],
   "source": [
    "# Считаю статистическую значимость различия в среднем количестве заказов между группами.\n",
    "ordersByUsersA = (\n",
    "    orders[orders['group'] == 'A']\n",
    "    .groupby('visitorId', as_index=False)\n",
    "    .agg({'transactionId': pd.Series.nunique})\n",
    ")\n",
    "ordersByUsersA.columns = ['visitorId', 'orders']\n",
    "\n",
    "ordersByUsersB = (\n",
    "    orders[orders['group'] == 'B']\n",
    "    .groupby('visitorId', as_index=False)\n",
    "    .agg({'transactionId': pd.Series.nunique})\n",
    ")\n",
    "ordersByUsersB.columns = ['visitorId', 'orders'] \n",
    "\n",
    "# переменным sampleA и sampleB, в которых пользователям из разных групп будет соответствовать количество заказов\n",
    "\n",
    "\n",
    "sampleA = pd.concat(\n",
    "    [\n",
    "        ordersByUsersA['orders'],\n",
    "        pd.Series(\n",
    "            0,\n",
    "            index=np.arange(\n",
    "                data['visitorsPerDateA'].sum() - len(ordersByUsersA['orders'])\n",
    "            ),\n",
    "            name='orders',\n",
    "        ),\n",
    "    ],\n",
    "    axis=0,\n",
    ")\n",
    "\n",
    "sampleB = pd.concat(\n",
    "    [\n",
    "        ordersByUsersB['orders'],\n",
    "        pd.Series(\n",
    "            0,\n",
    "            index=np.arange(\n",
    "                data['visitorsPerDateB'].sum() - len(ordersByUsersB['orders'])\n",
    "            ),\n",
    "            name='orders',\n",
    "        ),\n",
    "    ],\n",
    "    axis=0,\n",
    ")\n",
    "\n",
    "print('p-value:'\"{0:.3f}\".format(st.mannwhitneyu(sampleA, sampleB)[1]))\n",
    "\n",
    "\"{0:.3f}\".format(sampleB.mean() / sampleA.mean() - 1)\n"
   ]
  },
  {
   "cell_type": "markdown",
   "metadata": {},
   "source": [
    "Первое число — p-value = 0.011 меньше 0.05. Значит, нулевую гипотезу о том, что статистически значимых различий в среднем числе заказов между группами нет, отвергаем. Второе число 0,160 - группа В выигрывает перед группой А на 16%. Вывод: По «сырым» данным есть различия в среднем числе заказов групп A и B "
   ]
  },
  {
   "cell_type": "markdown",
   "metadata": {},
   "source": [
    "### Посчитаю статистическую значимость различий в среднем чеке заказа между группами по «сырым» данным"
   ]
  },
  {
   "cell_type": "code",
   "execution_count": 37,
   "metadata": {},
   "outputs": [
    {
     "name": "stdout",
     "output_type": "stream",
     "text": [
      "p-value:0.829\n",
      "0.287\n"
     ]
    }
   ],
   "source": [
    "# передаю критерию mannwhitneyu() данные о выручке с заказов и нахожу относительные различия в среднем чеке между группами\n",
    "print('p-value:''{0:.3f}'.format(st.mannwhitneyu(orders[orders['group']=='A']['revenue'], orders[orders['group']=='B']['revenue'])[1]))\n",
    "print('{0:.3f}'.format(orders[orders['group']=='B']['revenue'].mean()/orders[orders['group']=='A']['revenue'].mean()-1))"
   ]
  },
  {
   "cell_type": "markdown",
   "metadata": {},
   "source": [
    "P-value=0,829 значительно больше 0.05. Значит, причин отвергать нулевую гипотезу и считать, что в среднем чеке есть различия, нет. Наблюдаемое различие 28,7% среднего чека группы B относительно среднего чека группы A не является статистически значимым."
   ]
  },
  {
   "cell_type": "markdown",
   "metadata": {},
   "source": [
    "### Посчитаю статистическую значимость различий в среднем количестве заказов на посетителя между группами по «очищенным» данным"
   ]
  },
  {
   "cell_type": "code",
   "execution_count": 38,
   "metadata": {},
   "outputs": [
    {
     "name": "stdout",
     "output_type": "stream",
     "text": [
      "1099    148427295\n",
      "928     204675465\n",
      "33      249864742\n",
      "684     358944393\n",
      "36      366673373\n",
      "Name: visitorId, dtype: int64\n",
      "Аномальных пользователей: 77\n"
     ]
    }
   ],
   "source": [
    "# Узнаю, сколько всего аномальных пользователей атрибутом shape\n",
    "revenue_lim = 30000\n",
    "usersWithManyOrders = pd.concat(\n",
    "    [\n",
    "        ordersByUsersA[ordersByUsersA['orders'] > 1]['visitorId'],\n",
    "        ordersByUsersB[ordersByUsersB['orders'] > 1]['visitorId'],\n",
    "    ],\n",
    "    axis=0,\n",
    ")\n",
    "usersWithExpensiveOrders = orders[orders['revenue'] > revenue_lim]['visitorId']\n",
    "abnormalUsers = (\n",
    "    pd.concat([usersWithManyOrders, usersWithExpensiveOrders], axis=0)\n",
    "    .drop_duplicates()\n",
    "    .sort_values()\n",
    ")\n",
    "print(abnormalUsers.head(5))\n",
    "print('Аномальных пользователей:', abnormalUsers.shape[0]) "
   ]
  },
  {
   "cell_type": "markdown",
   "metadata": {},
   "source": [
    "<div class=\"alert alert-warning\">\n",
    "    \n",
    "      \n",
    "  ⚠️ Тут можно или непосредственно вычисления по 95 / 99 перцентилю, например:\n",
    "```python \n",
    "revenue_lim = np.percentile(orders['revenue'], 95)`\n",
    "```\n",
    "или задавать в качестве отдельной переменой:\n",
    "\n",
    "```python \n",
    "revenue_lim = 100000\n",
    "usersWithExpensiveOrders = orders[orders['revenue'] > revenue_lim]['visitorId']`\n",
    "```\n",
    "\n",
    "</div>"
   ]
  },
  {
   "cell_type": "code",
   "execution_count": 39,
   "metadata": {},
   "outputs": [],
   "source": [
    "# готовлю выборки количества заказов по пользователям по группам теста\n",
    "\n",
    "sampleAFiltered = pd.concat(\n",
    "    [\n",
    "        ordersByUsersA[\n",
    "            np.logical_not(ordersByUsersA['visitorId'].isin(abnormalUsers))\n",
    "        ]['orders'],\n",
    "        pd.Series(\n",
    "            0,\n",
    "            index=np.arange(\n",
    "                data['visitorsPerDateA'].sum() - len(ordersByUsersA['orders'])\n",
    "            ),\n",
    "            name='orders',\n",
    "        ),\n",
    "    ],\n",
    "    axis=0,\n",
    ")\n",
    "\n",
    "sampleBFiltered = pd.concat(\n",
    "    [\n",
    "        ordersByUsersB[\n",
    "            np.logical_not(ordersByUsersB['visitorId'].isin(abnormalUsers))\n",
    "        ]['orders'],\n",
    "        pd.Series(\n",
    "            0,\n",
    "            index=np.arange(\n",
    "                data['visitorsPerDateB'].sum() - len(ordersByUsersB['orders'])\n",
    "            ),\n",
    "            name='orders',\n",
    "        ),\n",
    "    ],\n",
    "    axis=0,\n",
    ") "
   ]
  },
  {
   "cell_type": "code",
   "execution_count": 40,
   "metadata": {},
   "outputs": [
    {
     "name": "stdout",
     "output_type": "stream",
     "text": [
      "p-value:0.013\n",
      "0.180\n"
     ]
    }
   ],
   "source": [
    "# применяю статистический критерий Манна-Уитни к полученным выборкам:\n",
    "print('p-value:''{0:.3f}'.format(st.mannwhitneyu(sampleAFiltered, sampleBFiltered)[1]))\n",
    "print('{0:.3f}'.format(sampleBFiltered.mean()/sampleAFiltered.mean()-1)) "
   ]
  },
  {
   "cell_type": "markdown",
   "metadata": {},
   "source": [
    "Результаты  по среднему количеству заказов практически не изменились относительно исследования по сырым данным. По очищенным данным нулевую гипотезу так же отвергаем, различия в среднем количестве заказов есть и они статистически значимы."
   ]
  },
  {
   "cell_type": "markdown",
   "metadata": {},
   "source": [
    "### Посчитаю статистическую значимость различий в среднем чеке заказа между группами по «очищенным» данным"
   ]
  },
  {
   "cell_type": "code",
   "execution_count": 41,
   "metadata": {},
   "outputs": [
    {
     "name": "stdout",
     "output_type": "stream",
     "text": [
      "p-value:0.829\n",
      "-0.011\n"
     ]
    }
   ],
   "source": [
    "print(\n",
    "    'p-value:''{0:.3f}'.format(\n",
    "        st.mannwhitneyu(\n",
    "            orders[\n",
    "                np.logical_and(\n",
    "                    orders['group'] == 'A',\n",
    "                    np.logical_not(orders['visitorId'].isin(abnormalUsers)),\n",
    "                )\n",
    "            ]['revenue'],\n",
    "            orders[\n",
    "                np.logical_and(\n",
    "                    orders['group'] == 'B',\n",
    "                    np.logical_not(orders['visitorId'].isin(abnormalUsers)),\n",
    "                )\n",
    "            ]['revenue'],\n",
    "        )[1]\n",
    "    )\n",
    ")\n",
    "\n",
    "print(\n",
    "    \"{0:.3f}\".format(\n",
    "        orders[\n",
    "            np.logical_and(\n",
    "                orders['group'] == 'B',\n",
    "                np.logical_not(orders['visitorId'].isin(abnormalUsers)),\n",
    "            )\n",
    "        ]['revenue'].mean()\n",
    "        / orders[\n",
    "            np.logical_and(\n",
    "                orders['group'] == 'A',\n",
    "                np.logical_not(orders['visitorId'].isin(abnormalUsers)),\n",
    "            )\n",
    "        ]['revenue'].mean()\n",
    "        - 1\n",
    "    )\n",
    ") "
   ]
  },
  {
   "cell_type": "markdown",
   "metadata": {},
   "source": [
    "P-value увеличился, по очищенным данным получаем такой же статистический результат, различий в среднем чеке между группами нет. Разница между сегментами -1% не является статистически значимой"
   ]
  },
  {
   "cell_type": "markdown",
   "metadata": {},
   "source": [
    "### Решение по результатам теста"
   ]
  },
  {
   "cell_type": "markdown",
   "metadata": {},
   "source": [
    "Выводы по результатам тестирования:\n",
    "    \n",
    "- Есть статистически значимое различие по среднему количеству заказов между группами и по «сырым», и по данным после фильтрации аномалий;    \n",
    "- Нет статистически значимого различия по среднему чеку между группами ни по «сырым», ни по данным после фильтрации аномалий;\n",
    "- График различия среднего количества заказов между группами сообщает, что результаты группы B лучше группы A стабильно более 80% времени тестирования, тенденции к ухудшению результатов не наблюдается;\n",
    "- График различия среднего чека говорит о том, что результаты группы B улучшались за счет аномальных крупных покупок, после таких покупок постепенно данные сближались.\n",
    "\n",
    "**Исходя из обнаруженных фактов, тест следует остановить и признать его успешным в части увеличения среднего количества заказов в группе В, по среднему чеку группы примерно равны.**"
   ]
  }
 ],
 "metadata": {
  "ExecuteTimeLog": [
   {
    "duration": 1472,
    "start_time": "2023-03-01T06:20:24.051Z"
   },
   {
    "duration": 67,
    "start_time": "2023-03-01T06:20:26.683Z"
   },
   {
    "duration": 17,
    "start_time": "2023-03-01T06:20:27.755Z"
   },
   {
    "duration": 8,
    "start_time": "2023-03-01T06:20:36.081Z"
   },
   {
    "duration": 9,
    "start_time": "2023-03-01T06:20:42.039Z"
   },
   {
    "duration": 9,
    "start_time": "2023-03-01T06:20:48.125Z"
   },
   {
    "duration": 13,
    "start_time": "2023-03-01T06:22:22.278Z"
   },
   {
    "duration": 1335,
    "start_time": "2023-03-01T06:32:05.024Z"
   },
   {
    "duration": 10,
    "start_time": "2023-03-01T06:32:28.549Z"
   },
   {
    "duration": 12,
    "start_time": "2023-03-01T06:33:17.625Z"
   },
   {
    "duration": 7,
    "start_time": "2023-03-01T06:35:05.382Z"
   },
   {
    "duration": 26,
    "start_time": "2023-03-01T06:35:43.182Z"
   },
   {
    "duration": 10,
    "start_time": "2023-03-01T06:38:01.279Z"
   },
   {
    "duration": 11,
    "start_time": "2023-03-01T06:39:54.575Z"
   },
   {
    "duration": 11,
    "start_time": "2023-03-01T06:40:10.592Z"
   },
   {
    "duration": 10,
    "start_time": "2023-03-01T06:41:15.348Z"
   },
   {
    "duration": 3,
    "start_time": "2023-03-01T06:41:27.059Z"
   },
   {
    "duration": 3,
    "start_time": "2023-03-01T06:41:39.679Z"
   },
   {
    "duration": 24,
    "start_time": "2023-03-01T06:41:40.095Z"
   },
   {
    "duration": 8,
    "start_time": "2023-03-01T06:41:40.544Z"
   },
   {
    "duration": 12,
    "start_time": "2023-03-01T06:41:41.258Z"
   },
   {
    "duration": 9,
    "start_time": "2023-03-01T06:41:42.580Z"
   },
   {
    "duration": 11,
    "start_time": "2023-03-01T06:45:00.391Z"
   },
   {
    "duration": 10,
    "start_time": "2023-03-01T06:45:36.526Z"
   },
   {
    "duration": 13,
    "start_time": "2023-03-01T06:46:14.746Z"
   },
   {
    "duration": 4,
    "start_time": "2023-03-01T06:59:31.664Z"
   },
   {
    "duration": 9,
    "start_time": "2023-03-01T07:03:55.397Z"
   },
   {
    "duration": 81,
    "start_time": "2023-03-01T07:04:00.731Z"
   },
   {
    "duration": 94,
    "start_time": "2023-03-01T07:04:09.598Z"
   },
   {
    "duration": 146,
    "start_time": "2023-03-01T07:04:30.717Z"
   },
   {
    "duration": 7,
    "start_time": "2023-03-01T07:04:32.526Z"
   },
   {
    "duration": 12,
    "start_time": "2023-03-01T07:06:19.797Z"
   },
   {
    "duration": 15,
    "start_time": "2023-03-01T07:07:08.988Z"
   },
   {
    "duration": 12,
    "start_time": "2023-03-01T07:07:49.833Z"
   },
   {
    "duration": 6,
    "start_time": "2023-03-01T07:09:45.621Z"
   },
   {
    "duration": 9,
    "start_time": "2023-03-01T07:10:00.084Z"
   },
   {
    "duration": 306,
    "start_time": "2023-03-01T07:33:30.133Z"
   },
   {
    "duration": 343,
    "start_time": "2023-03-01T07:33:30.677Z"
   },
   {
    "duration": 4,
    "start_time": "2023-03-01T07:34:32.765Z"
   },
   {
    "duration": 293,
    "start_time": "2023-03-01T07:34:37.907Z"
   },
   {
    "duration": 5,
    "start_time": "2023-03-01T07:35:50.256Z"
   },
   {
    "duration": 6,
    "start_time": "2023-03-01T07:36:16.634Z"
   },
   {
    "duration": 8,
    "start_time": "2023-03-01T07:53:34.019Z"
   },
   {
    "duration": 28,
    "start_time": "2023-03-01T07:54:50.102Z"
   },
   {
    "duration": 220,
    "start_time": "2023-03-01T07:56:02.767Z"
   },
   {
    "duration": 139,
    "start_time": "2023-03-01T07:56:43.121Z"
   },
   {
    "duration": 31,
    "start_time": "2023-03-01T07:58:47.442Z"
   },
   {
    "duration": 302,
    "start_time": "2023-03-01T07:59:32.000Z"
   },
   {
    "duration": 305,
    "start_time": "2023-03-01T07:59:53.037Z"
   },
   {
    "duration": 289,
    "start_time": "2023-03-01T08:05:26.587Z"
   },
   {
    "duration": 219,
    "start_time": "2023-03-01T08:05:49.631Z"
   },
   {
    "duration": 186,
    "start_time": "2023-03-01T08:05:57.405Z"
   },
   {
    "duration": 209,
    "start_time": "2023-03-01T08:06:55.769Z"
   },
   {
    "duration": 208,
    "start_time": "2023-03-01T08:16:04.457Z"
   },
   {
    "duration": 205,
    "start_time": "2023-03-01T08:24:11.955Z"
   },
   {
    "duration": 220,
    "start_time": "2023-03-01T08:25:34.587Z"
   },
   {
    "duration": 346,
    "start_time": "2023-03-01T08:26:04.005Z"
   },
   {
    "duration": 329,
    "start_time": "2023-03-01T09:04:40.658Z"
   },
   {
    "duration": 214,
    "start_time": "2023-03-01T09:27:53.259Z"
   },
   {
    "duration": 1309,
    "start_time": "2023-03-01T09:29:16.910Z"
   },
   {
    "duration": 224,
    "start_time": "2023-03-01T09:30:27.788Z"
   },
   {
    "duration": 260,
    "start_time": "2023-03-01T09:30:32.889Z"
   },
   {
    "duration": 7,
    "start_time": "2023-03-01T09:53:01.186Z"
   },
   {
    "duration": 16,
    "start_time": "2023-03-01T09:53:09.530Z"
   },
   {
    "duration": 331,
    "start_time": "2023-03-01T09:54:56.630Z"
   },
   {
    "duration": 412,
    "start_time": "2023-03-01T09:55:59.015Z"
   },
   {
    "duration": 13,
    "start_time": "2023-03-01T10:05:19.512Z"
   },
   {
    "duration": 13,
    "start_time": "2023-03-01T10:06:07.889Z"
   },
   {
    "duration": 142,
    "start_time": "2023-03-01T10:07:12.538Z"
   },
   {
    "duration": 185,
    "start_time": "2023-03-01T10:07:39.106Z"
   },
   {
    "duration": 5,
    "start_time": "2023-03-01T10:10:43.595Z"
   },
   {
    "duration": 164,
    "start_time": "2023-03-01T10:15:15.268Z"
   },
   {
    "duration": 126,
    "start_time": "2023-03-01T10:18:59.483Z"
   },
   {
    "duration": 159,
    "start_time": "2023-03-01T10:19:04.390Z"
   },
   {
    "duration": 290,
    "start_time": "2023-03-01T10:19:07.673Z"
   },
   {
    "duration": 1191,
    "start_time": "2023-03-01T10:23:29.022Z"
   },
   {
    "duration": 6,
    "start_time": "2023-03-01T10:24:50.136Z"
   },
   {
    "duration": 55,
    "start_time": "2023-03-02T05:15:20.179Z"
   },
   {
    "duration": 1361,
    "start_time": "2023-03-02T05:16:11.484Z"
   },
   {
    "duration": 63,
    "start_time": "2023-03-02T05:16:12.848Z"
   },
   {
    "duration": 12,
    "start_time": "2023-03-02T05:16:12.913Z"
   },
   {
    "duration": 12,
    "start_time": "2023-03-02T05:16:12.927Z"
   },
   {
    "duration": 15,
    "start_time": "2023-03-02T05:16:12.942Z"
   },
   {
    "duration": 10,
    "start_time": "2023-03-02T05:16:12.958Z"
   },
   {
    "duration": 142,
    "start_time": "2023-03-02T05:16:12.970Z"
   },
   {
    "duration": 8,
    "start_time": "2023-03-02T05:16:13.115Z"
   },
   {
    "duration": 15,
    "start_time": "2023-03-02T05:16:13.125Z"
   },
   {
    "duration": 11,
    "start_time": "2023-03-02T05:16:13.142Z"
   },
   {
    "duration": 21,
    "start_time": "2023-03-02T05:16:13.155Z"
   },
   {
    "duration": 13,
    "start_time": "2023-03-02T05:16:13.178Z"
   },
   {
    "duration": 9,
    "start_time": "2023-03-02T05:16:13.193Z"
   },
   {
    "duration": 4,
    "start_time": "2023-03-02T05:16:13.205Z"
   },
   {
    "duration": 5,
    "start_time": "2023-03-02T05:16:13.211Z"
   },
   {
    "duration": 30,
    "start_time": "2023-03-02T05:16:13.218Z"
   },
   {
    "duration": 174,
    "start_time": "2023-03-02T05:16:13.250Z"
   },
   {
    "duration": 140,
    "start_time": "2023-03-02T05:16:13.426Z"
   },
   {
    "duration": 285,
    "start_time": "2023-03-02T05:16:13.568Z"
   },
   {
    "duration": 314,
    "start_time": "2023-03-02T05:16:13.854Z"
   },
   {
    "duration": 211,
    "start_time": "2023-03-02T05:16:14.170Z"
   },
   {
    "duration": 380,
    "start_time": "2023-03-02T05:16:14.383Z"
   },
   {
    "duration": 236,
    "start_time": "2023-03-02T05:16:14.765Z"
   },
   {
    "duration": 321,
    "start_time": "2023-03-02T05:16:15.002Z"
   },
   {
    "duration": 21,
    "start_time": "2023-03-02T05:16:15.325Z"
   },
   {
    "duration": 168,
    "start_time": "2023-03-02T05:16:15.347Z"
   },
   {
    "duration": 6,
    "start_time": "2023-03-02T05:16:15.517Z"
   },
   {
    "duration": 163,
    "start_time": "2023-03-02T05:16:15.525Z"
   },
   {
    "duration": 198,
    "start_time": "2023-03-02T05:16:15.690Z"
   },
   {
    "duration": 5,
    "start_time": "2023-03-02T05:16:15.891Z"
   },
   {
    "duration": 303,
    "start_time": "2023-03-02T05:16:15.898Z"
   },
   {
    "duration": 75,
    "start_time": "2023-03-02T05:51:21.874Z"
   },
   {
    "duration": 1205,
    "start_time": "2023-03-02T05:51:31.551Z"
   },
   {
    "duration": 28,
    "start_time": "2023-03-02T05:51:32.758Z"
   },
   {
    "duration": 16,
    "start_time": "2023-03-02T05:51:32.788Z"
   },
   {
    "duration": 18,
    "start_time": "2023-03-02T05:51:32.806Z"
   },
   {
    "duration": 18,
    "start_time": "2023-03-02T05:51:32.828Z"
   },
   {
    "duration": 19,
    "start_time": "2023-03-02T05:51:32.849Z"
   },
   {
    "duration": 58,
    "start_time": "2023-03-02T05:51:32.870Z"
   },
   {
    "duration": 12,
    "start_time": "2023-03-02T05:51:32.929Z"
   },
   {
    "duration": 25,
    "start_time": "2023-03-02T05:51:32.943Z"
   },
   {
    "duration": 25,
    "start_time": "2023-03-02T05:51:32.971Z"
   },
   {
    "duration": 15,
    "start_time": "2023-03-02T05:51:32.998Z"
   },
   {
    "duration": 7,
    "start_time": "2023-03-02T05:51:33.015Z"
   },
   {
    "duration": 12,
    "start_time": "2023-03-02T05:51:33.023Z"
   },
   {
    "duration": 5,
    "start_time": "2023-03-02T05:51:33.044Z"
   },
   {
    "duration": 8,
    "start_time": "2023-03-02T05:51:33.051Z"
   },
   {
    "duration": 8,
    "start_time": "2023-03-02T05:51:33.060Z"
   },
   {
    "duration": 210,
    "start_time": "2023-03-02T05:51:33.070Z"
   },
   {
    "duration": 143,
    "start_time": "2023-03-02T05:51:33.282Z"
   },
   {
    "duration": 311,
    "start_time": "2023-03-02T05:51:33.427Z"
   },
   {
    "duration": 332,
    "start_time": "2023-03-02T05:51:33.739Z"
   },
   {
    "duration": 220,
    "start_time": "2023-03-02T05:51:34.073Z"
   },
   {
    "duration": 353,
    "start_time": "2023-03-02T05:51:34.295Z"
   },
   {
    "duration": 300,
    "start_time": "2023-03-02T05:51:34.650Z"
   },
   {
    "duration": 333,
    "start_time": "2023-03-02T05:51:34.953Z"
   },
   {
    "duration": 15,
    "start_time": "2023-03-02T05:51:35.289Z"
   },
   {
    "duration": 179,
    "start_time": "2023-03-02T05:51:35.306Z"
   },
   {
    "duration": 6,
    "start_time": "2023-03-02T05:51:35.487Z"
   },
   {
    "duration": 164,
    "start_time": "2023-03-02T05:51:35.495Z"
   },
   {
    "duration": 195,
    "start_time": "2023-03-02T05:51:35.661Z"
   },
   {
    "duration": 5,
    "start_time": "2023-03-02T05:51:35.858Z"
   },
   {
    "duration": 324,
    "start_time": "2023-03-02T05:51:35.864Z"
   },
   {
    "duration": 3,
    "start_time": "2023-03-02T05:51:36.190Z"
   },
   {
    "duration": 141,
    "start_time": "2023-03-02T05:51:36.195Z"
   },
   {
    "duration": 137,
    "start_time": "2023-03-02T05:54:05.735Z"
   },
   {
    "duration": 243,
    "start_time": "2023-03-02T05:56:10.807Z"
   },
   {
    "duration": 168,
    "start_time": "2023-03-02T05:57:40.020Z"
   },
   {
    "duration": 184,
    "start_time": "2023-03-02T05:58:04.853Z"
   },
   {
    "duration": 15,
    "start_time": "2023-03-02T06:12:29.985Z"
   },
   {
    "duration": 12,
    "start_time": "2023-03-02T06:12:37.573Z"
   },
   {
    "duration": 1047,
    "start_time": "2023-03-02T06:30:35.170Z"
   },
   {
    "duration": 10,
    "start_time": "2023-03-02T06:31:05.186Z"
   },
   {
    "duration": 9,
    "start_time": "2023-03-02T06:31:26.945Z"
   },
   {
    "duration": 9,
    "start_time": "2023-03-02T06:33:04.660Z"
   },
   {
    "duration": 8,
    "start_time": "2023-03-02T06:34:39.257Z"
   },
   {
    "duration": 9,
    "start_time": "2023-03-02T06:35:19.307Z"
   },
   {
    "duration": 24,
    "start_time": "2023-03-02T06:35:26.557Z"
   },
   {
    "duration": 11,
    "start_time": "2023-03-02T06:51:28.220Z"
   },
   {
    "duration": 15,
    "start_time": "2023-03-02T06:51:39.403Z"
   },
   {
    "duration": 1241,
    "start_time": "2023-03-02T08:24:10.604Z"
   },
   {
    "duration": 64,
    "start_time": "2023-03-02T08:24:11.847Z"
   },
   {
    "duration": 14,
    "start_time": "2023-03-02T08:24:11.914Z"
   },
   {
    "duration": 18,
    "start_time": "2023-03-02T08:24:11.930Z"
   },
   {
    "duration": 23,
    "start_time": "2023-03-02T08:24:11.950Z"
   },
   {
    "duration": 13,
    "start_time": "2023-03-02T08:24:11.977Z"
   },
   {
    "duration": 141,
    "start_time": "2023-03-02T08:24:11.992Z"
   },
   {
    "duration": 9,
    "start_time": "2023-03-02T08:24:12.134Z"
   },
   {
    "duration": 22,
    "start_time": "2023-03-02T08:24:12.145Z"
   },
   {
    "duration": 16,
    "start_time": "2023-03-02T08:24:12.171Z"
   },
   {
    "duration": 21,
    "start_time": "2023-03-02T08:24:12.190Z"
   },
   {
    "duration": 17,
    "start_time": "2023-03-02T08:24:12.213Z"
   },
   {
    "duration": 9,
    "start_time": "2023-03-02T08:24:12.244Z"
   },
   {
    "duration": 9,
    "start_time": "2023-03-02T08:24:12.255Z"
   },
   {
    "duration": 12,
    "start_time": "2023-03-02T08:24:12.266Z"
   },
   {
    "duration": 15,
    "start_time": "2023-03-02T08:24:12.281Z"
   },
   {
    "duration": 202,
    "start_time": "2023-03-02T08:24:12.299Z"
   },
   {
    "duration": 186,
    "start_time": "2023-03-02T08:24:12.503Z"
   },
   {
    "duration": 413,
    "start_time": "2023-03-02T08:24:12.691Z"
   },
   {
    "duration": 370,
    "start_time": "2023-03-02T08:24:13.106Z"
   },
   {
    "duration": 250,
    "start_time": "2023-03-02T08:24:13.479Z"
   },
   {
    "duration": 362,
    "start_time": "2023-03-02T08:24:13.731Z"
   },
   {
    "duration": 244,
    "start_time": "2023-03-02T08:24:14.094Z"
   },
   {
    "duration": 321,
    "start_time": "2023-03-02T08:24:14.345Z"
   },
   {
    "duration": 12,
    "start_time": "2023-03-02T08:24:14.668Z"
   },
   {
    "duration": 154,
    "start_time": "2023-03-02T08:24:14.683Z"
   },
   {
    "duration": 6,
    "start_time": "2023-03-02T08:24:14.845Z"
   },
   {
    "duration": 169,
    "start_time": "2023-03-02T08:24:14.855Z"
   },
   {
    "duration": 183,
    "start_time": "2023-03-02T08:24:15.026Z"
   },
   {
    "duration": 6,
    "start_time": "2023-03-02T08:24:15.210Z"
   },
   {
    "duration": 379,
    "start_time": "2023-03-02T08:24:15.218Z"
   },
   {
    "duration": 3,
    "start_time": "2023-03-02T08:24:15.598Z"
   },
   {
    "duration": 246,
    "start_time": "2023-03-02T08:24:15.603Z"
   },
   {
    "duration": 11,
    "start_time": "2023-03-02T08:24:15.851Z"
   },
   {
    "duration": 17,
    "start_time": "2023-03-02T08:24:15.865Z"
   },
   {
    "duration": 27,
    "start_time": "2023-03-02T08:24:15.885Z"
   },
   {
    "duration": 51,
    "start_time": "2023-03-02T08:24:15.914Z"
   },
   {
    "duration": 15,
    "start_time": "2023-03-02T08:24:15.967Z"
   },
   {
    "duration": 1492,
    "start_time": "2023-03-03T11:02:19.584Z"
   },
   {
    "duration": 90,
    "start_time": "2023-03-03T11:02:21.078Z"
   },
   {
    "duration": 21,
    "start_time": "2023-03-03T11:02:21.170Z"
   },
   {
    "duration": 17,
    "start_time": "2023-03-03T11:02:21.193Z"
   },
   {
    "duration": 14,
    "start_time": "2023-03-03T11:02:21.213Z"
   },
   {
    "duration": 36,
    "start_time": "2023-03-03T11:02:21.229Z"
   },
   {
    "duration": 140,
    "start_time": "2023-03-03T11:02:21.277Z"
   },
   {
    "duration": 8,
    "start_time": "2023-03-03T11:02:21.419Z"
   },
   {
    "duration": 15,
    "start_time": "2023-03-03T11:02:21.429Z"
   },
   {
    "duration": 23,
    "start_time": "2023-03-03T11:02:21.446Z"
   },
   {
    "duration": 12,
    "start_time": "2023-03-03T11:02:21.477Z"
   },
   {
    "duration": 9,
    "start_time": "2023-03-03T11:02:21.491Z"
   },
   {
    "duration": 27,
    "start_time": "2023-03-03T11:02:21.502Z"
   },
   {
    "duration": 7,
    "start_time": "2023-03-03T11:02:21.532Z"
   },
   {
    "duration": 11,
    "start_time": "2023-03-03T11:02:21.541Z"
   },
   {
    "duration": 28,
    "start_time": "2023-03-03T11:02:21.554Z"
   },
   {
    "duration": 6,
    "start_time": "2023-03-03T11:02:21.585Z"
   },
   {
    "duration": 226,
    "start_time": "2023-03-03T11:02:21.592Z"
   },
   {
    "duration": 149,
    "start_time": "2023-03-03T11:02:21.820Z"
   },
   {
    "duration": 344,
    "start_time": "2023-03-03T11:02:21.971Z"
   },
   {
    "duration": 428,
    "start_time": "2023-03-03T11:02:22.317Z"
   },
   {
    "duration": 255,
    "start_time": "2023-03-03T11:02:22.747Z"
   },
   {
    "duration": 406,
    "start_time": "2023-03-03T11:02:23.004Z"
   },
   {
    "duration": 268,
    "start_time": "2023-03-03T11:02:23.412Z"
   },
   {
    "duration": 364,
    "start_time": "2023-03-03T11:02:23.681Z"
   },
   {
    "duration": 21,
    "start_time": "2023-03-03T11:02:24.047Z"
   },
   {
    "duration": 215,
    "start_time": "2023-03-03T11:02:24.070Z"
   },
   {
    "duration": 5,
    "start_time": "2023-03-03T11:02:24.287Z"
   },
   {
    "duration": 236,
    "start_time": "2023-03-03T11:02:24.294Z"
   },
   {
    "duration": 271,
    "start_time": "2023-03-03T11:02:24.532Z"
   },
   {
    "duration": 5,
    "start_time": "2023-03-03T11:02:24.805Z"
   },
   {
    "duration": 333,
    "start_time": "2023-03-03T11:02:24.812Z"
   },
   {
    "duration": 3,
    "start_time": "2023-03-03T11:02:25.146Z"
   },
   {
    "duration": 322,
    "start_time": "2023-03-03T11:02:25.150Z"
   },
   {
    "duration": 19,
    "start_time": "2023-03-03T11:02:25.474Z"
   },
   {
    "duration": 11,
    "start_time": "2023-03-03T11:02:25.495Z"
   },
   {
    "duration": 9,
    "start_time": "2023-03-03T11:02:25.508Z"
   },
   {
    "duration": 54,
    "start_time": "2023-03-03T11:02:25.518Z"
   },
   {
    "duration": 17,
    "start_time": "2023-03-03T11:02:25.574Z"
   },
   {
    "duration": 88,
    "start_time": "2023-03-03T11:03:39.927Z"
   },
   {
    "duration": 11,
    "start_time": "2023-03-03T11:03:50.041Z"
   },
   {
    "duration": 5,
    "start_time": "2023-03-03T11:04:13.166Z"
   },
   {
    "duration": 11,
    "start_time": "2023-03-03T11:07:32.985Z"
   },
   {
    "duration": 3,
    "start_time": "2023-03-03T11:11:37.626Z"
   },
   {
    "duration": 40,
    "start_time": "2023-03-03T11:11:37.631Z"
   },
   {
    "duration": 11,
    "start_time": "2023-03-03T11:11:37.673Z"
   },
   {
    "duration": 13,
    "start_time": "2023-03-03T11:11:37.685Z"
   },
   {
    "duration": 9,
    "start_time": "2023-03-03T11:11:37.701Z"
   },
   {
    "duration": 11,
    "start_time": "2023-03-03T11:11:37.711Z"
   },
   {
    "duration": 48,
    "start_time": "2023-03-03T11:11:37.723Z"
   },
   {
    "duration": 7,
    "start_time": "2023-03-03T11:11:37.773Z"
   },
   {
    "duration": 10,
    "start_time": "2023-03-03T11:11:37.783Z"
   },
   {
    "duration": 11,
    "start_time": "2023-03-03T11:11:37.794Z"
   },
   {
    "duration": 13,
    "start_time": "2023-03-03T11:11:37.806Z"
   },
   {
    "duration": 7,
    "start_time": "2023-03-03T11:11:37.820Z"
   },
   {
    "duration": 18,
    "start_time": "2023-03-03T11:11:37.828Z"
   },
   {
    "duration": 3,
    "start_time": "2023-03-03T11:11:37.856Z"
   },
   {
    "duration": 7,
    "start_time": "2023-03-03T11:11:37.860Z"
   },
   {
    "duration": 11,
    "start_time": "2023-03-03T11:11:37.869Z"
   },
   {
    "duration": 7,
    "start_time": "2023-03-03T11:11:37.882Z"
   },
   {
    "duration": 4,
    "start_time": "2023-03-03T11:11:37.891Z"
   },
   {
    "duration": 6,
    "start_time": "2023-03-03T11:11:37.897Z"
   },
   {
    "duration": 187,
    "start_time": "2023-03-03T11:11:37.905Z"
   },
   {
    "duration": 121,
    "start_time": "2023-03-03T11:11:38.094Z"
   },
   {
    "duration": 279,
    "start_time": "2023-03-03T11:11:38.217Z"
   },
   {
    "duration": 195,
    "start_time": "2023-03-03T11:11:38.498Z"
   },
   {
    "duration": 197,
    "start_time": "2023-03-03T11:11:38.694Z"
   },
   {
    "duration": 265,
    "start_time": "2023-03-03T11:11:38.893Z"
   },
   {
    "duration": 198,
    "start_time": "2023-03-03T11:11:39.160Z"
   },
   {
    "duration": 305,
    "start_time": "2023-03-03T11:11:39.360Z"
   },
   {
    "duration": 12,
    "start_time": "2023-03-03T11:11:39.667Z"
   },
   {
    "duration": 152,
    "start_time": "2023-03-03T11:11:39.680Z"
   },
   {
    "duration": 5,
    "start_time": "2023-03-03T11:11:39.833Z"
   },
   {
    "duration": 147,
    "start_time": "2023-03-03T11:11:39.839Z"
   },
   {
    "duration": 154,
    "start_time": "2023-03-03T11:11:39.988Z"
   },
   {
    "duration": 12,
    "start_time": "2023-03-03T11:11:40.143Z"
   },
   {
    "duration": 216,
    "start_time": "2023-03-03T11:11:40.156Z"
   },
   {
    "duration": 2,
    "start_time": "2023-03-03T11:11:40.374Z"
   },
   {
    "duration": 159,
    "start_time": "2023-03-03T11:11:40.378Z"
   },
   {
    "duration": 17,
    "start_time": "2023-03-03T11:11:40.539Z"
   },
   {
    "duration": 9,
    "start_time": "2023-03-03T11:11:40.557Z"
   },
   {
    "duration": 13,
    "start_time": "2023-03-03T11:11:40.567Z"
   },
   {
    "duration": 21,
    "start_time": "2023-03-03T11:11:40.581Z"
   },
   {
    "duration": 12,
    "start_time": "2023-03-03T11:11:40.605Z"
   },
   {
    "duration": 161,
    "start_time": "2023-03-03T11:20:10.082Z"
   },
   {
    "duration": 161,
    "start_time": "2023-03-03T11:20:19.658Z"
   },
   {
    "duration": 11,
    "start_time": "2023-03-03T11:21:53.629Z"
   },
   {
    "duration": 9,
    "start_time": "2023-03-03T11:25:07.791Z"
   },
   {
    "duration": 7,
    "start_time": "2023-03-03T11:25:51.379Z"
   },
   {
    "duration": 23,
    "start_time": "2023-03-03T11:25:55.077Z"
   },
   {
    "duration": 22,
    "start_time": "2023-03-03T11:26:13.921Z"
   },
   {
    "duration": 13,
    "start_time": "2023-03-03T11:27:35.759Z"
   },
   {
    "duration": 1084,
    "start_time": "2023-03-03T16:06:56.179Z"
   },
   {
    "duration": 28,
    "start_time": "2023-03-03T16:06:57.267Z"
   },
   {
    "duration": 11,
    "start_time": "2023-03-03T16:06:57.296Z"
   },
   {
    "duration": 10,
    "start_time": "2023-03-03T16:06:57.309Z"
   },
   {
    "duration": 10,
    "start_time": "2023-03-03T16:06:57.321Z"
   },
   {
    "duration": 10,
    "start_time": "2023-03-03T16:06:57.333Z"
   },
   {
    "duration": 54,
    "start_time": "2023-03-03T16:06:57.344Z"
   },
   {
    "duration": 8,
    "start_time": "2023-03-03T16:06:57.400Z"
   },
   {
    "duration": 27,
    "start_time": "2023-03-03T16:06:57.409Z"
   },
   {
    "duration": 10,
    "start_time": "2023-03-03T16:06:57.438Z"
   },
   {
    "duration": 10,
    "start_time": "2023-03-03T16:06:57.449Z"
   },
   {
    "duration": 6,
    "start_time": "2023-03-03T16:06:57.461Z"
   },
   {
    "duration": 7,
    "start_time": "2023-03-03T16:06:57.468Z"
   },
   {
    "duration": 4,
    "start_time": "2023-03-03T16:06:57.478Z"
   },
   {
    "duration": 21,
    "start_time": "2023-03-03T16:06:57.484Z"
   },
   {
    "duration": 19,
    "start_time": "2023-03-03T16:06:57.507Z"
   },
   {
    "duration": 8,
    "start_time": "2023-03-03T16:06:57.527Z"
   },
   {
    "duration": 4,
    "start_time": "2023-03-03T16:06:57.537Z"
   },
   {
    "duration": 6,
    "start_time": "2023-03-03T16:06:57.542Z"
   },
   {
    "duration": 177,
    "start_time": "2023-03-03T16:06:57.549Z"
   },
   {
    "duration": 129,
    "start_time": "2023-03-03T16:06:57.728Z"
   },
   {
    "duration": 288,
    "start_time": "2023-03-03T16:06:57.859Z"
   },
   {
    "duration": 288,
    "start_time": "2023-03-03T16:06:58.148Z"
   },
   {
    "duration": 206,
    "start_time": "2023-03-03T16:06:58.438Z"
   },
   {
    "duration": 278,
    "start_time": "2023-03-03T16:06:58.645Z"
   },
   {
    "duration": 210,
    "start_time": "2023-03-03T16:06:58.925Z"
   },
   {
    "duration": 292,
    "start_time": "2023-03-03T16:06:59.137Z"
   },
   {
    "duration": 10,
    "start_time": "2023-03-03T16:06:59.431Z"
   },
   {
    "duration": 178,
    "start_time": "2023-03-03T16:06:59.443Z"
   },
   {
    "duration": 7,
    "start_time": "2023-03-03T16:06:59.623Z"
   },
   {
    "duration": 166,
    "start_time": "2023-03-03T16:06:59.631Z"
   },
   {
    "duration": 163,
    "start_time": "2023-03-03T16:06:59.799Z"
   },
   {
    "duration": 5,
    "start_time": "2023-03-03T16:06:59.963Z"
   },
   {
    "duration": 321,
    "start_time": "2023-03-03T16:06:59.970Z"
   },
   {
    "duration": 3,
    "start_time": "2023-03-03T16:07:00.293Z"
   },
   {
    "duration": 227,
    "start_time": "2023-03-03T16:07:00.298Z"
   },
   {
    "duration": 15,
    "start_time": "2023-03-03T16:07:00.527Z"
   },
   {
    "duration": 47,
    "start_time": "2023-03-03T16:07:00.544Z"
   },
   {
    "duration": 122,
    "start_time": "2023-03-03T16:07:00.593Z"
   },
   {
    "duration": 50,
    "start_time": "2023-03-03T16:07:00.716Z"
   },
   {
    "duration": 30,
    "start_time": "2023-03-03T16:07:00.771Z"
   }
  ],
  "kernelspec": {
   "display_name": "Python 3 (ipykernel)",
   "language": "python",
   "name": "python3"
  },
  "language_info": {
   "codemirror_mode": {
    "name": "ipython",
    "version": 3
   },
   "file_extension": ".py",
   "mimetype": "text/x-python",
   "name": "python",
   "nbconvert_exporter": "python",
   "pygments_lexer": "ipython3",
   "version": "3.9.13"
  },
  "toc": {
   "base_numbering": 1,
   "nav_menu": {},
   "number_sections": true,
   "sideBar": true,
   "skip_h1_title": true,
   "title_cell": "Table of Contents",
   "title_sidebar": "Contents",
   "toc_cell": false,
   "toc_position": {
    "height": "calc(100% - 180px)",
    "left": "10px",
    "top": "150px",
    "width": "318.9375px"
   },
   "toc_section_display": true,
   "toc_window_display": true
  }
 },
 "nbformat": 4,
 "nbformat_minor": 2
}
